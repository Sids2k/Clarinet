{
 "cells": [
  {
   "cell_type": "code",
   "execution_count": 1,
   "metadata": {},
   "outputs": [],
   "source": [
    "import miditoolkit"
   ]
  },
  {
   "cell_type": "code",
   "execution_count": 2,
   "metadata": {},
   "outputs": [],
   "source": [
    "import json"
   ]
  },
  {
   "cell_type": "code",
   "execution_count": 3,
   "metadata": {},
   "outputs": [],
   "source": [
    "with open(\"C:/Users/Kshitij Alwadhi/Documents/GitHub/Clarinet/Data/2018\"+'.json', 'r') as f:\n",
    "    fname_to_notes = json.load(f)"
   ]
  },
  {
   "cell_type": "code",
   "execution_count": 4,
   "metadata": {},
   "outputs": [],
   "source": [
    "fname = 'MIDI-Unprocessed_Chamber2_MID--AUDIO_09_R3_2018_wav--1.midi'"
   ]
  },
  {
   "cell_type": "code",
   "execution_count": 5,
   "metadata": {},
   "outputs": [],
   "source": [
    "notes = fname_to_notes[fname]  # (pitch,start,end,velocity)"
   ]
  },
  {
   "cell_type": "code",
   "execution_count": 33,
   "metadata": {},
   "outputs": [],
   "source": [
    "def splitNotes(notes):\n",
    "    new_notes = []\n",
    "    for note in notes:\n",
    "        start = note[1]/1000.\n",
    "        end = note[2]/1000.\n",
    "        startSec = int(start)\n",
    "        endSec = int(end)\n",
    "\n",
    "        if startSec == endSec:\n",
    "            new_notes.append(note)\n",
    "        else:\n",
    "            new_notes.append([note[0],note[1],(startSec+1)*1000,note[3]])\n",
    "            for i in range(startSec+1,endSec-1):\n",
    "                new_notes.append([note[0],int(i*1000),int(i+1)*1000,note[3]])\n",
    "            new_notes.append([note[0],int(endSec*1000),note[2],note[3]])\n",
    "    return new_notes\n",
    "            \n"
   ]
  },
  {
   "cell_type": "code",
   "execution_count": null,
   "metadata": {},
   "outputs": [],
   "source": []
  },
  {
   "cell_type": "code",
   "execution_count": 35,
   "metadata": {},
   "outputs": [],
   "source": [
    "updatedNotes = splitNotes(notes)"
   ]
  },
  {
   "cell_type": "code",
   "execution_count": 52,
   "metadata": {},
   "outputs": [
    {
     "data": {
      "text/plain": [
       "[[81, 594, 1000, 54],\n",
       " [66, 652, 930, 26],\n",
       " [62, 660, 1000, 32],\n",
       " [69, 933, 1000, 30],\n",
       " [81, 1000, 1400, 54],\n",
       " [62, 1000, 1724, 32],\n",
       " [69, 1000, 1102, 30],\n",
       " [66, 1159, 1325, 39],\n",
       " [69, 1336, 1407, 40],\n",
       " [66, 1528, 1709, 31]]"
      ]
     },
     "execution_count": 52,
     "metadata": {},
     "output_type": "execute_result"
    }
   ],
   "source": [
    "temp = sorted(updatedNotes, key=lambda x: x[1])\n",
    "temp[:10]\n"
   ]
  },
  {
   "cell_type": "code",
   "execution_count": 43,
   "metadata": {},
   "outputs": [],
   "source": [
    "def getStrides(notes,size):\n",
    "    notes = sorted(notes, key=lambda x: x[1])\n",
    "    chunks = []\n",
    "    for _ in range(len(notes)):\n",
    "        chunks.append([])\n",
    "    idxmap = {}\n",
    "    for i,note in enumerate(notes):\n",
    "        if note[1] % 1000==0:\n",
    "            if note[1] not in idxmap:\n",
    "                idxmap[note[1]] = i\n",
    "    \n",
    "    cur = 0\n",
    "\n",
    "    for note in notes:\n",
    "        \n",
    "        st = note[1]\n",
    "        if st<=cur+size:\n",
    "            chunks[cur].append(note)\n",
    "        \n",
    "        \n",
    "        \n",
    "        pos = int(note[1]/size)\n",
    "        chunks[pos].append(note)\n",
    "    return chunks\n"
   ]
  },
  {
   "cell_type": "code",
   "execution_count": 48,
   "metadata": {},
   "outputs": [],
   "source": [
    "strides = getStrides(updatedNotes,5000)"
   ]
  },
  {
   "cell_type": "code",
   "execution_count": null,
   "metadata": {},
   "outputs": [],
   "source": []
  },
  {
   "cell_type": "code",
   "execution_count": null,
   "metadata": {},
   "outputs": [],
   "source": []
  }
 ],
 "metadata": {
  "kernelspec": {
   "display_name": "Python 3",
   "language": "python",
   "name": "python3"
  },
  "language_info": {
   "codemirror_mode": {
    "name": "ipython",
    "version": 3
   },
   "file_extension": ".py",
   "mimetype": "text/x-python",
   "name": "python",
   "nbconvert_exporter": "python",
   "pygments_lexer": "ipython3",
   "version": "3.7.6"
  }
 },
 "nbformat": 4,
 "nbformat_minor": 4
}
