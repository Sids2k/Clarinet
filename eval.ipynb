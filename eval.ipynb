{
 "cells": [
  {
   "cell_type": "code",
   "execution_count": null,
   "metadata": {},
   "outputs": [],
   "source": [
    "from evaluate import computeScores\n",
    "import json\n",
    "from tqdm import tqdm\n",
    "import os\n",
    "from os import listdir\n",
    "from evaluate import analyse"
   ]
  },
  {
   "cell_type": "code",
   "execution_count": null,
   "metadata": {},
   "outputs": [],
   "source": [
    "# Noise Experiment \n",
    "\n",
    "# Query Folders to be named as pitch_extranotes_deleted\n",
    "\n",
    "collection_dir=\"Data/Original Collection\"\n",
    "\n",
    "query_dir=\"Data/Expected Noise Queries\"\n",
    "\n",
    "output_dir=\"Results/ExpectedNoisyResults/\"\n",
    "\n",
    "stride_length=15\n",
    "\n",
    "num_queries=-1\n",
    "\n",
    "num_collection=-1\n",
    "\n",
    "if not os.path.exists(output_dir):\n",
    "    os.makedirs(output_dir)\n",
    "computeScores(query_dir,collection_dir,stride_length=stride_length,similarity_type=\"text\",output_dir=output_dir,num_queries=num_queries,num_collection=num_collection)"
   ]
  },
  {
   "cell_type": "code",
   "execution_count": null,
   "metadata": {},
   "outputs": [],
   "source": [
    "# Noise Experiment \n",
    "\n",
    "# Query Folders to be named as pitch_extranotes_deleted\n",
    "\n",
    "collection_dir=\"Data/Original Collection\"\n",
    "\n",
    "query_folders_location=\"Data/Noisy Queries\"\n",
    "\n",
    "for query_dir in tqdm(listdir(query_folders_location)):\n",
    "    output_dir=f\"Results/NoisyResults/{query_dir}\"\n",
    "    if not os.path.exists(output_dir):\n",
    "        os.makedirs(output_dir)\n",
    "    query_dir=f\"{query_folders_location}/{query_dir}\"\n",
    "    computeScores(query_dir,collection_dir,num_queries=5,num_collection=30,similarity_type=\"text\",output_dir=output_dir,stride_length=10)"
   ]
  },
  {
   "cell_type": "code",
   "execution_count": null,
   "metadata": {},
   "outputs": [],
   "source": [
    "# Analysing trends with respect to noise functions-Plot Mean Rank\n",
    "import pandas as pd\n",
    "import matplotlib.pyplot as plt\n",
    "\n",
    "\n",
    "metric=\"Mean Rank\"\n",
    "noise=\"Pitch Change\"\n",
    "output_dir=\"Results/NoisyGraphs\"\n",
    "#result_folders=[\"Results/NoisyResults/1_2_3\",\"Results/NoisyResults/5_6_8\"]\n",
    "\n",
    "\n",
    "\n",
    "result_folders=[f\"Results/{query_dir}\" for query_dir in listdir(query_folders_location)]\n",
    "\n",
    "noise2index={\n",
    "    \"Pitch Change\":0,\n",
    "    \"Extra Notes\":1,\n",
    "    \"Delete Notes\":2,\n",
    "}\n",
    "\n",
    "\n",
    "metric2index={\n",
    "    \"Recall@1\":0,\n",
    "    \"Recall@3\":1,\n",
    "    \"Recall@5\":2,\n",
    "    \"Recall@10\":3,\n",
    "    \"Mean Rank\":4,\n",
    "    \"Normalised Similarity\":5,\n",
    "    \"Margin of Error\":6,\n",
    "    \"Average Confidence\":7,\n",
    "    \"MRR\":8\n",
    "}\n",
    "\n",
    "metric_index=metric2index[metric]\n",
    "noise_index=noise2index[noise]\n",
    "\n",
    "noise_dict={}\n",
    "\n",
    "for folder in result_folders:\n",
    "    noise_value=float(folder.split(\"/\")[-1].split(\"_\")[noise_index])\n",
    "\n",
    "    df=pd.read_csv(f\"{folder}/analysis.csv\")\n",
    "    metric_value=df.iloc[metric_index][\"Value\"]\n",
    "\n",
    "    noise_dict[noise_value]=metric_value\n",
    "\n",
    "X=list(noise_dict.keys())\n",
    "Y=list(noise_dict.values())\n",
    "plt.plot(X,Y,c=\"r\")\n",
    "plt.title(f\"{metric} vs {noise}\", fontsize=12, weight='bold')\n",
    "plt.xlabel(f\"{noise}(%)\", fontsize=12)\n",
    "plt.ylabel(f\"{metric}\", fontsize=12)\n",
    "plt.savefig(f\"{output_dir}/{metric}VS{noise}.png\".replace(\" \",\"\"))"
   ]
  }
 ],
 "metadata": {
  "interpreter": {
   "hash": "aee8b7b246df8f9039afb4144a1f6fd8d2ca17a180786b69acc140d282b71a49"
  },
  "kernelspec": {
   "display_name": "Python 3",
   "language": "python",
   "name": "python3"
  },
  "language_info": {
   "codemirror_mode": {
    "name": "ipython",
    "version": 3
   },
   "file_extension": ".py",
   "mimetype": "text/x-python",
   "name": "python",
   "nbconvert_exporter": "python",
   "pygments_lexer": "ipython3",
   "version": "3.7.6"
  }
 },
 "nbformat": 4,
 "nbformat_minor": 4
}
