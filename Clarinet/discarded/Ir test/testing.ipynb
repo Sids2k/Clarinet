{
 "cells": [
  {
   "cell_type": "code",
   "execution_count": 1,
   "metadata": {},
   "outputs": [],
   "source": [
    "import json"
   ]
  },
  {
   "cell_type": "code",
   "execution_count": 2,
   "metadata": {},
   "outputs": [],
   "source": [
    "with open(\"C:/Users/Kshitij Alwadhi/Documents/GitHub/Clarinet/Data/Json/2018/\"+'notes.json', 'r') as f:\n",
    "    fname_to_notes = json.load(f)"
   ]
  },
  {
   "cell_type": "code",
   "execution_count": 3,
   "metadata": {},
   "outputs": [],
   "source": [
    "fname = 'MIDI-Unprocessed_Chamber2_MID--AUDIO_09_R3_2018_wav--1.midi'"
   ]
  },
  {
   "cell_type": "code",
   "execution_count": 4,
   "metadata": {},
   "outputs": [],
   "source": [
    "notes = fname_to_notes[fname]  # (pitch,start,end,velocity)"
   ]
  },
  {
   "cell_type": "code",
   "execution_count": 6,
   "metadata": {},
   "outputs": [
    {
     "data": {
      "text/plain": [
       "{31,\n",
       " 33,\n",
       " 34,\n",
       " 35,\n",
       " 37,\n",
       " 38,\n",
       " 40,\n",
       " 42,\n",
       " 43,\n",
       " 44,\n",
       " 45,\n",
       " 46,\n",
       " 47,\n",
       " 49,\n",
       " 50,\n",
       " 52,\n",
       " 53,\n",
       " 54,\n",
       " 55,\n",
       " 56,\n",
       " 57,\n",
       " 58,\n",
       " 59,\n",
       " 60,\n",
       " 61,\n",
       " 62,\n",
       " 63,\n",
       " 64,\n",
       " 65,\n",
       " 66,\n",
       " 67,\n",
       " 68,\n",
       " 69,\n",
       " 70,\n",
       " 71,\n",
       " 72,\n",
       " 73,\n",
       " 74,\n",
       " 75,\n",
       " 76,\n",
       " 77,\n",
       " 78,\n",
       " 79,\n",
       " 80,\n",
       " 81,\n",
       " 82,\n",
       " 83,\n",
       " 84,\n",
       " 85,\n",
       " 86,\n",
       " 88,\n",
       " 89}"
      ]
     },
     "execution_count": 6,
     "metadata": {},
     "output_type": "execute_result"
    }
   ],
   "source": [
    "ss = set()\n",
    "for n in notes:\n",
    "    ss.add(n[0])\n",
    "ss"
   ]
  },
  {
   "cell_type": "code",
   "execution_count": 9,
   "metadata": {},
   "outputs": [],
   "source": [
    "def splitNotes(notes):\n",
    "    new_notes = []\n",
    "    for note in notes:\n",
    "        start = note[1]/1000.\n",
    "        end = note[2]/1000.\n",
    "        startSec = int(start)\n",
    "        endSec = int(end)\n",
    "\n",
    "        if startSec == endSec:\n",
    "            new_notes.append(note)\n",
    "        else:\n",
    "            new_notes.append([note[0],note[1],(startSec+1)*1000,note[3]])\n",
    "            for i in range(startSec+1,endSec-1):\n",
    "                new_notes.append([note[0],int(i*1000),int(i+1)*1000,note[3]])\n",
    "            new_notes.append([note[0],int(endSec*1000),note[2],note[3]])\n",
    "    return new_notes\n",
    "            \n"
   ]
  },
  {
   "cell_type": "code",
   "execution_count": 10,
   "metadata": {},
   "outputs": [],
   "source": [
    "updatedNotes = splitNotes(notes)"
   ]
  },
  {
   "cell_type": "code",
   "execution_count": 70,
   "metadata": {},
   "outputs": [],
   "source": [
    "def getStrides(notes,size):\n",
    "    notes = sorted(notes, key=lambda x: x[1])\n",
    "    chunks = []\n",
    "    for _ in range(len(notes)):\n",
    "        chunks.append([])\n",
    "\n",
    "    curT = 0\n",
    "    nextidx = 0\n",
    "    flag = False\n",
    "\n",
    "    i = 0\n",
    "    while(i<len(notes)):\n",
    "        st = notes[i][1]\n",
    "        maxT = curT+ size\n",
    "        if st>=maxT:\n",
    "            curT +=1000\n",
    "            i = nextidx\n",
    "            flag = False\n",
    "            continue\n",
    "\n",
    "        if st % 1000 == 0 and flag == False and st!=curT:\n",
    "            nextidx = i\n",
    "            flag = True\n",
    "    \n",
    "        pos = int(curT/1000)\n",
    "        chunks[pos].append(notes[i])\n",
    "        i+=1\n",
    "    ans = []\n",
    "    for c in chunks:\n",
    "        if len(c)>0:\n",
    "            ans.append(c)\n",
    "    return ans\n"
   ]
  },
  {
   "cell_type": "code",
   "execution_count": 71,
   "metadata": {},
   "outputs": [],
   "source": [
    "strides = getStrides(updatedNotes,5000)"
   ]
  },
  {
   "cell_type": "code",
   "execution_count": 83,
   "metadata": {},
   "outputs": [
    {
     "data": {
      "text/plain": [
       "51"
      ]
     },
     "execution_count": 83,
     "metadata": {},
     "output_type": "execute_result"
    }
   ],
   "source": [
    "len(strides[0])"
   ]
  },
  {
   "cell_type": "code",
   "execution_count": 81,
   "metadata": {},
   "outputs": [],
   "source": [
    "import numpy as np"
   ]
  },
  {
   "cell_type": "code",
   "execution_count": 84,
   "metadata": {},
   "outputs": [],
   "source": [
    "def getVector(notes):\n",
    "    vec = np.zeros(128)\n",
    "    pitch_to_drn = {}\n",
    "    for note in notes:\n",
    "        pitch = note[0]\n",
    "        vel = note[3]\n",
    "        drn = note[2]-note[1]\n",
    "        if pitch in pitch_to_drn:\n",
    "            pitch_to_drn[pitch] += drn\n",
    "        else:\n",
    "            pitch_to_drn[pitch] = drn\n",
    "    \n",
    "    for pitch in pitch_to_drn:\n",
    "        vec[pitch] = pitch_to_drn[pitch]\n",
    "    return vec"
   ]
  },
  {
   "cell_type": "code",
   "execution_count": 85,
   "metadata": {},
   "outputs": [
    {
     "data": {
      "text/plain": [
       "array([   0.,    0.,    0.,    0.,    0.,    0.,    0.,    0.,    0.,\n",
       "          0.,    0.,    0.,    0.,    0.,    0.,    0.,    0.,    0.,\n",
       "          0.,    0.,    0.,    0.,    0.,    0.,    0.,    0.,    0.,\n",
       "          0.,    0.,    0.,    0.,    0.,    0.,    0.,    0.,    0.,\n",
       "          0.,    0.,    0.,    0.,    0.,    0.,    0.,    0.,    0.,\n",
       "          0.,    0.,    0.,    0.,    0.,    0.,    0.,    0.,    0.,\n",
       "          0.,    0.,    0.,  471.,    0.,    0.,    0.,  144., 2243.,\n",
       "          0.,    0.,    0., 1659.,  122.,    0., 1098.,    0.,    0.,\n",
       "          0.,    0.,  579.,    0.,  189.,    0., 1348.,    0.,    0.,\n",
       "       1257.,    0.,    0.,    0.,    0.,  143.,    0.,    0.,    0.,\n",
       "          0.,    0.,    0.,    0.,    0.,    0.,    0.,    0.,    0.,\n",
       "          0.,    0.,    0.,    0.,    0.,    0.,    0.,    0.,    0.,\n",
       "          0.,    0.,    0.,    0.,    0.,    0.,    0.,    0.,    0.,\n",
       "          0.,    0.,    0.,    0.,    0.,    0.,    0.,    0.,    0.,\n",
       "          0.,    0.])"
      ]
     },
     "execution_count": 85,
     "metadata": {},
     "output_type": "execute_result"
    }
   ],
   "source": [
    "getVector(strides[0])"
   ]
  },
  {
   "cell_type": "code",
   "execution_count": 86,
   "metadata": {},
   "outputs": [],
   "source": [
    "def getSim(queryVec, docVec):\n",
    "    if np.linalg.norm(queryVec) == 0 or np.linalg.norm(docVec) == 0:\n",
    "        return 0.0\n",
    "    return np.dot(queryVec, docVec)/(np.linalg.norm(queryVec) * np.linalg.norm(docVec))"
   ]
  },
  {
   "cell_type": "code",
   "execution_count": 93,
   "metadata": {},
   "outputs": [
    {
     "data": {
      "text/plain": [
       "0.9899886151082533"
      ]
     },
     "execution_count": 93,
     "metadata": {},
     "output_type": "execute_result"
    }
   ],
   "source": [
    "getSim(getVector(strides[0]),getVector(strides[4]))"
   ]
  },
  {
   "cell_type": "code",
   "execution_count": 88,
   "metadata": {},
   "outputs": [
    {
     "data": {
      "text/plain": [
       "0.9867138053699629"
      ]
     },
     "execution_count": 88,
     "metadata": {},
     "output_type": "execute_result"
    }
   ],
   "source": [
    "getSim(getVector(strides[1]), getVector(strides[2]))\n"
   ]
  },
  {
   "cell_type": "code",
   "execution_count": null,
   "metadata": {},
   "outputs": [],
   "source": []
  },
  {
   "cell_type": "code",
   "execution_count": null,
   "metadata": {},
   "outputs": [],
   "source": []
  },
  {
   "cell_type": "code",
   "execution_count": null,
   "metadata": {},
   "outputs": [],
   "source": []
  },
  {
   "cell_type": "code",
   "execution_count": 97,
   "metadata": {},
   "outputs": [
    {
     "data": {
      "text/plain": [
       "0.4202470286393309"
      ]
     },
     "execution_count": 97,
     "metadata": {},
     "output_type": "execute_result"
    }
   ],
   "source": [
    "fn = \"MIDI-Unprocessed_Chamber4_MID--AUDIO_11_R3_2018_wav--1.midi\"\n",
    "notes2 = fname_to_notes[fn]  # (pitch,start,end,velocity)\n",
    "updatedNotes2 = splitNotes(notes2)\n",
    "strides2 = getStrides(updatedNotes2, 5000)\n",
    "getSim(getVector(strides[0]),getVector(strides2[11]))"
   ]
  },
  {
   "cell_type": "code",
   "execution_count": null,
   "metadata": {},
   "outputs": [],
   "source": []
  }
 ],
 "metadata": {
  "kernelspec": {
   "display_name": "Python 3",
   "language": "python",
   "name": "python3"
  },
  "language_info": {
   "codemirror_mode": {
    "name": "ipython",
    "version": 3
   },
   "file_extension": ".py",
   "mimetype": "text/x-python",
   "name": "python",
   "nbconvert_exporter": "python",
   "pygments_lexer": "ipython3",
   "version": "3.7.6"
  }
 },
 "nbformat": 4,
 "nbformat_minor": 4
}
