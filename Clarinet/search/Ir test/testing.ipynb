{
 "cells": [
  {
   "cell_type": "code",
   "execution_count": 13,
   "metadata": {},
   "outputs": [],
   "source": [
    "import miditoolkit"
   ]
  },
  {
   "cell_type": "code",
   "execution_count": 14,
   "metadata": {},
   "outputs": [],
   "source": [
    "fname = \"MIDI-Unprocessed_Chamber2_MID--AUDIO_09_R3_2018_wav--1.mid\""
   ]
  },
  {
   "cell_type": "code",
   "execution_count": 15,
   "metadata": {},
   "outputs": [],
   "source": [
    "mid_in = miditoolkit.midi.parser.MidiFile(fname)"
   ]
  },
  {
   "cell_type": "code",
   "execution_count": 16,
   "metadata": {},
   "outputs": [],
   "source": [
    "notes=mid_in.instruments[0].notes"
   ]
  },
  {
   "cell_type": "code",
   "execution_count": 17,
   "metadata": {},
   "outputs": [],
   "source": [
    "notes = sorted(notes,key=lambda x: x.start)"
   ]
  },
  {
   "cell_type": "markdown",
   "metadata": {},
   "source": []
  },
  {
   "cell_type": "code",
   "execution_count": 18,
   "metadata": {},
   "outputs": [],
   "source": [
    "lis = [] # (pitch,start,end,velocity)\n",
    "for e in notes:\n",
    "    lis.append([e.pitch,e.start,e.end,e.velocity])"
   ]
  },
  {
   "cell_type": "code",
   "execution_count": 19,
   "metadata": {},
   "outputs": [
    {
     "data": {
      "text/plain": [
       "4991"
      ]
     },
     "execution_count": 19,
     "metadata": {},
     "output_type": "execute_result"
    }
   ],
   "source": [
    "len(lis)"
   ]
  },
  {
   "cell_type": "code",
   "execution_count": 27,
   "metadata": {},
   "outputs": [],
   "source": [
    "pitches = {}\n",
    "for n in notes:\n",
    "    if n.pitch in pitches:\n",
    "        pitches[n.pitch] +=1\n",
    "    else:\n",
    "        pitches[n.pitch] = 1"
   ]
  },
  {
   "cell_type": "code",
   "execution_count": 29,
   "metadata": {},
   "outputs": [
    {
     "data": {
      "text/plain": [
       "{81: 370,\n",
       " 66: 355,\n",
       " 62: 378,\n",
       " 69: 353,\n",
       " 86: 123,\n",
       " 78: 445,\n",
       " 74: 404,\n",
       " 57: 194,\n",
       " 76: 297,\n",
       " 61: 117,\n",
       " 67: 145,\n",
       " 50: 138,\n",
       " 73: 142,\n",
       " 45: 78,\n",
       " 49: 29,\n",
       " 52: 32,\n",
       " 54: 98,\n",
       " 79: 237,\n",
       " 64: 114,\n",
       " 85: 65,\n",
       " 80: 80,\n",
       " 83: 116,\n",
       " 77: 84,\n",
       " 75: 24,\n",
       " 71: 84,\n",
       " 88: 27,\n",
       " 89: 7,\n",
       " 72: 10,\n",
       " 68: 29,\n",
       " 47: 34,\n",
       " 59: 43,\n",
       " 43: 25,\n",
       " 55: 50,\n",
       " 60: 7,\n",
       " 38: 45,\n",
       " 42: 26,\n",
       " 56: 10,\n",
       " 40: 15,\n",
       " 33: 11,\n",
       " 37: 12,\n",
       " 84: 10,\n",
       " 82: 15,\n",
       " 58: 11,\n",
       " 70: 23,\n",
       " 63: 8,\n",
       " 65: 58,\n",
       " 35: 4,\n",
       " 31: 1,\n",
       " 53: 1,\n",
       " 46: 5,\n",
       " 34: 1,\n",
       " 44: 1}"
      ]
     },
     "execution_count": 29,
     "metadata": {},
     "output_type": "execute_result"
    }
   ],
   "source": [
    "pitches"
   ]
  },
  {
   "cell_type": "code",
   "execution_count": null,
   "metadata": {},
   "outputs": [],
   "source": []
  }
 ],
 "metadata": {
  "kernelspec": {
   "display_name": "Python 3",
   "language": "python",
   "name": "python3"
  },
  "language_info": {
   "codemirror_mode": {
    "name": "ipython",
    "version": 3
   },
   "file_extension": ".py",
   "mimetype": "text/x-python",
   "name": "python",
   "nbconvert_exporter": "python",
   "pygments_lexer": "ipython3",
   "version": "3.7.6"
  }
 },
 "nbformat": 4,
 "nbformat_minor": 4
}
