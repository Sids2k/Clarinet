{
 "cells": [
  {
   "cell_type": "code",
   "execution_count": 3,
   "metadata": {},
   "outputs": [],
   "source": [
    "import json"
   ]
  },
  {
   "cell_type": "code",
   "execution_count": 6,
   "metadata": {},
   "outputs": [],
   "source": [
    "with open(\"C:/Users/Kshitij Alwadhi/Documents/GitHub/Clarinet/Data/Json/2018/\"+'notes.json', 'r') as f:\n",
    "    fname_to_notes = json.load(f)"
   ]
  },
  {
   "cell_type": "code",
   "execution_count": 7,
   "metadata": {},
   "outputs": [],
   "source": [
    "fname = 'MIDI-Unprocessed_Chamber2_MID--AUDIO_09_R3_2018_wav--1.midi'"
   ]
  },
  {
   "cell_type": "code",
   "execution_count": 8,
   "metadata": {},
   "outputs": [],
   "source": [
    "notes = fname_to_notes[fname]  # (pitch,start,end,velocity)"
   ]
  },
  {
   "cell_type": "code",
   "execution_count": 9,
   "metadata": {},
   "outputs": [],
   "source": [
    "def splitNotes(notes):\n",
    "    new_notes = []\n",
    "    for note in notes:\n",
    "        start = note[1]/1000.\n",
    "        end = note[2]/1000.\n",
    "        startSec = int(start)\n",
    "        endSec = int(end)\n",
    "\n",
    "        if startSec == endSec:\n",
    "            new_notes.append(note)\n",
    "        else:\n",
    "            new_notes.append([note[0],note[1],(startSec+1)*1000,note[3]])\n",
    "            for i in range(startSec+1,endSec-1):\n",
    "                new_notes.append([note[0],int(i*1000),int(i+1)*1000,note[3]])\n",
    "            new_notes.append([note[0],int(endSec*1000),note[2],note[3]])\n",
    "    return new_notes\n",
    "            \n"
   ]
  },
  {
   "cell_type": "code",
   "execution_count": 10,
   "metadata": {},
   "outputs": [],
   "source": [
    "updatedNotes = splitNotes(notes)"
   ]
  },
  {
   "cell_type": "code",
   "execution_count": 70,
   "metadata": {},
   "outputs": [],
   "source": [
    "def getStrides(notes,size):\n",
    "    notes = sorted(notes, key=lambda x: x[1])\n",
    "    chunks = []\n",
    "    for _ in range(len(notes)):\n",
    "        chunks.append([])\n",
    "\n",
    "    curT = 0\n",
    "    nextidx = 0\n",
    "    flag = False\n",
    "\n",
    "    i = 0\n",
    "    while(i<len(notes)):\n",
    "        st = notes[i][1]\n",
    "        maxT = curT+ size\n",
    "        if st>=maxT:\n",
    "            curT +=1000\n",
    "            i = nextidx\n",
    "            flag = False\n",
    "            continue\n",
    "\n",
    "        if st % 1000 == 0 and flag == False and st!=curT:\n",
    "            nextidx = i\n",
    "            flag = True\n",
    "    \n",
    "        pos = int(curT/1000)\n",
    "        chunks[pos].append(notes[i])\n",
    "        i+=1\n",
    "    ans = []\n",
    "    for c in chunks:\n",
    "        if len(c)>0:\n",
    "            ans.append(c)\n",
    "    return ans\n"
   ]
  },
  {
   "cell_type": "code",
   "execution_count": 71,
   "metadata": {},
   "outputs": [],
   "source": [
    "strides = getStrides(updatedNotes,5000)"
   ]
  },
  {
   "cell_type": "code",
   "execution_count": null,
   "metadata": {},
   "outputs": [],
   "source": []
  },
  {
   "cell_type": "code",
   "execution_count": null,
   "metadata": {},
   "outputs": [],
   "source": []
  },
  {
   "cell_type": "code",
   "execution_count": null,
   "metadata": {},
   "outputs": [],
   "source": []
  },
  {
   "cell_type": "code",
   "execution_count": null,
   "metadata": {},
   "outputs": [],
   "source": []
  }
 ],
 "metadata": {
  "kernelspec": {
   "display_name": "Python 3",
   "language": "python",
   "name": "python3"
  },
  "language_info": {
   "codemirror_mode": {
    "name": "ipython",
    "version": 3
   },
   "file_extension": ".py",
   "mimetype": "text/x-python",
   "name": "python",
   "nbconvert_exporter": "python",
   "pygments_lexer": "ipython3",
   "version": "3.7.6"
  }
 },
 "nbformat": 4,
 "nbformat_minor": 4
}
