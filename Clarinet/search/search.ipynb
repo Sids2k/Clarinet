{
 "cells": [
  {
   "cell_type": "code",
   "execution_count": 1,
   "metadata": {},
   "outputs": [],
   "source": [
    "import json"
   ]
  },
  {
   "cell_type": "code",
   "execution_count": 8,
   "metadata": {},
   "outputs": [],
   "source": [
    "data_dir = \"C:/Users/Kshitij Alwadhi/Documents/GitHub/Clarinet/Data/Json/2018_clipped/\"+'notes.json'\n",
    "queries = \"C:/Users/Kshitij Alwadhi/Documents/GitHub/Clarinet/Data/Json/2018_queries/\"+'notes.json'"
   ]
  },
  {
   "cell_type": "code",
   "execution_count": 3,
   "metadata": {},
   "outputs": [],
   "source": [
    "def splitNotes(notes):\n",
    "    new_notes = []\n",
    "    for note in notes:\n",
    "        start = note[1]/1000.\n",
    "        end = note[2]/1000.\n",
    "        startSec = int(start)\n",
    "        endSec = int(end)\n",
    "\n",
    "        if startSec == endSec:\n",
    "            new_notes.append(note)\n",
    "        else:\n",
    "            new_notes.append([note[0], note[1], (startSec+1)*1000, note[3]])\n",
    "            for i in range(startSec+1, endSec-1):\n",
    "                new_notes.append([note[0], int(i*1000), int(i+1)*1000, note[3]])\n",
    "            new_notes.append([note[0], int(endSec*1000), note[2], note[3]])\n",
    "    return new_notes\n"
   ]
  },
  {
   "cell_type": "code",
   "execution_count": 4,
   "metadata": {},
   "outputs": [],
   "source": [
    "def getStrides(notes, size):\n",
    "    notes = sorted(notes, key=lambda x: x[1])\n",
    "    chunks = []\n",
    "    for _ in range(len(notes)):\n",
    "        chunks.append([])\n",
    "\n",
    "    curT = 0\n",
    "    nextidx = 0\n",
    "    flag = False\n",
    "\n",
    "    i = 0\n",
    "    while(i < len(notes)):\n",
    "        st = notes[i][1]\n",
    "        maxT = curT + size\n",
    "        if st >= maxT:\n",
    "            curT += 1000\n",
    "            i = nextidx\n",
    "            flag = False\n",
    "            continue\n",
    "\n",
    "        if st % 1000 == 0 and flag == False and st != curT:\n",
    "            nextidx = i\n",
    "            flag = True\n",
    "\n",
    "        pos = int(curT/1000)\n",
    "        chunks[pos].append(notes[i])\n",
    "        i += 1\n",
    "    ans = []\n",
    "    for c in chunks:\n",
    "        if len(c) > 0:\n",
    "            ans.append(c)\n",
    "    return ans"
   ]
  },
  {
   "cell_type": "code",
   "execution_count": 5,
   "metadata": {},
   "outputs": [],
   "source": [
    "with open(data_dir, 'r') as f:\n",
    "    fname_to_notes = json.load(f)\n"
   ]
  },
  {
   "cell_type": "code",
   "execution_count": 6,
   "metadata": {},
   "outputs": [],
   "source": [
    "# a function which calculates the edit distance between two strings\n",
    "def edit_distance(s1, s2):\n",
    "    m = len(s1)\n",
    "    n = len(s2)\n",
    "    dp = [[0 for x in range(n+1)] for x in range(m+1)]\n",
    "    for i in range(m+1):\n",
    "        for j in range(n+1):\n",
    "            if i == 0:\n",
    "                dp[i][j] = j\n",
    "            elif j == 0:\n",
    "                dp[i][j] = i\n",
    "            elif s1[i-1] == s2[j-1]:\n",
    "                dp[i][j] = dp[i-1][j-1]\n",
    "            else:\n",
    "                dp[i][j] = 1 + min(dp[i][j-1], dp[i-1][j], dp[i-1][j-1])\n",
    "    return dp[m][n]\n",
    "\n",
    "\n",
    "# a function which calculates the similarity between two strings\n",
    "def similarity(s1, s2):\n",
    "    return 1 - edit_distance(s1, s2) / max(len(s1), len(s2))\n",
    "\n",
    "\n",
    "midiEt_to_note = {\n",
    "    12: \"C\",\n",
    "    13: \"C#\",\n",
    "    14: \"D\",\n",
    "    15: \"D#\",\n",
    "    16: \"E\",\n",
    "    17: \"F\",\n",
    "    18: \"F#\",\n",
    "    19: \"G\",\n",
    "    20: \"G#\",\n",
    "    21: \"A\",\n",
    "    22: \"A#\",\n",
    "    23: \"B\"\n",
    "}\n",
    "\n",
    "\n",
    "# a function which converts a sequence of midiEt to a sequence of notes\n",
    "def midiEt_to_note_sequence(midiEt_sequence):\n",
    "    note_sequence = []\n",
    "    for midiEt in midiEt_sequence:\n",
    "        num = midiEt % 12\n",
    "        note_sequence.append(midiEt_to_note[num + 12])\n",
    "    return \"\".join(note_sequence)"
   ]
  },
  {
   "cell_type": "code",
   "execution_count": 7,
   "metadata": {},
   "outputs": [],
   "source": [
    "def compute_similarities(query):\n",
    "    fname_to_similarity = {}\n",
    "    for fname in fname_to_notes:\n",
    "        sim = 0\n",
    "        notes = fname_to_notes[fname]\n",
    "        notes = splitNotes(notes)\n",
    "        strides = getStrides(notes, 5000)\n",
    "\n",
    "        for stride in strides:\n",
    "            stride_notes = [note[0] for note in stride]\n",
    "            note_sequence = midiEt_to_note_sequence(stride_notes)\n",
    "            sim = max(sim, similarity(query, note_sequence))\n",
    "        fname_to_similarity[fname] = sim\n",
    "    return fname_to_similarity"
   ]
  },
  {
   "cell_type": "code",
   "execution_count": null,
   "metadata": {},
   "outputs": [],
   "source": []
  },
  {
   "cell_type": "code",
   "execution_count": 24,
   "metadata": {},
   "outputs": [],
   "source": [
    "query = \"AAF#DAF#AADADF#AAF#F#DAF#AF#DAAF#AF#DAF#ADF#F#AF#EGC#F#EAF#DDF#\""
   ]
  },
  {
   "cell_type": "code",
   "execution_count": 26,
   "metadata": {},
   "outputs": [],
   "source": [
    "fname = 'MIDI-Unprocessed_Chamber2_MID--AUDIO_09_R3_2018_wav--1_melody.mid'\n",
    "notes = fname_to_notes[fname]  # (pitch,start,end,velocity)\n",
    "updatedNotes = splitNotes(notes)\n",
    "strides = getStrides(updatedNotes, 5000)\n",
    "sim = 0\n",
    "for stride in strides:\n",
    "    stride_notes = [note[0] for note in stride]\n",
    "    note_sequence = midiEt_to_note_sequence(stride_notes)\n",
    "    #print(note_sequence)\n",
    "    sim = max(sim, similarity(query, note_sequence))\n"
   ]
  },
  {
   "cell_type": "code",
   "execution_count": 25,
   "metadata": {},
   "outputs": [
    {
     "data": {
      "text/plain": [
       "0.1578947368421053"
      ]
     },
     "execution_count": 25,
     "metadata": {},
     "output_type": "execute_result"
    }
   ],
   "source": [
    "sim"
   ]
  },
  {
   "cell_type": "code",
   "execution_count": 27,
   "metadata": {},
   "outputs": [
    {
     "data": {
      "text/plain": [
       "0.8095238095238095"
      ]
     },
     "execution_count": 27,
     "metadata": {},
     "output_type": "execute_result"
    }
   ],
   "source": [
    "sim"
   ]
  },
  {
   "cell_type": "code",
   "execution_count": null,
   "metadata": {},
   "outputs": [],
   "source": []
  },
  {
   "cell_type": "code",
   "execution_count": null,
   "metadata": {},
   "outputs": [],
   "source": []
  },
  {
   "cell_type": "code",
   "execution_count": null,
   "metadata": {},
   "outputs": [],
   "source": []
  },
  {
   "cell_type": "code",
   "execution_count": 9,
   "metadata": {},
   "outputs": [],
   "source": [
    "with open(queries, 'r') as f:\n",
    "    queries_to_notes = json.load(f)"
   ]
  },
  {
   "cell_type": "code",
   "execution_count": 12,
   "metadata": {},
   "outputs": [],
   "source": [
    "qname = \"MIDI-Unprocessed_Recital1-3_MID--AUDIO_01_R1_2018_wav--4_query.mid\"\n"
   ]
  },
  {
   "cell_type": "code",
   "execution_count": 13,
   "metadata": {},
   "outputs": [],
   "source": [
    "qnotes = queries_to_notes[qname]"
   ]
  },
  {
   "cell_type": "code",
   "execution_count": 14,
   "metadata": {},
   "outputs": [],
   "source": [
    "qnotes = [note[0] for note in qnotes]\n",
    "query = midiEt_to_note_sequence(qnotes)\n"
   ]
  },
  {
   "cell_type": "code",
   "execution_count": 16,
   "metadata": {},
   "outputs": [],
   "source": [
    "fname_to_similarity = compute_similarities(query)"
   ]
  },
  {
   "cell_type": "code",
   "execution_count": 19,
   "metadata": {},
   "outputs": [
    {
     "data": {
      "text/plain": [
       "{'MIDI-Unprocessed_Recital1-3_MID--AUDIO_01_R1_2018_wav--4.midi': 0.7735849056603774,\n",
       " 'MIDI-Unprocessed_Recital17-19_MID--AUDIO_18_R1_2018_wav--2.midi': 0.6346153846153846,\n",
       " 'MIDI-Unprocessed_Recital9-11_MID--AUDIO_10_R1_2018_wav--2.midi': 0.6226415094339622,\n",
       " 'MIDI-Unprocessed_Recital13-15_MID--AUDIO_14_R1_2018_wav--4.midi': 0.5869565217391304,\n",
       " 'MIDI-Unprocessed_Recital17-19_MID--AUDIO_19_R1_2018_wav--2.midi': 0.5769230769230769,\n",
       " 'MIDI-Unprocessed_Recital4_MID--AUDIO_04_R1_2018_wav--5.midi': 0.5609756097560976,\n",
       " 'MIDI-Unprocessed_Recital20_MID--AUDIO_20_R1_2018_wav--4.midi': 0.5476190476190477,\n",
       " 'MIDI-Unprocessed_Recital12_MID--AUDIO_12_R1_2018_wav--2.midi': 0.5454545454545454,\n",
       " 'MIDI-Unprocessed_Recital13-15_MID--AUDIO_13_R1_2018_wav--1.midi': 0.5254237288135593,\n",
       " 'MIDI-Unprocessed_Schubert1-3_MID--AUDIO_05_R2_2018_wav.midi': 0.5121951219512195,\n",
       " 'MIDI-Unprocessed_Schubert7-9_MID--AUDIO_16_R2_2018_wav.midi': 0.5121951219512195,\n",
       " 'MIDI-Unprocessed_Recital9-11_MID--AUDIO_10_R1_2018_wav--3.midi': 0.5106382978723405,\n",
       " 'MIDI-Unprocessed_Recital13-15_MID--AUDIO_13_R1_2018_wav--2.midi': 0.5,\n",
       " 'MIDI-Unprocessed_Recital4_MID--AUDIO_04_R1_2018_wav--1.midi': 0.5,\n",
       " 'MIDI-Unprocessed_Recital13-15_MID--AUDIO_15_R1_2018_wav--2.midi': 0.4878048780487805,\n",
       " 'MIDI-Unprocessed_Recital1-3_MID--AUDIO_02_R1_2018_wav--3.midi': 0.4821428571428571,\n",
       " 'MIDI-Unprocessed_Recital9-11_MID--AUDIO_10_R1_2018_wav--1.midi': 0.47540983606557374,\n",
       " 'MIDI-Unprocessed_Recital13-15_MID--AUDIO_15_R1_2018_wav--3.midi': 0.4727272727272728,\n",
       " 'MIDI-Unprocessed_Recital5-7_MID--AUDIO_05_R1_2018_wav--2.midi': 0.4716981132075472,\n",
       " 'MIDI-Unprocessed_Recital8_MID--AUDIO_08_R1_2018_wav--3.midi': 0.47058823529411764,\n",
       " 'MIDI-Unprocessed_Recital13-15_MID--AUDIO_14_R1_2018_wav--2.midi': 0.4558823529411765,\n",
       " 'MIDI-Unprocessed_Recital9-11_MID--AUDIO_11_R1_2018_wav--2.midi': 0.4545454545454546,\n",
       " 'MIDI-Unprocessed_Recital20_MID--AUDIO_20_R1_2018_wav--3.midi': 0.453125,\n",
       " 'MIDI-Unprocessed_Recital5-7_MID--AUDIO_05_R1_2018_wav--3.midi': 0.4528301886792453,\n",
       " 'MIDI-Unprocessed_Schubert7-9_MID--AUDIO_11_R2_2018_wav.midi': 0.4487179487179487,\n",
       " 'MIDI-Unprocessed_Recital17-19_MID--AUDIO_19_R1_2018_wav--5.midi': 0.44680851063829785,\n",
       " 'MIDI-Unprocessed_Recital1-3_MID--AUDIO_01_R1_2018_wav--1.midi': 0.4464285714285714,\n",
       " 'MIDI-Unprocessed_Recital5-7_MID--AUDIO_05_R1_2018_wav--1.midi': 0.4411764705882353,\n",
       " 'MIDI-Unprocessed_Recital5-7_MID--AUDIO_07_R1_2018_wav--3.midi': 0.43181818181818177,\n",
       " 'MIDI-Unprocessed_Chamber3_MID--AUDIO_10_R3_2018_wav--2.midi': 0.43103448275862066,\n",
       " 'MIDI-Unprocessed_Schubert1-3_MID--AUDIO_07_R2_2018_wav.midi': 0.43103448275862066,\n",
       " 'MIDI-Unprocessed_Chamber3_MID--AUDIO_10_R3_2018_wav--1.midi': 0.4285714285714286,\n",
       " 'MIDI-Unprocessed_Recital8_MID--AUDIO_08_R1_2018_wav--2.midi': 0.4285714285714286,\n",
       " 'MIDI-Unprocessed_Recital5-7_MID--AUDIO_07_R1_2018_wav--2.midi': 0.423728813559322,\n",
       " 'MIDI-Unprocessed_Recital1-3_MID--AUDIO_01_R1_2018_wav--3.midi': 0.42105263157894735,\n",
       " 'MIDI-Unprocessed_Recital4_MID--AUDIO_04_R1_2018_wav--4.midi': 0.42028985507246375,\n",
       " 'MIDI-Unprocessed_Recital1-3_MID--AUDIO_01_R1_2018_wav--2.midi': 0.42000000000000004,\n",
       " 'MIDI-Unprocessed_Recital1-3_MID--AUDIO_02_R1_2018_wav--1.midi': 0.4078947368421053,\n",
       " 'MIDI-Unprocessed_Recital17-19_MID--AUDIO_19_R1_2018_wav--1.midi': 0.4027777777777778,\n",
       " 'MIDI-Unprocessed_Schubert4-6_MID--AUDIO_09_R2_2018_wav.midi': 0.4027777777777778,\n",
       " 'MIDI-Unprocessed_Recital16_MID--AUDIO_16_R1_2018_wav--2.midi': 0.4,\n",
       " 'MIDI-Unprocessed_Recital13-15_MID--AUDIO_15_R1_2018_wav--1.midi': 0.39534883720930236,\n",
       " 'MIDI-Unprocessed_Recital17-19_MID--AUDIO_18_R1_2018_wav--1.midi': 0.38749999999999996,\n",
       " 'MIDI-Unprocessed_Recital9-11_MID--AUDIO_10_R1_2018_wav--5.midi': 0.38749999999999996,\n",
       " 'MIDI-Unprocessed_Recital13-15_MID--AUDIO_15_R1_2018_wav--4.midi': 0.3870967741935484,\n",
       " 'MIDI-Unprocessed_Chamber4_MID--AUDIO_11_R3_2018_wav--1.midi': 0.3846153846153846,\n",
       " 'MIDI-Unprocessed_Recital4_MID--AUDIO_04_R1_2018_wav--3.midi': 0.38181818181818183,\n",
       " 'MIDI-Unprocessed_Recital17-19_MID--AUDIO_17_R1_2018_wav--1.midi': 0.381578947368421,\n",
       " 'MIDI-Unprocessed_Chamber2_MID--AUDIO_09_R3_2018_wav--1.midi': 0.3783783783783784,\n",
       " 'MIDI-Unprocessed_Recital13-15_MID--AUDIO_13_R1_2018_wav--3.midi': 0.375,\n",
       " 'MIDI-Unprocessed_Recital17-19_MID--AUDIO_19_R1_2018_wav--4.midi': 0.37037037037037035,\n",
       " 'MIDI-Unprocessed_Recital1-3_MID--AUDIO_03_R1_2018_wav--5.midi': 0.3614457831325302,\n",
       " 'MIDI-Unprocessed_Recital12_MID--AUDIO_12_R1_2018_wav--1.midi': 0.3584905660377359,\n",
       " 'MIDI-Unprocessed_Recital5-7_MID--AUDIO_06_R1_2018_wav--2.midi': 0.35820895522388063,\n",
       " 'MIDI-Unprocessed_Recital12_MID--AUDIO_12_R1_2018_wav--3.midi': 0.3564356435643564,\n",
       " 'MIDI-Unprocessed_Schubert7-9_MID--AUDIO_15_R2_2018_wav.midi': 0.3555555555555555,\n",
       " 'MIDI-Unprocessed_Chamber6_MID--AUDIO_20_R3_2018_wav--2.midi': 0.35365853658536583,\n",
       " 'MIDI-Unprocessed_Schubert10-12_MID--AUDIO_17_R2_2018_wav.midi': 0.3508771929824561,\n",
       " 'MIDI-Unprocessed_Chamber6_MID--AUDIO_20_R3_2018_wav--1.midi': 0.3472222222222222,\n",
       " 'MIDI-Unprocessed_Recital17-19_MID--AUDIO_19_R1_2018_wav--6.midi': 0.3466666666666667,\n",
       " 'MIDI-Unprocessed_Recital1-3_MID--AUDIO_03_R1_2018_wav--4.midi': 0.3414634146341463,\n",
       " 'MIDI-Unprocessed_Recital5-7_MID--AUDIO_06_R1_2018_wav--3.midi': 0.3414634146341463,\n",
       " 'MIDI-Unprocessed_Recital9-11_MID--AUDIO_09_R1_2018_wav--3.midi': 0.3414634146341463,\n",
       " 'MIDI-Unprocessed_Schubert4-6_MID--AUDIO_10_R2_2018_wav.midi': 0.33333333333333337,\n",
       " 'MIDI-Unprocessed_Recital1-3_MID--AUDIO_02_R1_2018_wav--4.midi': 0.33009708737864074,\n",
       " 'MIDI-Unprocessed_Recital5-7_MID--AUDIO_07_R1_2018_wav--1.midi': 0.328125,\n",
       " 'MIDI-Unprocessed_Recital8_MID--AUDIO_08_R1_2018_wav--4.midi': 0.328125,\n",
       " 'MIDI-Unprocessed_Schubert10-12_MID--AUDIO_18_R2_2018_wav.midi': 0.3275862068965517,\n",
       " 'MIDI-Unprocessed_Recital17-19_MID--AUDIO_18_R1_2018_wav--3.midi': 0.32432432432432434,\n",
       " 'MIDI-Unprocessed_Recital13-15_MID--AUDIO_14_R1_2018_wav--1.midi': 0.3222222222222222,\n",
       " 'MIDI-Unprocessed_Recital17-19_MID--AUDIO_17_R1_2018_wav--2.midi': 0.32173913043478264,\n",
       " 'MIDI-Unprocessed_Recital5-7_MID--AUDIO_07_R1_2018_wav--4.midi': 0.31707317073170727,\n",
       " 'MIDI-Unprocessed_Recital9-11_MID--AUDIO_09_R1_2018_wav--5.midi': 0.31707317073170727,\n",
       " 'MIDI-Unprocessed_Schubert4-6_MID--AUDIO_08_R2_2018_wav.midi': 0.3157894736842105,\n",
       " 'MIDI-Unprocessed_Chamber5_MID--AUDIO_18_R3_2018_wav--1.midi': 0.3142857142857143,\n",
       " 'MIDI-Unprocessed_Schubert1-3_MID--AUDIO_02_R2_2018_wav.midi': 0.30612244897959184,\n",
       " 'MIDI-Unprocessed_Recital1-3_MID--AUDIO_03_R1_2018_wav--1.midi': 0.3015873015873016,\n",
       " 'MIDI-Unprocessed_Schubert10-12_MID--AUDIO_20_R2_2018_wav.midi': 0.29885057471264365,\n",
       " 'MIDI-Unprocessed_Recital9-11_MID--AUDIO_09_R1_2018_wav--6.midi': 0.2954545454545454,\n",
       " 'MIDI-Unprocessed_Recital17-19_MID--AUDIO_17_R1_2018_wav--3.midi': 0.2909090909090909,\n",
       " 'MIDI-Unprocessed_Recital1-3_MID--AUDIO_02_R1_2018_wav--2.midi': 0.28971962616822433,\n",
       " 'MIDI-Unprocessed_Recital9-11_MID--AUDIO_11_R1_2018_wav--5.midi': 0.2857142857142857,\n",
       " 'MIDI-Unprocessed_Recital5-7_MID--AUDIO_06_R1_2018_wav--1.midi': 0.28260869565217395,\n",
       " 'MIDI-Unprocessed_Recital17-19_MID--AUDIO_19_R1_2018_wav--3.midi': 0.27142857142857146,\n",
       " 'MIDI-Unprocessed_Recital16_MID--AUDIO_16_R1_2018_wav--3.midi': 0.2682926829268293,\n",
       " 'MIDI-Unprocessed_Recital9-11_MID--AUDIO_11_R1_2018_wav--1.midi': 0.2682926829268293,\n",
       " 'MIDI-Unprocessed_Recital9-11_MID--AUDIO_09_R1_2018_wav--4.midi': 0.2524271844660194,\n",
       " 'MIDI-Unprocessed_Recital1-3_MID--AUDIO_03_R1_2018_wav--2.midi': 0.25,\n",
       " 'MIDI-Unprocessed_Recital9-11_MID--AUDIO_09_R1_2018_wav--1.midi': 0.24390243902439024,\n",
       " 'MIDI-Unprocessed_Recital9-11_MID--AUDIO_09_R1_2018_wav--2.midi': 0.2416666666666667,\n",
       " 'MIDI-Unprocessed_Recital17-19_MID--AUDIO_17_R1_2018_wav--4.midi': 0.23750000000000004,\n",
       " 'MIDI-Unprocessed_Recital13-15_MID--AUDIO_14_R1_2018_wav--3.midi': 0.21476510067114096,\n",
       " 'MIDI-Unprocessed_Recital8_MID--AUDIO_08_R1_2018_wav--1.midi': 0.202247191011236}"
      ]
     },
     "execution_count": 19,
     "metadata": {},
     "output_type": "execute_result"
    }
   ],
   "source": [
    "dict(sorted(fname_to_similarity.items(), key=lambda item: item[1],reverse=True))\n"
   ]
  },
  {
   "cell_type": "code",
   "execution_count": null,
   "metadata": {},
   "outputs": [],
   "source": []
  },
  {
   "cell_type": "code",
   "execution_count": null,
   "metadata": {},
   "outputs": [],
   "source": []
  },
  {
   "cell_type": "code",
   "execution_count": null,
   "metadata": {},
   "outputs": [],
   "source": []
  },
  {
   "cell_type": "code",
   "execution_count": null,
   "metadata": {},
   "outputs": [],
   "source": []
  }
 ],
 "metadata": {
  "interpreter": {
   "hash": "ed375616437d1b2aa7bee143630496d92aeefbddeec0f66e9ff788f086bd6b2a"
  },
  "kernelspec": {
   "display_name": "Python 3.7.6 64-bit",
   "language": "python",
   "name": "python3"
  },
  "language_info": {
   "codemirror_mode": {
    "name": "ipython",
    "version": 3
   },
   "file_extension": ".py",
   "mimetype": "text/x-python",
   "name": "python",
   "nbconvert_exporter": "python",
   "pygments_lexer": "ipython3",
   "version": "3.7.6"
  },
  "orig_nbformat": 4
 },
 "nbformat": 4,
 "nbformat_minor": 2
}
