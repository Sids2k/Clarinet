{
 "cells": [
  {
   "cell_type": "code",
   "execution_count": 1,
   "metadata": {},
   "outputs": [],
   "source": [
    "import json\n",
    "data_dir = \"C:/Users/Kshitij Alwadhi/Documents/GitHub/Clarinet/Data/Json/2018_clipped/\"+'notes.json'\n",
    "queries = \"C:/Users/Kshitij Alwadhi/Documents/GitHub/Clarinet/Data/Json/2018_queries/\"+'notes.json'\n"
   ]
  },
  {
   "cell_type": "code",
   "execution_count": 2,
   "metadata": {},
   "outputs": [],
   "source": [
    "def splitNotes(notes):\n",
    "    new_notes = []\n",
    "    for note in notes:\n",
    "        start = note[1]/1000.\n",
    "        end = note[2]/1000.\n",
    "        startSec = int(start)\n",
    "        endSec = int(end)\n",
    "\n",
    "        if startSec == endSec:\n",
    "            new_notes.append(note)\n",
    "        else:\n",
    "            new_notes.append([note[0], note[1], (startSec+1)*1000, note[3]])\n",
    "            for i in range(startSec+1, endSec-1):\n",
    "                new_notes.append([note[0], int(i*1000), int(i+1)*1000, note[3]])\n",
    "            new_notes.append([note[0], int(endSec*1000), note[2], note[3]])\n",
    "    return new_notes\n",
    "\n",
    "\n",
    "def getStrides(notes, size):\n",
    "    notes = sorted(notes, key=lambda x: x[1])\n",
    "    chunks = []\n",
    "    for _ in range(len(notes)):\n",
    "        chunks.append([])\n",
    "\n",
    "    curT = 0\n",
    "    nextidx = 0\n",
    "    flag = False\n",
    "\n",
    "    i = 0\n",
    "    while(i < len(notes)):\n",
    "        st = notes[i][1]\n",
    "        maxT = curT + size\n",
    "        if st >= maxT:\n",
    "            curT += 1000\n",
    "            i = nextidx\n",
    "            flag = False\n",
    "            continue\n",
    "\n",
    "        if st % 1000 == 0 and flag == False and st != curT:\n",
    "            nextidx = i\n",
    "            flag = True\n",
    "\n",
    "        pos = int(curT/1000)\n",
    "        chunks[pos].append(notes[i])\n",
    "        i += 1\n",
    "    ans = []\n",
    "    for c in chunks:\n",
    "        if len(c) > 0:\n",
    "            ans.append(c)\n",
    "    return ans\n"
   ]
  },
  {
   "cell_type": "code",
   "execution_count": 3,
   "metadata": {},
   "outputs": [],
   "source": [
    "with open(data_dir, 'r') as f:\n",
    "    fname_to_notes = json.load(f)\n"
   ]
  },
  {
   "cell_type": "code",
   "execution_count": 10,
   "metadata": {},
   "outputs": [],
   "source": [
    "midiEt_to_note = {\n",
    "    12: \"C\",\n",
    "    13: \"C#\",\n",
    "    14: \"D\",\n",
    "    15: \"D#\",\n",
    "    16: \"E\",\n",
    "    17: \"F\",\n",
    "    18: \"F#\",\n",
    "    19: \"G\",\n",
    "    20: \"G#\",\n",
    "    21: \"A\",\n",
    "    22: \"A#\",\n",
    "    23: \"B\"\n",
    "}\n",
    "\n",
    "\n",
    "# a function which converts a sequence of midiEt to a sequence of notes\n",
    "def midiEt_to_note_sequence(midiEt_sequence):\n",
    "    note_sequence = []\n",
    "    for midiEt in midiEt_sequence:\n",
    "        num = midiEt % 12\n",
    "        note_sequence.append(midiEt_to_note[num + 12])\n",
    "    return \"\".join(note_sequence)\n"
   ]
  },
  {
   "cell_type": "code",
   "execution_count": 49,
   "metadata": {},
   "outputs": [],
   "source": [
    "from mongeau_sankoff import similarity, Note\n",
    "import miditoolkit as mtk\n",
    "# queries=[Note(\"G\",2,rest=False)]\n",
    "\n",
    "# t=total_time/(4*tempo)\n",
    "# duration=int(end-start/t)"
   ]
  },
  {
   "cell_type": "code",
   "execution_count": 50,
   "metadata": {},
   "outputs": [],
   "source": [
    "obj = mtk.MidiFile(r\"C:\\Users\\Kshitij Alwadhi\\Documents\\GitHub\\Clarinet\\Data\\Melody\\2018_clipped_processed\\MIDI-Unprocessed_Chamber2_MID--AUDIO_09_R3_2018_wav--1_melody.mid\")"
   ]
  },
  {
   "cell_type": "code",
   "execution_count": 51,
   "metadata": {},
   "outputs": [],
   "source": [
    "notes = obj.instruments[0].notes\n",
    "end_time = notes[-1].end\n",
    "tempo = 120\n",
    "t = end_time/(4*tempo)"
   ]
  },
  {
   "cell_type": "code",
   "execution_count": 52,
   "metadata": {},
   "outputs": [],
   "source": [
    "rep = []\n",
    "prev_end = 0\n",
    "for n in notes:\n",
    "    if n.start > prev_end:\n",
    "        rep.append(Note(\"C\",int((n.start-prev_end)),rest=True))\n",
    "    rep.append(Note(midiEt_to_note[n.pitch%12 + 12],int((n.end-n.start)),rest=False))"
   ]
  },
  {
   "cell_type": "code",
   "execution_count": 53,
   "metadata": {},
   "outputs": [],
   "source": [
    "qobj = mtk.MidiFile(r\"C:\\Users\\Kshitij Alwadhi\\Documents\\GitHub\\Clarinet\\Data\\Melody\\2018_queries_processed\\MIDI-Unprocessed_Chamber2_MID--AUDIO_09_R3_2018_wav--1_query_melody.mid\")\n"
   ]
  },
  {
   "cell_type": "code",
   "execution_count": 54,
   "metadata": {},
   "outputs": [],
   "source": [
    "notes = obj.instruments[0].notes\n",
    "end_time = notes[-1].end\n",
    "tempo = 120\n",
    "t = end_time/(4*tempo)"
   ]
  },
  {
   "cell_type": "code",
   "execution_count": 55,
   "metadata": {},
   "outputs": [],
   "source": [
    "qrep = []\n",
    "prev_end = 0\n",
    "for n in notes:\n",
    "    if n.start > prev_end:\n",
    "        qrep.append(Note(\"C\", int((n.start-prev_end)), rest=True))\n",
    "    qrep.append(Note(midiEt_to_note[n.pitch % 12 + 12], int((n.end-n.start)), rest=False))\n"
   ]
  },
  {
   "cell_type": "code",
   "execution_count": null,
   "metadata": {},
   "outputs": [],
   "source": []
  },
  {
   "cell_type": "code",
   "execution_count": 56,
   "metadata": {},
   "outputs": [
    {
     "ename": "KeyboardInterrupt",
     "evalue": "",
     "output_type": "error",
     "traceback": [
      "\u001b[1;31m---------------------------------------------------------------------------\u001b[0m",
      "\u001b[1;31mKeyboardInterrupt\u001b[0m                         Traceback (most recent call last)",
      "\u001b[1;32m<ipython-input-56-61c93dd8ce2f>\u001b[0m in \u001b[0;36m<module>\u001b[1;34m\u001b[0m\n\u001b[1;32m----> 1\u001b[1;33m \u001b[0msimilarity\u001b[0m\u001b[1;33m(\u001b[0m\u001b[0mqrep\u001b[0m\u001b[1;33m,\u001b[0m \u001b[0mrep\u001b[0m\u001b[1;33m)\u001b[0m\u001b[1;33m\u001b[0m\u001b[1;33m\u001b[0m\u001b[0m\n\u001b[0m",
      "\u001b[1;32mc:\\Users\\Kshitij Alwadhi\\Documents\\GitHub\\Clarinet\\Clarinet\\search\\mongeau_sankoff.py\u001b[0m in \u001b[0;36msimilarity\u001b[1;34m(s1, s2)\u001b[0m\n\u001b[0;32m    229\u001b[0m     \u001b[1;32mreturn\u001b[0m \u001b[0mdp\u001b[0m\u001b[1;33m[\u001b[0m\u001b[0mm\u001b[0m\u001b[1;33m]\u001b[0m\u001b[1;33m[\u001b[0m\u001b[0mn\u001b[0m\u001b[1;33m]\u001b[0m\u001b[1;33m\u001b[0m\u001b[1;33m\u001b[0m\u001b[0m\n\u001b[0;32m    230\u001b[0m \u001b[1;33m\u001b[0m\u001b[0m\n\u001b[1;32m--> 231\u001b[1;33m \u001b[1;33m\u001b[0m\u001b[0m\n\u001b[0m\u001b[0;32m    232\u001b[0m \u001b[1;32mdef\u001b[0m \u001b[0msimilarity\u001b[0m\u001b[1;33m(\u001b[0m\u001b[0mquery\u001b[0m\u001b[1;33m:\u001b[0m \u001b[0mlist\u001b[0m\u001b[1;33m,\u001b[0m \u001b[0mdata\u001b[0m\u001b[1;33m:\u001b[0m \u001b[0mlist\u001b[0m\u001b[1;33m)\u001b[0m\u001b[1;33m:\u001b[0m\u001b[1;33m\u001b[0m\u001b[1;33m\u001b[0m\u001b[0m\n\u001b[0;32m    233\u001b[0m     \u001b[0mquery_len\u001b[0m \u001b[1;33m=\u001b[0m \u001b[0mlen\u001b[0m\u001b[1;33m(\u001b[0m\u001b[0mquery\u001b[0m\u001b[1;33m)\u001b[0m\u001b[1;33m\u001b[0m\u001b[1;33m\u001b[0m\u001b[0m\n",
      "\u001b[1;32mc:\\Users\\Kshitij Alwadhi\\Documents\\GitHub\\Clarinet\\Clarinet\\search\\mongeau_sankoff.py\u001b[0m in \u001b[0;36mdistance\u001b[1;34m(s1, s2)\u001b[0m\n\u001b[0;32m    221\u001b[0m             \u001b[0msubstitution\u001b[0m \u001b[1;33m=\u001b[0m \u001b[0mdp\u001b[0m\u001b[1;33m[\u001b[0m\u001b[0mi\u001b[0m\u001b[1;33m-\u001b[0m\u001b[1;36m1\u001b[0m\u001b[1;33m]\u001b[0m\u001b[1;33m[\u001b[0m\u001b[0mj\u001b[0m\u001b[1;33m-\u001b[0m\u001b[1;36m1\u001b[0m\u001b[1;33m]\u001b[0m \u001b[1;33m+\u001b[0m \u001b[0mw_sub\u001b[0m\u001b[1;33m(\u001b[0m\u001b[0mnote_a\u001b[0m\u001b[1;33m,\u001b[0m \u001b[0mnote_b\u001b[0m\u001b[1;33m)\u001b[0m\u001b[1;33m\u001b[0m\u001b[1;33m\u001b[0m\u001b[0m\n\u001b[0;32m    222\u001b[0m             \u001b[0mdeletion\u001b[0m \u001b[1;33m=\u001b[0m \u001b[0mdp\u001b[0m\u001b[1;33m[\u001b[0m\u001b[0mi\u001b[0m\u001b[1;33m-\u001b[0m\u001b[1;36m1\u001b[0m\u001b[1;33m]\u001b[0m\u001b[1;33m[\u001b[0m\u001b[0mj\u001b[0m\u001b[1;33m]\u001b[0m \u001b[1;33m+\u001b[0m \u001b[0mw_del\u001b[0m\u001b[1;33m(\u001b[0m\u001b[0mnote_a\u001b[0m\u001b[1;33m)\u001b[0m\u001b[1;33m\u001b[0m\u001b[1;33m\u001b[0m\u001b[0m\n\u001b[1;32m--> 223\u001b[1;33m             \u001b[0minsertion\u001b[0m \u001b[1;33m=\u001b[0m \u001b[0mdp\u001b[0m\u001b[1;33m[\u001b[0m\u001b[0mi\u001b[0m\u001b[1;33m]\u001b[0m\u001b[1;33m[\u001b[0m\u001b[0mj\u001b[0m\u001b[1;33m-\u001b[0m\u001b[1;36m1\u001b[0m\u001b[1;33m]\u001b[0m \u001b[1;33m+\u001b[0m \u001b[0mw_ins\u001b[0m\u001b[1;33m(\u001b[0m\u001b[0mnote_b\u001b[0m\u001b[1;33m)\u001b[0m\u001b[1;33m\u001b[0m\u001b[1;33m\u001b[0m\u001b[0m\n\u001b[0m\u001b[0;32m    224\u001b[0m             \u001b[0mconsolidation\u001b[0m \u001b[1;33m=\u001b[0m \u001b[0mw_cons\u001b[0m\u001b[1;33m(\u001b[0m\u001b[0mdp\u001b[0m\u001b[1;33m,\u001b[0m \u001b[0ms1\u001b[0m\u001b[1;33m,\u001b[0m \u001b[0ms2\u001b[0m\u001b[1;33m,\u001b[0m \u001b[0mi\u001b[0m\u001b[1;33m,\u001b[0m \u001b[0mj\u001b[0m\u001b[1;33m)\u001b[0m\u001b[1;33m\u001b[0m\u001b[1;33m\u001b[0m\u001b[0m\n\u001b[0;32m    225\u001b[0m             \u001b[0mfragmentation\u001b[0m \u001b[1;33m=\u001b[0m \u001b[0mw_frag\u001b[0m\u001b[1;33m(\u001b[0m\u001b[0mdp\u001b[0m\u001b[1;33m,\u001b[0m \u001b[0ms1\u001b[0m\u001b[1;33m,\u001b[0m \u001b[0ms2\u001b[0m\u001b[1;33m,\u001b[0m \u001b[0mi\u001b[0m\u001b[1;33m,\u001b[0m \u001b[0mj\u001b[0m\u001b[1;33m)\u001b[0m\u001b[1;33m\u001b[0m\u001b[1;33m\u001b[0m\u001b[0m\n",
      "\u001b[1;32mc:\\Users\\Kshitij Alwadhi\\Documents\\GitHub\\Clarinet\\Clarinet\\search\\mongeau_sankoff.py\u001b[0m in \u001b[0;36mw_frag\u001b[1;34m(dp, a, b, i, j)\u001b[0m\n\u001b[0;32m    118\u001b[0m         \u001b[0mweight\u001b[0m \u001b[1;33m=\u001b[0m \u001b[0mdp\u001b[0m\u001b[1;33m[\u001b[0m\u001b[0mi\u001b[0m\u001b[1;33m-\u001b[0m\u001b[1;36m1\u001b[0m\u001b[1;33m]\u001b[0m\u001b[1;33m[\u001b[0m\u001b[0mj\u001b[0m\u001b[1;33m-\u001b[0m\u001b[0mk\u001b[0m\u001b[1;33m]\u001b[0m\u001b[1;33m\u001b[0m\u001b[1;33m\u001b[0m\u001b[0m\n\u001b[0;32m    119\u001b[0m         \u001b[0mdurations\u001b[0m \u001b[1;33m=\u001b[0m \u001b[1;36m0\u001b[0m\u001b[1;33m\u001b[0m\u001b[1;33m\u001b[0m\u001b[0m\n\u001b[1;32m--> 120\u001b[1;33m \u001b[1;33m\u001b[0m\u001b[0m\n\u001b[0m\u001b[0;32m    121\u001b[0m         \u001b[1;32mwhile\u001b[0m \u001b[0mk\u001b[0m \u001b[1;33m>\u001b[0m \u001b[1;36m0\u001b[0m\u001b[1;33m:\u001b[0m\u001b[1;33m\u001b[0m\u001b[1;33m\u001b[0m\u001b[0m\n\u001b[0;32m    122\u001b[0m             \u001b[0mweight\u001b[0m \u001b[1;33m+=\u001b[0m \u001b[0mw_interval\u001b[0m\u001b[1;33m(\u001b[0m\u001b[0ma\u001b[0m\u001b[1;33m[\u001b[0m\u001b[0mi\u001b[0m\u001b[1;33m-\u001b[0m\u001b[1;36m1\u001b[0m\u001b[1;33m]\u001b[0m\u001b[1;33m,\u001b[0m \u001b[0mb\u001b[0m\u001b[1;33m[\u001b[0m\u001b[0mj\u001b[0m\u001b[1;33m-\u001b[0m\u001b[0mk\u001b[0m\u001b[1;33m]\u001b[0m\u001b[1;33m)\u001b[0m\u001b[1;33m\u001b[0m\u001b[1;33m\u001b[0m\u001b[0m\n",
      "\u001b[1;32mc:\\Users\\Kshitij Alwadhi\\Documents\\GitHub\\Clarinet\\Clarinet\\search\\mongeau_sankoff.py\u001b[0m in \u001b[0;36mw_interval\u001b[1;34m(note_a, note_b)\u001b[0m\n\u001b[0;32m    159\u001b[0m \u001b[1;31m# Interval Weight\u001b[0m\u001b[1;33m\u001b[0m\u001b[1;33m\u001b[0m\u001b[1;33m\u001b[0m\u001b[0m\n\u001b[0;32m    160\u001b[0m \u001b[1;32mdef\u001b[0m \u001b[0mw_interval\u001b[0m\u001b[1;33m(\u001b[0m\u001b[0mnote_a\u001b[0m\u001b[1;33m,\u001b[0m \u001b[0mnote_b\u001b[0m\u001b[1;33m)\u001b[0m\u001b[1;33m:\u001b[0m\u001b[1;33m\u001b[0m\u001b[1;33m\u001b[0m\u001b[0m\n\u001b[1;32m--> 161\u001b[1;33m     \u001b[1;32mif\u001b[0m \u001b[0mnote_a\u001b[0m\u001b[1;33m.\u001b[0m\u001b[0mrest\u001b[0m \u001b[1;32mor\u001b[0m \u001b[0mnote_b\u001b[0m\u001b[1;33m.\u001b[0m\u001b[0mrest\u001b[0m\u001b[1;33m:\u001b[0m\u001b[1;33m\u001b[0m\u001b[1;33m\u001b[0m\u001b[0m\n\u001b[0m\u001b[0;32m    162\u001b[0m         \u001b[1;32mif\u001b[0m \u001b[0mnote_a\u001b[0m\u001b[1;33m.\u001b[0m\u001b[0mrest\u001b[0m \u001b[1;32mand\u001b[0m \u001b[0mnote_b\u001b[0m\u001b[1;33m.\u001b[0m\u001b[0mrest\u001b[0m\u001b[1;33m:\u001b[0m\u001b[1;33m\u001b[0m\u001b[1;33m\u001b[0m\u001b[0m\n\u001b[0;32m    163\u001b[0m             \u001b[1;32mreturn\u001b[0m \u001b[0mDEG_DIFF\u001b[0m\u001b[1;33m[\u001b[0m\u001b[1;36m0\u001b[0m\u001b[1;33m]\u001b[0m\u001b[1;33m\u001b[0m\u001b[1;33m\u001b[0m\u001b[0m\n",
      "\u001b[1;31mKeyboardInterrupt\u001b[0m: "
     ]
    }
   ],
   "source": [
    "similarity(qrep, rep)"
   ]
  },
  {
   "cell_type": "code",
   "execution_count": 36,
   "metadata": {},
   "outputs": [],
   "source": [
    "import music21\n",
    "\n",
    "\n",
    "def getScale(midi_filename):\n",
    "    score = music21.converter.parse(midi_filename)\n",
    "    key = score.analyze('key')\n",
    "    return(key.mode)\n"
   ]
  },
  {
   "cell_type": "code",
   "execution_count": 41,
   "metadata": {},
   "outputs": [
    {
     "data": {
      "text/plain": [
       "'major'"
      ]
     },
     "execution_count": 41,
     "metadata": {},
     "output_type": "execute_result"
    }
   ],
   "source": [
    "getScale(r\"C:\\Users\\Kshitij Alwadhi\\Documents\\GitHub\\Clarinet\\Data\\Melody\\2018_clipped_processed\\MIDI-Unprocessed_Chamber2_MID--AUDIO_09_R3_2018_wav--1_melody.mid\")"
   ]
  },
  {
   "cell_type": "code",
   "execution_count": 40,
   "metadata": {},
   "outputs": [
    {
     "data": {
      "text/plain": [
       "'major'"
      ]
     },
     "execution_count": 40,
     "metadata": {},
     "output_type": "execute_result"
    }
   ],
   "source": [
    "getScale(r\"C:\\Users\\Kshitij Alwadhi\\Documents\\GitHub\\Clarinet\\Data\\Melody\\2018_queries\\MIDI-Unprocessed_Chamber2_MID--AUDIO_09_R3_2018_wav--1_query_melody.mid\")\n"
   ]
  },
  {
   "cell_type": "code",
   "execution_count": null,
   "metadata": {},
   "outputs": [],
   "source": []
  }
 ],
 "metadata": {
  "interpreter": {
   "hash": "ed375616437d1b2aa7bee143630496d92aeefbddeec0f66e9ff788f086bd6b2a"
  },
  "kernelspec": {
   "display_name": "Python 3.7.6 64-bit",
   "language": "python",
   "name": "python3"
  },
  "language_info": {
   "codemirror_mode": {
    "name": "ipython",
    "version": 3
   },
   "file_extension": ".py",
   "mimetype": "text/x-python",
   "name": "python",
   "nbconvert_exporter": "python",
   "pygments_lexer": "ipython3",
   "version": "3.7.6"
  },
  "orig_nbformat": 4
 },
 "nbformat": 4,
 "nbformat_minor": 2
}
