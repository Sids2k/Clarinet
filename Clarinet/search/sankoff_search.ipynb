{
 "cells": [
  {
   "cell_type": "code",
   "execution_count": 1,
   "metadata": {},
   "outputs": [],
   "source": [
    "import json\n",
    "data_dir = \"C:/Users/Kshitij Alwadhi/Documents/GitHub/Clarinet/Data/Json/2018_clipped/\"+'notes.json'\n",
    "queries = \"C:/Users/Kshitij Alwadhi/Documents/GitHub/Clarinet/Data/Json/2018_queries/\"+'notes.json'\n"
   ]
  },
  {
   "cell_type": "code",
   "execution_count": 2,
   "metadata": {},
   "outputs": [],
   "source": [
    "def splitNotes(notes):\n",
    "    new_notes = []\n",
    "    for note in notes:\n",
    "        start = note[1]/1000.\n",
    "        end = note[2]/1000.\n",
    "        startSec = int(start)\n",
    "        endSec = int(end)\n",
    "\n",
    "        if startSec == endSec:\n",
    "            new_notes.append(note)\n",
    "        else:\n",
    "            new_notes.append([note[0], note[1], (startSec+1)*1000, note[3]])\n",
    "            for i in range(startSec+1, endSec-1):\n",
    "                new_notes.append([note[0], int(i*1000), int(i+1)*1000, note[3]])\n",
    "            new_notes.append([note[0], int(endSec*1000), note[2], note[3]])\n",
    "    return new_notes\n",
    "\n",
    "\n",
    "def getStrides(notes, size):\n",
    "    notes = sorted(notes, key=lambda x: x[1])\n",
    "    chunks = []\n",
    "    for _ in range(len(notes)):\n",
    "        chunks.append([])\n",
    "\n",
    "    curT = 0\n",
    "    nextidx = 0\n",
    "    flag = False\n",
    "\n",
    "    i = 0\n",
    "    while(i < len(notes)):\n",
    "        st = notes[i][1]\n",
    "        maxT = curT + size\n",
    "        if st >= maxT:\n",
    "            curT += 1000\n",
    "            i = nextidx\n",
    "            flag = False\n",
    "            continue\n",
    "\n",
    "        if st % 1000 == 0 and flag == False and st != curT:\n",
    "            nextidx = i\n",
    "            flag = True\n",
    "\n",
    "        pos = int(curT/1000)\n",
    "        chunks[pos].append(notes[i])\n",
    "        i += 1\n",
    "    ans = []\n",
    "    for c in chunks:\n",
    "        if len(c) > 0:\n",
    "            ans.append(c)\n",
    "    return ans\n"
   ]
  },
  {
   "cell_type": "code",
   "execution_count": 3,
   "metadata": {},
   "outputs": [],
   "source": [
    "with open(data_dir, 'r') as f:\n",
    "    fname_to_notes = json.load(f)\n"
   ]
  },
  {
   "cell_type": "code",
   "execution_count": 4,
   "metadata": {},
   "outputs": [],
   "source": [
    "midiEt_to_note = {\n",
    "    12: \"C\",\n",
    "    13: \"C#\",\n",
    "    14: \"D\",\n",
    "    15: \"D#\",\n",
    "    16: \"E\",\n",
    "    17: \"F\",\n",
    "    18: \"F#\",\n",
    "    19: \"G\",\n",
    "    20: \"G#\",\n",
    "    21: \"A\",\n",
    "    22: \"A#\",\n",
    "    23: \"B\"\n",
    "}\n",
    "\n",
    "\n",
    "# a function which converts a sequence of midiEt to a sequence of notes\n",
    "def midiEt_to_note_sequence(midiEt_sequence):\n",
    "    note_sequence = []\n",
    "    for midiEt in midiEt_sequence:\n",
    "        num = midiEt % 12\n",
    "        note_sequence.append(midiEt_to_note[num + 12])\n",
    "    return \"\".join(note_sequence)\n"
   ]
  },
  {
   "cell_type": "code",
   "execution_count": null,
   "metadata": {},
   "outputs": [],
   "source": [
    "from .mongeau_sankoff import similarity,Note\n",
    "\n",
    "queries=[Note(\"G\",2,rest=False)]\n",
    "\n",
    "# t=total_time/(4*tempo)\n",
    "# duration=int(end-start/t)\n"
   ]
  }
 ],
 "metadata": {
  "interpreter": {
   "hash": "ed375616437d1b2aa7bee143630496d92aeefbddeec0f66e9ff788f086bd6b2a"
  },
  "kernelspec": {
   "display_name": "Python 3.7.6 64-bit",
   "language": "python",
   "name": "python3"
  },
  "language_info": {
   "codemirror_mode": {
    "name": "ipython",
    "version": 3
   },
   "file_extension": ".py",
   "mimetype": "text/x-python",
   "name": "python",
   "nbconvert_exporter": "python",
   "pygments_lexer": "ipython3",
   "version": "3.7.6"
  },
  "orig_nbformat": 4
 },
 "nbformat": 4,
 "nbformat_minor": 2
}
