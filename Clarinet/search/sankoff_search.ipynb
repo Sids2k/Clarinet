{
 "cells": [
  {
   "cell_type": "code",
   "execution_count": 1,
   "metadata": {},
   "outputs": [],
   "source": [
    "import json\n",
    "data_dir = r\"C:\\Users\\Kshitij Alwadhi\\Documents\\GitHub\\Clarinet\\Data\\Json\\Consolidated_processed_modified\\notes.json\"\n",
    "queries = r\"C:\\Users\\Kshitij Alwadhi\\Documents\\GitHub\\Clarinet\\Data\\Json\\Consolidated_query_processed_modified\\notes.json\"\n"
   ]
  },
  {
   "cell_type": "code",
   "execution_count": 2,
   "metadata": {},
   "outputs": [],
   "source": [
    "with open(data_dir, 'r') as f:\n",
    "    fname_to_notes = json.load(f)\n"
   ]
  },
  {
   "cell_type": "code",
   "execution_count": 3,
   "metadata": {},
   "outputs": [],
   "source": [
    "midiEt_to_note = {\n",
    "    12: \"C\",\n",
    "    13: \"C#\",\n",
    "    14: \"D\",\n",
    "    15: \"D#\",\n",
    "    16: \"E\",\n",
    "    17: \"F\",\n",
    "    18: \"F#\",\n",
    "    19: \"G\",\n",
    "    20: \"G#\",\n",
    "    21: \"A\",\n",
    "    22: \"A#\",\n",
    "    23: \"B\"\n",
    "}\n",
    "\n",
    "\n",
    "# a function which converts a sequence of midiEt to a sequence of notes\n",
    "def midiEt_to_note_sequence(midiEt_sequence):\n",
    "    note_sequence = []\n",
    "    for midiEt in midiEt_sequence:\n",
    "        num = midiEt % 12\n",
    "        note_sequence.append(midiEt_to_note[num + 12])\n",
    "    return \"\".join(note_sequence)\n"
   ]
  },
  {
   "cell_type": "code",
   "execution_count": 4,
   "metadata": {},
   "outputs": [],
   "source": [
    "from similarity_sankoff import similarity, Note\n",
    "import miditoolkit as mtk\n",
    "# queries=[Note(\"G\",2,rest=False)]\n",
    "\n",
    "# t=total_time/(4*tempo)\n",
    "# duration=int(end-start/t)"
   ]
  },
  {
   "cell_type": "code",
   "execution_count": 5,
   "metadata": {},
   "outputs": [],
   "source": [
    "#obj = mtk.MidiFile(r\"C:\\Users\\Kshitij Alwadhi\\Documents\\GitHub\\Clarinet\\Data\\Melody\\2018_clipped\\MIDI-Unprocessed_Chamber2_MID--AUDIO_09_R3_2018_wav--1_melody.mid\")\n",
    "obj = mtk.MidiFile(r\"C:\\Users\\Kshitij Alwadhi\\Documents\\GitHub\\Clarinet\\Data\\Melody\\2018_clipped_processed\\MIDI-Unprocessed_Chamber6_MID--AUDIO_20_R3_2018_wav--1_melody.mid\")\n"
   ]
  },
  {
   "cell_type": "code",
   "execution_count": 6,
   "metadata": {},
   "outputs": [],
   "source": [
    "from Clarinet.preprocessing import getBPM"
   ]
  },
  {
   "cell_type": "code",
   "execution_count": 7,
   "metadata": {},
   "outputs": [
    {
     "name": "stdout",
     "output_type": "stream",
     "text": [
      "40789\n"
     ]
    }
   ],
   "source": [
    "notes = obj.instruments[0].notes\n",
    "#print(notes[:5])\n",
    "end_time = notes[-1].end\n",
    "print(end_time)\n",
    "#tempo = getBPM(r\"C:\\Users\\Kshitij Alwadhi\\Documents\\GitHub\\Clarinet\\Data\\Melody\\2018_clipped_processed\\MIDI-Unprocessed_Chamber6_MID--AUDIO_20_R3_2018_wav--1_melody.mid\")\n",
    "tempo = 120\n",
    "t = end_time/(4*tempo)\n",
    "t = 32/768\n",
    "# ans = 99999\n",
    "# prev_end = 0\n",
    "# for n in notes:\n",
    "#     if n.start > prev_end:\n",
    "#         dur = n.start - prev_end\n",
    "#         ans = min(ans, dur)\n",
    "#     ans = min(ans, n.end - n.start)\n",
    "#     prev_end = n.end\n",
    "# t= ans\n",
    "        \n"
   ]
  },
  {
   "cell_type": "code",
   "execution_count": 8,
   "metadata": {},
   "outputs": [
    {
     "name": "stdout",
     "output_type": "stream",
     "text": [
      "844.2894736842105\n",
      "908.9625349205526\n"
     ]
    }
   ],
   "source": [
    "import numpy as np\n",
    "sum= 0\n",
    "start = []\n",
    "end = []\n",
    "for n in notes:\n",
    "    start.append(n.start)\n",
    "    end.append(n.end)\n",
    "diff = np.array(end) - np.array(start)\n",
    "print(np.mean(diff))\n",
    "print(np.std(diff))"
   ]
  },
  {
   "cell_type": "code",
   "execution_count": 9,
   "metadata": {},
   "outputs": [],
   "source": [
    "rep = []\n",
    "prev_end = 0\n",
    "for n in notes:\n",
    "    if int((n.start-prev_end)/t) != 0:\n",
    "        if n.start > prev_end:\n",
    "            rep.append(Note(\"C\",int((n.start-prev_end)/t),rest=True))\n",
    "    if int((n.end-n.start)/t) != 0:\n",
    "        rep.append(Note(midiEt_to_note[n.pitch%12 + 12],int((n.end-n.start)/t),rest=False))\n",
    "    prev_end = n.end\n"
   ]
  },
  {
   "cell_type": "code",
   "execution_count": 10,
   "metadata": {},
   "outputs": [],
   "source": [
    "#qobj = mtk.MidiFile(r\"C:\\Users\\Kshitij Alwadhi\\Documents\\GitHub\\Clarinet\\Data\\Melody\\2018_queries\\MIDI-Unprocessed_Chamber2_MID--AUDIO_09_R3_2018_wav--1_query_melody.mid\")\n",
    "#qobj = mtk.MidiFile(r\"C:\\Users\\Kshitij Alwadhi\\Documents\\GitHub\\Clarinet\\Data\\Melody\\2018_queries_processed\\MIDI-Unprocessed_Chamber6_MID--AUDIO_20_R3_2018_wav--1_query_melody.mid\")\n",
    "qobj = mtk.MidiFile(r\"C:\\Users\\Kshitij Alwadhi\\Documents\\GitHub\\Clarinet\\Data\\Melody\\Consolidated_query_processed_modified\\MIDI-Unprocessed_01_R1_2006_01-09_ORIG_MID--AUDIO_01_R1_2006_01_Track01_wav_melody.mid\")\n"
   ]
  },
  {
   "cell_type": "code",
   "execution_count": 11,
   "metadata": {},
   "outputs": [
    {
     "name": "stdout",
     "output_type": "stream",
     "text": [
      "[Note(start=0, end=256, pitch=45, velocity=53), Note(start=512, end=1536, pitch=68, velocity=61), Note(start=1536, end=1707, pitch=52, velocity=46), Note(start=1707, end=1963, pitch=59, velocity=50), Note(start=2048, end=2304, pitch=64, velocity=75)]\n"
     ]
    }
   ],
   "source": [
    "notes = qobj.instruments[0].notes\n",
    "print(notes[:5])\n",
    "end_time = notes[-1].end\n",
    "tempo = 120\n",
    "t = end_time/(4*tempo)\n",
    "t=350\n",
    "\n",
    "# ans = 99999\n",
    "# prev_end = 0\n",
    "# for n in notes:\n",
    "#     if n.start > prev_end:\n",
    "#         dur = n.start - prev_end\n",
    "#         ans = min(ans, dur)\n",
    "#     ans = min(ans, n.end - n.start)\n",
    "#     prev_end = n.end\n",
    "# t = ans\n"
   ]
  },
  {
   "cell_type": "code",
   "execution_count": null,
   "metadata": {},
   "outputs": [],
   "source": []
  },
  {
   "cell_type": "code",
   "execution_count": null,
   "metadata": {},
   "outputs": [],
   "source": []
  },
  {
   "cell_type": "code",
   "execution_count": 12,
   "metadata": {},
   "outputs": [],
   "source": [
    "from tqdm import tqdm\n",
    "import os\n",
    "import music21\n",
    "fnames = os.listdir(r\"C:\\Users\\Kshitij Alwadhi\\Documents\\GitHub\\Clarinet\\Data\\Melody\\Consolidated_processed_modified\")\n",
    "fnames = fnames[:100]\n",
    "\n",
    "def getKey(midi_filename):\n",
    "    score = music21.converter.parse(midi_filename)\n",
    "    key = score.analyze('key')\n",
    "    return(key.tonic.name)\n",
    "def getMode(midi_filename):\n",
    "    score = music21.converter.parse(midi_filename)\n",
    "    key = score.analyze('key')\n",
    "    return(key.mode)\n"
   ]
  },
  {
   "cell_type": "code",
   "execution_count": 13,
   "metadata": {},
   "outputs": [],
   "source": [
    "qrep = []\n",
    "prev_end = 0\n",
    "mode = getMode(r\"C:\\Users\\Kshitij Alwadhi\\Documents\\GitHub\\Clarinet\\Data\\Melody\\Consolidated_query_processed_modified\\MIDI-Unprocessed_01_R1_2006_01-09_ORIG_MID--AUDIO_01_R1_2006_01_Track01_wav_melody.mid\")\n",
    "for n in notes:\n",
    "    if int((n.start-prev_end)/t) != 0:\n",
    "        if n.start > prev_end:\n",
    "            qrep.append(Note(\"C\", int((n.start-prev_end)/t), rest=True,scale=mode))\n",
    "    if int((n.end-n.start)/t) != 0:\n",
    "        qrep.append(Note(midiEt_to_note[n.pitch % 12 + 12], int((n.end-n.start)/t), rest=False,scale=mode))\n",
    "    prev_end = n.end\n"
   ]
  },
  {
   "cell_type": "code",
   "execution_count": 14,
   "metadata": {},
   "outputs": [],
   "source": [
    "def compute_similarities(qrep):\n",
    "    fname_to_similarity = {}\n",
    "    for fname in fnames:\n",
    "        sim = 0\n",
    "        obj = mtk.MidiFile(r\"C:\\Users\\Kshitij Alwadhi\\Documents\\GitHub\\Clarinet\\Data\\Melody\\Consolidated_processed_modified\\\\\" + fname)\n",
    "        notes = obj.instruments[0].notes \n",
    "        # ans = 99999\n",
    "        # prev_end = 0\n",
    "        \n",
    "        # for n in notes:\n",
    "        #     if n.start > prev_end:\n",
    "        #         dur = n.start - prev_end\n",
    "        #         ans = min(ans, dur)\n",
    "        #     ans = min(ans, n.end - n.start)\n",
    "        #     prev_end = n.end\n",
    "        # t = ans\n",
    "        t = 350\n",
    "        mode = getMode(r\"C:\\Users\\Kshitij Alwadhi\\Documents\\GitHub\\Clarinet\\Data\\Melody\\Consolidated_processed_modified\\\\\" + fname)\n",
    "        \n",
    "\n",
    "        rep = []\n",
    "        prev_end = 0\n",
    "        for n in notes:\n",
    "            if int((n.start-prev_end)/t) != 0:\n",
    "                if n.start > prev_end:\n",
    "                    rep.append(Note(\"C\", int((n.start-prev_end)/t), rest=True,scale=mode))\n",
    "            if int((n.end-n.start)/t) != 0:\n",
    "                rep.append(Note(midiEt_to_note[n.pitch % 12 + 12], int((n.end-n.start)/t), rest=False,scale=mode))\n",
    "            prev_end = n.end\n",
    "        sim = similarity(qrep, rep)\n",
    "        fname_to_similarity[fname] = sim\n",
    "    return fname_to_similarity\n"
   ]
  },
  {
   "cell_type": "code",
   "execution_count": 15,
   "metadata": {},
   "outputs": [
    {
     "name": "stderr",
     "output_type": "stream",
     "text": [
      "22it [00:00, ?it/s]                  \n",
      "62it [00:00, 1885.89it/s]             \n",
      "20it [00:00, 2363.72it/s]            \n",
      "66it [00:00, 6531.18it/s]             \n",
      "82it [00:00, 4337.17it/s]             \n",
      "44it [00:00, 5453.43it/s]             \n",
      "53it [00:00, 6574.92it/s]             \n",
      "29it [00:00, 3623.43it/s]            \n",
      "59it [00:00, 3591.95it/s]             \n",
      "16it [00:00, 1814.83it/s]            \n",
      "54it [00:00, 3122.10it/s]             \n",
      "70it [00:00, 3920.49it/s]             \n",
      "59it [00:00, 3472.64it/s]             \n",
      "45it [00:00, 2809.77it/s]             \n",
      "25it [00:00, 3123.36it/s]            \n",
      "59it [00:00, 6972.19it/s]             \n",
      "48it [00:00, 2813.95it/s]             \n",
      "47it [00:00, 5792.73it/s]             \n",
      "76it [00:00, 4774.68it/s]             \n",
      "46it [00:00, 5728.73it/s]             \n",
      "60it [00:00, 3599.03it/s]             \n",
      "20it [00:00, 2486.91it/s]            \n",
      "17it [00:00, 1642.97it/s]            \n",
      "47it [00:00, 5844.25it/s]             \n",
      "32it [00:00, 3966.36it/s]            \n",
      "62it [00:00, 7517.11it/s]             \n",
      "30it [00:00, 4428.73it/s]            \n",
      "8it [00:00, ?it/s]                   \n",
      "35it [00:00, 4099.77it/s]             \n",
      "39it [00:00, 4155.41it/s]             \n",
      "50it [00:00, 6153.62it/s]             \n",
      "30it [00:00, ?it/s]                  \n",
      "55it [00:00, 6807.53it/s]             \n",
      "59it [00:00, 5478.26it/s]             \n",
      "31it [00:00, 2741.66it/s]            \n",
      "100%|██████████| 1/1 [00:00<?, ?it/s]\n",
      "45it [00:00, 4703.42it/s]             \n",
      "100%|██████████| 1/1 [00:00<?, ?it/s]\n",
      "38it [00:00, 4482.10it/s]             \n",
      "32it [00:00, 4215.12it/s]            \n",
      "17it [00:00, 1602.82it/s]            \n",
      "57it [00:00, 1733.71it/s]             \n",
      "53it [00:00, 2428.40it/s]             \n",
      "55it [00:00, 3410.96it/s]             \n",
      "42it [00:00, 5068.35it/s]             \n",
      " 50%|█████     | 1/2 [00:00<?, ?it/s]\n",
      "23it [00:00, 2930.23it/s]            \n",
      " 50%|█████     | 1/2 [00:00<?, ?it/s]\n",
      "100%|██████████| 1/1 [00:00<?, ?it/s]\n",
      "34it [00:00, ?it/s]                   \n",
      "41it [00:00, 5123.39it/s]             \n",
      "15it [00:00, ?it/s]                  \n",
      "21it [00:00, 2620.19it/s]            \n",
      "47it [00:00, 2926.85it/s]             \n",
      "27it [00:00, 3372.43it/s]            \n",
      "86it [00:00, 3439.10it/s]             \n",
      "48it [00:00, 1998.91it/s]             \n",
      "47it [00:00, 4959.68it/s]             \n",
      "40it [00:00, 4766.93it/s]             \n",
      "73it [00:00, 8424.38it/s]             \n",
      "33it [00:00, 3665.67it/s]             \n",
      "10it [00:00, ?it/s]                  \n",
      "25it [00:00, 3375.10it/s]            \n",
      "35it [00:00, 4288.65it/s]             \n",
      "67it [00:00, 4025.53it/s]             \n",
      "68it [00:00, 6582.64it/s]             \n",
      "70it [00:00, 6299.51it/s]             \n",
      "100%|██████████| 1/1 [00:00<?, ?it/s]\n",
      "63it [00:00, 8709.05it/s]             \n",
      "39it [00:00, 4656.09it/s]             \n",
      "74it [00:00, 9251.22it/s]             \n",
      "24it [00:00, 2947.68it/s]            \n",
      "3it [00:00, ?it/s]                   \n",
      "69it [00:00, 8494.73it/s]             \n",
      "41it [00:00, 4845.49it/s]             \n",
      "59it [00:00, 3868.62it/s]             \n",
      "68it [00:00, 4250.18it/s]             \n",
      "18it [00:00, 2130.23it/s]            \n",
      "13it [00:00, ?it/s]                  \n",
      "41it [00:00, 4598.77it/s]             \n",
      "38it [00:00, 6227.62it/s]             \n",
      "18it [00:00, 2074.73it/s]            \n",
      "71it [00:00, 4140.25it/s]             \n",
      "47it [00:00, 5950.44it/s]             \n",
      "56it [00:00, 3440.77it/s]             \n",
      "12it [00:00, ?it/s]                  \n",
      "55it [00:00, 6258.12it/s]             \n",
      "18it [00:00, ?it/s]                  \n",
      "11it [00:00, 1366.26it/s]            \n",
      "45it [00:00, 5182.56it/s]             \n",
      "16it [00:00, 1987.53it/s]            \n",
      "66it [00:00, 4124.93it/s]             \n",
      "8it [00:00, 993.94it/s]              \n",
      "34it [00:00, 3950.86it/s]             \n",
      "80it [00:00, 4957.29it/s]             \n",
      "68it [00:00, 4202.96it/s]             \n",
      "41it [00:00, 2466.42it/s]             \n",
      "39it [00:00, 4829.01it/s]             \n",
      "35it [00:00, 4353.52it/s]             \n",
      "55it [00:00, 6758.47it/s]             \n"
     ]
    }
   ],
   "source": [
    "fname_to_similarity = compute_similarities(qrep)"
   ]
  },
  {
   "cell_type": "code",
   "execution_count": 16,
   "metadata": {},
   "outputs": [
    {
     "data": {
      "text/plain": [
       "{'MIDI-Unprocessed_02_R1_2008_01-05_ORIG_MID--AUDIO_02_R1_2008_wav--1_melody.mid': 1.0,\n",
       " 'MIDI-Unprocessed_02_R1_2008_01-05_ORIG_MID--AUDIO_02_R1_2008_wav--3_melody.mid': 1.0,\n",
       " 'MIDI-Unprocessed_03_R1_2009_03-08_ORIG_MID--AUDIO_03_R1_2009_03_R1_2009_06_WAV_melody.mid': 0.5,\n",
       " 'MIDI-Unprocessed_02_R1_2008_01-05_ORIG_MID--AUDIO_02_R1_2008_wav--5_melody.mid': 0.3749999999999999,\n",
       " 'MIDI-UNPROCESSED_04-05_R1_2014_MID--AUDIO_05_R1_2014_wav--1_melody.mid': 0.25,\n",
       " 'MIDI-UNPROCESSED_01-03_R1_2014_MID--AUDIO_01_R1_2014_wav--3_melody.mid': 0.22499999999999998,\n",
       " 'MIDI-Unprocessed_01_R1_2008_01-04_ORIG_MID--AUDIO_01_R1_2008_wav--3_melody.mid': 0.22499999999999998,\n",
       " 'MIDI-Unprocessed_01_R1_2011_MID--AUDIO_R1-D1_06_Track06_wav_melody.mid': 0.22499999999999998,\n",
       " 'MIDI-Unprocessed_02_R2_2011_MID--AUDIO_R2-D1_02_Track02_wav_melody.mid': 0.22499999999999998,\n",
       " 'MIDI-Unprocessed_03_R1_2008_01-04_ORIG_MID--AUDIO_03_R1_2008_wav--1_melody.mid': 0.22499999999999998,\n",
       " 'MIDI-Unprocessed_03_R1_2009_03-08_ORIG_MID--AUDIO_03_R1_2009_03_R1_2009_03_WAV_melody.mid': 0.22499999999999998,\n",
       " 'MIDI-Unprocessed_03_R1_2009_03-08_ORIG_MID--AUDIO_03_R1_2009_03_R1_2009_05_WAV_melody.mid': 0.22499999999999998,\n",
       " 'MIDI-Unprocessed_03_R2_2008_01-03_ORIG_MID--AUDIO_03_R2_2008_wav--1_melody.mid': 0.22499999999999998,\n",
       " 'MIDI-UNPROCESSED_04-05_R1_2014_MID--AUDIO_05_R1_2014_wav--5_melody.mid': 0.22499999999999998,\n",
       " 'MIDI-UNPROCESSED_01-03_R1_2014_MID--AUDIO_03_R1_2014_wav--4_melody.mid': 0.19999999999999996,\n",
       " 'MIDI-UNPROCESSED_01-03_R1_2014_MID--AUDIO_03_R1_2014_wav--6_melody.mid': 0.19999999999999996,\n",
       " 'MIDI-Unprocessed_01_R1_2006_01-09_ORIG_MID--AUDIO_01_R1_2006_02_Track02_wav_melody.mid': 0.19999999999999996,\n",
       " 'MIDI-Unprocessed_01_R1_2009_01-04_ORIG_MID--AUDIO_01_R1_2009_01_R1_2009_02_WAV_melody.mid': 0.19999999999999996,\n",
       " 'MIDI-Unprocessed_01_R1_2009_01-04_ORIG_MID--AUDIO_01_R1_2009_01_R1_2009_04_WAV_melody.mid': 0.19999999999999996,\n",
       " 'MIDI-Unprocessed_01_R1_2011_MID--AUDIO_R1-D1_02_Track02_wav_melody.mid': 0.19999999999999996,\n",
       " 'MIDI-Unprocessed_01_R1_2011_MID--AUDIO_R1-D1_03_Track03_wav_melody.mid': 0.19999999999999996,\n",
       " 'MIDI-Unprocessed_01_R2_2006_01_ORIG_MID--AUDIO_01_R2_2006_03_Track03_wav_melody.mid': 0.19999999999999996,\n",
       " 'MIDI-Unprocessed_02_R1_2006_01-04_ORIG_MID--AUDIO_02_R1_2006_02_Track02_wav_melody.mid': 0.19999999999999996,\n",
       " 'MIDI-Unprocessed_02_R1_2006_01-04_ORIG_MID--AUDIO_02_R1_2006_03_Track03_wav_melody.mid': 0.19999999999999996,\n",
       " 'MIDI-Unprocessed_02_R1_2008_01-05_ORIG_MID--AUDIO_02_R1_2008_wav--2_melody.mid': 0.19999999999999996,\n",
       " 'MIDI-Unprocessed_02_R1_2008_01-05_ORIG_MID--AUDIO_02_R1_2008_wav--4_melody.mid': 0.19999999999999996,\n",
       " 'MIDI-Unprocessed_02_R1_2009_01-02_ORIG_MID--AUDIO_02_R1_2009_02_R1_2009_01_WAV_melody.mid': 0.19999999999999996,\n",
       " 'MIDI-Unprocessed_02_R1_2009_03-06_ORIG_MID--AUDIO_02_R1_2009_02_R1_2009_04_WAV_melody.mid': 0.19999999999999996,\n",
       " 'MIDI-Unprocessed_02_R1_2011_MID--AUDIO_R1-D1_10_Track10_wav_melody.mid': 0.19999999999999996,\n",
       " 'MIDI-Unprocessed_02_R2_2008_01-05_ORIG_MID--AUDIO_02_R2_2008_wav--4_melody.mid': 0.19999999999999996,\n",
       " 'MIDI-Unprocessed_02_R2_2008_01-05_ORIG_MID--AUDIO_02_R2_2008_wav--5_melody.mid': 0.19999999999999996,\n",
       " 'MIDI-Unprocessed_02_R3_2008_01-03_ORIG_MID--AUDIO_02_R3_2008_wav--1_melody.mid': 0.19999999999999996,\n",
       " 'MIDI-Unprocessed_02_R3_2008_01-03_ORIG_MID--AUDIO_02_R3_2008_wav--2_melody.mid': 0.19999999999999996,\n",
       " 'MIDI-Unprocessed_03_R1_2006_01-05_ORIG_MID--AUDIO_03_R1_2006_04_Track04_wav_melody.mid': 0.19999999999999996,\n",
       " 'MIDI-Unprocessed_03_R1_2009_03-08_ORIG_MID--AUDIO_03_R1_2009_03_R1_2009_08_WAV_melody.mid': 0.19999999999999996,\n",
       " 'MIDI-Unprocessed_03_R1_2011_MID--AUDIO_R1-D1_16_Track16_wav_melody.mid': 0.19999999999999996,\n",
       " 'MIDI-Unprocessed_03_R1_2011_MID--AUDIO_R1-D1_17_Track17_wav_melody.mid': 0.19999999999999996,\n",
       " 'MIDI-Unprocessed_03_R2_2008_01-03_ORIG_MID--AUDIO_03_R2_2008_wav--2_melody.mid': 0.19999999999999996,\n",
       " 'MIDI-Unprocessed_03_R2_2008_01-03_ORIG_MID--AUDIO_03_R2_2008_wav--3_melody.mid': 0.19999999999999996,\n",
       " 'MIDI-Unprocessed_03_R2_2011_MID--AUDIO_R2-D1_06_Track06_wav_melody.mid': 0.19999999999999996,\n",
       " 'MIDI-Unprocessed_03_R2_2011_MID--AUDIO_R2-D1_08_Track08_wav_melody.mid': 0.19999999999999996,\n",
       " 'MIDI-Unprocessed_03_R3_2011_MID--AUDIO_R3-D1_02_Track02_wav_melody.mid': 0.19999999999999996,\n",
       " 'MIDI-Unprocessed_03_R3_2011_MID--AUDIO_R3-D1_05_Track05_wav_melody.mid': 0.19999999999999996,\n",
       " 'MIDI-UNPROCESSED_04-05_R1_2014_MID--AUDIO_04_R1_2014_wav--1_melody.mid': 0.19999999999999996,\n",
       " 'MIDI-UNPROCESSED_01-03_R1_2014_MID--AUDIO_02_R1_2014_wav--1_melody.mid': 0.17499999999999993,\n",
       " 'MIDI-UNPROCESSED_04-05_R1_2014_MID--AUDIO_05_R1_2014_wav--6_melody.mid': 0.1499999999999999,\n",
       " 'MIDI-Unprocessed_03_R1_2006_01-05_ORIG_MID--AUDIO_03_R1_2006_05_Track05_wav_melody.mid': 0.09999999999999998,\n",
       " 'MIDI-Unprocessed_02_R2_2008_01-05_ORIG_MID--AUDIO_02_R2_2008_wav--3_melody.mid': 0.07499999999999996,\n",
       " 'MIDI-UNPROCESSED_04-05_R1_2014_MID--AUDIO_05_R1_2014_wav--2_melody.mid': 0.07499999999999996,\n",
       " 'MIDI-UNPROCESSED_04-05_R1_2014_MID--AUDIO_05_R1_2014_wav--8_melody.mid': 0.07499999999999996,\n",
       " 'MIDI-Unprocessed_03_R2_2011_MID--AUDIO_R2-D1_07_Track07_wav_melody.mid': 0.04999999999999993,\n",
       " 'MIDI-UNPROCESSED_01-03_R1_2014_MID--AUDIO_03_R1_2014_wav--2_melody.mid': 0.025000000000000022,\n",
       " 'MIDI-Unprocessed_01_R1_2011_MID--AUDIO_R1-D1_05_Track05_wav_melody.mid': 0.025000000000000022,\n",
       " 'MIDI-UNPROCESSED_04-05_R1_2014_MID--AUDIO_04_R1_2014_wav--3_melody.mid': 0.025000000000000022,\n",
       " 'MIDI-UNPROCESSED_04-05_R1_2014_MID--AUDIO_04_R1_2014_wav--4_melody.mid': 0.02499999999999991,\n",
       " 'MIDI-UNPROCESSED_01-03_R1_2014_MID--AUDIO_01_R1_2014_wav--2_melody.mid': 0.0,\n",
       " 'MIDI-UNPROCESSED_01-03_R1_2014_MID--AUDIO_01_R1_2014_wav--5_melody.mid': 0.0,\n",
       " 'MIDI-Unprocessed_01_R1_2006_01-09_ORIG_MID--AUDIO_01_R1_2006_01_Track01_wav_melody.mid': 0.0,\n",
       " 'MIDI-Unprocessed_01_R1_2008_01-04_ORIG_MID--AUDIO_01_R1_2008_wav--2_melody.mid': 0.0,\n",
       " 'MIDI-Unprocessed_01_R1_2009_01-04_ORIG_MID--AUDIO_01_R1_2009_01_R1_2009_01_WAV_melody.mid': 0.0,\n",
       " 'MIDI-Unprocessed_01_R2_2006_01_ORIG_MID--AUDIO_01_R2_2006_02_Track02_wav_melody.mid': 0.0,\n",
       " 'MIDI-Unprocessed_02_R1_2006_01-04_ORIG_MID--AUDIO_02_R1_2006_01_Track01_wav_melody.mid': 0.0,\n",
       " 'MIDI-Unprocessed_02_R1_2009_03-06_ORIG_MID--AUDIO_02_R1_2009_02_R1_2009_05_WAV_melody.mid': 0.0,\n",
       " 'MIDI-Unprocessed_02_R2_2008_01-05_ORIG_MID--AUDIO_02_R2_2008_wav--1_melody.mid': 0.0,\n",
       " 'MIDI-Unprocessed_02_R2_2011_MID--AUDIO_R2-D1_03_Track03_wav_melody.mid': 0.0,\n",
       " 'MIDI-Unprocessed_03_R1_2009_03-08_ORIG_MID--AUDIO_03_R1_2009_03_R1_2009_07_WAV_melody.mid': 0.0,\n",
       " 'MIDI-Unprocessed_03_R3_2011_MID--AUDIO_R3-D1_06_Track06_wav_melody.mid': 0.0,\n",
       " 'MIDI-UNPROCESSED_04-05_R1_2014_MID--AUDIO_04_R1_2014_wav--2_melody.mid': 0.0,\n",
       " 'MIDI-Unprocessed_01_R1_2008_01-04_ORIG_MID--AUDIO_01_R1_2008_wav--1_melody.mid': -0.02499999999999991,\n",
       " 'MIDI-Unprocessed_01_R1_2011_MID--AUDIO_R1-D1_04_Track04_wav_melody.mid': -0.02499999999999991,\n",
       " 'MIDI-Unprocessed_02_R1_2011_MID--AUDIO_R1-D1_09_Track09_wav_melody.mid': -0.02499999999999991,\n",
       " 'MIDI-Unprocessed_03_R1_2009_03-08_ORIG_MID--AUDIO_03_R1_2009_03_R1_2009_04_WAV_melody.mid': -0.02499999999999991,\n",
       " 'MIDI-Unprocessed_03_R1_2011_MID--AUDIO_R1-D1_19_Track19_wav_melody.mid': -0.02499999999999991,\n",
       " 'MIDI-UNPROCESSED_04-05_R1_2014_MID--AUDIO_04_R1_2014_wav--5_melody.mid': -0.02499999999999991,\n",
       " 'MIDI-Unprocessed_03_R1_2008_01-04_ORIG_MID--AUDIO_03_R1_2008_wav--4_melody.mid': -0.050000000000000044,\n",
       " 'MIDI-Unprocessed_03_R1_2008_01-04_ORIG_MID--AUDIO_03_R1_2008_wav--2_melody.mid': -0.07499999999999996,\n",
       " 'MIDI-UNPROCESSED_01-03_R1_2014_MID--AUDIO_02_R1_2014_wav--2_melody.mid': -0.09999999999999987,\n",
       " 'MIDI-Unprocessed_01_R2_2006_01_ORIG_MID--AUDIO_01_R2_2006_01_Track01_wav_melody.mid': -0.09999999999999987,\n",
       " 'MIDI-UNPROCESSED_01-03_R1_2014_MID--AUDIO_03_R1_2014_wav--5_melody.mid': -0.10000000000000009,\n",
       " 'MIDI-Unprocessed_01_R1_2006_01-09_ORIG_MID--AUDIO_01_R1_2006_03_Track03_wav_melody.mid': -0.1499999999999999,\n",
       " 'MIDI-Unprocessed_03_R3_2011_MID--AUDIO_R3-D1_03_Track03_wav_melody.mid': -0.1499999999999999,\n",
       " 'MIDI-Unprocessed_02_R1_2009_03-06_ORIG_MID--AUDIO_02_R1_2009_02_R1_2009_03_WAV_melody.mid': -0.17499999999999982,\n",
       " 'MIDI-Unprocessed_03_R1_2011_MID--AUDIO_R1-D1_15_Track15_wav_melody.mid': -0.19999999999999996,\n",
       " 'MIDI-Unprocessed_01_R1_2006_01-09_ORIG_MID--AUDIO_01_R1_2006_04_Track04_wav_melody.mid': -0.2250000000000001,\n",
       " 'MIDI-UNPROCESSED_01-03_R1_2014_MID--AUDIO_02_R1_2014_wav--4_melody.mid': -0.25,\n",
       " 'MIDI-UNPROCESSED_01-03_R1_2014_MID--AUDIO_03_R1_2014_wav--3_melody.mid': -0.25,\n",
       " 'MIDI-Unprocessed_03_R1_2008_01-04_ORIG_MID--AUDIO_03_R1_2008_wav--3_melody.mid': -0.25,\n",
       " 'MIDI-Unprocessed_03_R1_2011_MID--AUDIO_R1-D1_18_Track18_wav_melody.mid': -0.25,\n",
       " 'MIDI-UNPROCESSED_01-03_R1_2014_MID--AUDIO_01_R1_2014_wav--1_melody.mid': -0.2749999999999999,\n",
       " 'MIDI-UNPROCESSED_04-05_R1_2014_MID--AUDIO_05_R1_2014_wav--4_melody.mid': -0.2749999999999999,\n",
       " 'MIDI-Unprocessed_02_R1_2009_01-02_ORIG_MID--AUDIO_02_R1_2009_02_R1_2009_02_WAV_melody.mid': -0.3500000000000001,\n",
       " 'MIDI-UNPROCESSED_04-05_R1_2014_MID--AUDIO_05_R1_2014_wav--7_melody.mid': -0.3999999999999999,\n",
       " 'MIDI-UNPROCESSED_01-03_R1_2014_MID--AUDIO_02_R1_2014_wav--5_melody.mid': -0.4125000000000001,\n",
       " 'MIDI-Unprocessed_03_R3_2011_MID--AUDIO_R3-D1_04_Track04_wav_melody.mid': -0.44999999999999996,\n",
       " 'MIDI-Unprocessed_01_R1_2006_01-09_ORIG_MID--AUDIO_01_R1_2006_05_Track05_wav_melody.mid': -0.5,\n",
       " 'MIDI-Unprocessed_02_R3_2008_01-03_ORIG_MID--AUDIO_02_R3_2008_wav--3_melody.mid': -0.5249999999999999,\n",
       " 'MIDI-Unprocessed_03_R1_2009_01-02_ORIG_MID--AUDIO_03_R1_2009_03_R1_2009_02_WAV_melody.mid': -0.5249999999999999,\n",
       " 'MIDI-Unprocessed_03_R3_2008_01-03_ORIG_MID--AUDIO_03_R3_2008_wav--1_melody.mid': -0.7749999999999999,\n",
       " 'MIDI-Unprocessed_02_R1_2011_MID--AUDIO_R1-D1_08_Track08_wav_melody.mid': -0.7999999999999998,\n",
       " 'MIDI-Unprocessed_03_R3_2011_MID--AUDIO_R3-D1_07_Track07_wav_melody.mid': -0.8249999999999997}"
      ]
     },
     "execution_count": 16,
     "metadata": {},
     "output_type": "execute_result"
    }
   ],
   "source": [
    "dict(sorted(fname_to_similarity.items(), key=lambda item: item[1], reverse=True))"
   ]
  },
  {
   "cell_type": "code",
   "execution_count": 17,
   "metadata": {},
   "outputs": [
    {
     "data": {
      "text/plain": [
       "0.0"
      ]
     },
     "execution_count": 17,
     "metadata": {},
     "output_type": "execute_result"
    }
   ],
   "source": [
    "fname_to_similarity[\"MIDI-Unprocessed_01_R1_2006_01-09_ORIG_MID--AUDIO_01_R1_2006_01_Track01_wav_melody.mid\"]\n"
   ]
  },
  {
   "cell_type": "code",
   "execution_count": null,
   "metadata": {},
   "outputs": [],
   "source": []
  },
  {
   "cell_type": "code",
   "execution_count": 18,
   "metadata": {},
   "outputs": [
    {
     "name": "stderr",
     "output_type": "stream",
     "text": [
      "100%|██████████| 2/2 [00:00<?, ?it/s]\n"
     ]
    },
    {
     "data": {
      "text/plain": [
       "-19.0"
      ]
     },
     "execution_count": 18,
     "metadata": {},
     "output_type": "execute_result"
    }
   ],
   "source": [
    "similarity([Note(\"C\", 10), Note(\"D\", 30)], [Note(\"C\", 10), Note(\"D\", 50), Note(\"E\", 30)])\n"
   ]
  },
  {
   "cell_type": "code",
   "execution_count": null,
   "metadata": {},
   "outputs": [],
   "source": []
  }
 ],
 "metadata": {
  "interpreter": {
   "hash": "ed375616437d1b2aa7bee143630496d92aeefbddeec0f66e9ff788f086bd6b2a"
  },
  "kernelspec": {
   "display_name": "Python 3.7.6 64-bit",
   "language": "python",
   "name": "python3"
  },
  "language_info": {
   "codemirror_mode": {
    "name": "ipython",
    "version": 3
   },
   "file_extension": ".py",
   "mimetype": "text/x-python",
   "name": "python",
   "nbconvert_exporter": "python",
   "pygments_lexer": "ipython3",
   "version": "3.7.6"
  },
  "orig_nbformat": 4
 },
 "nbformat": 4,
 "nbformat_minor": 2
}
