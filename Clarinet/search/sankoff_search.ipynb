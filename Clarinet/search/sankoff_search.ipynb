{
 "cells": [
  {
   "cell_type": "code",
   "execution_count": 1,
   "metadata": {},
   "outputs": [],
   "source": [
    "import json\n",
    "data_dir = \"C:/Users/Kshitij Alwadhi/Documents/GitHub/Clarinet/Data/Json/2018_clipped_processed/\"+'melody.json'\n",
    "queries = \"C:/Users/Kshitij Alwadhi/Documents/GitHub/Clarinet/Data/Json/2018_queries_processed/\"+'melody.json'\n"
   ]
  },
  {
   "cell_type": "code",
   "execution_count": 2,
   "metadata": {},
   "outputs": [],
   "source": [
    "with open(data_dir, 'r') as f:\n",
    "    fname_to_notes = json.load(f)\n"
   ]
  },
  {
   "cell_type": "code",
   "execution_count": 3,
   "metadata": {},
   "outputs": [],
   "source": [
    "midiEt_to_note = {\n",
    "    12: \"C\",\n",
    "    13: \"C#\",\n",
    "    14: \"D\",\n",
    "    15: \"D#\",\n",
    "    16: \"E\",\n",
    "    17: \"F\",\n",
    "    18: \"F#\",\n",
    "    19: \"G\",\n",
    "    20: \"G#\",\n",
    "    21: \"A\",\n",
    "    22: \"A#\",\n",
    "    23: \"B\"\n",
    "}\n",
    "\n",
    "\n",
    "# a function which converts a sequence of midiEt to a sequence of notes\n",
    "def midiEt_to_note_sequence(midiEt_sequence):\n",
    "    note_sequence = []\n",
    "    for midiEt in midiEt_sequence:\n",
    "        num = midiEt % 12\n",
    "        note_sequence.append(midiEt_to_note[num + 12])\n",
    "    return \"\".join(note_sequence)\n"
   ]
  },
  {
   "cell_type": "code",
   "execution_count": 4,
   "metadata": {},
   "outputs": [],
   "source": [
    "from similarity_sankoff import similarity, Note\n",
    "import miditoolkit as mtk\n",
    "# queries=[Note(\"G\",2,rest=False)]\n",
    "\n",
    "# t=total_time/(4*tempo)\n",
    "# duration=int(end-start/t)"
   ]
  },
  {
   "cell_type": "code",
   "execution_count": 27,
   "metadata": {},
   "outputs": [],
   "source": [
    "#obj = mtk.MidiFile(r\"C:\\Users\\Kshitij Alwadhi\\Documents\\GitHub\\Clarinet\\Data\\Melody\\2018_clipped\\MIDI-Unprocessed_Chamber2_MID--AUDIO_09_R3_2018_wav--1_melody.mid\")\n",
    "obj = mtk.MidiFile(r\"C:\\Users\\Kshitij Alwadhi\\Documents\\GitHub\\Clarinet\\Data\\Melody\\2018_clipped_processed\\MIDI-Unprocessed_Chamber6_MID--AUDIO_20_R3_2018_wav--1_melody.mid\")\n"
   ]
  },
  {
   "cell_type": "code",
   "execution_count": 28,
   "metadata": {},
   "outputs": [],
   "source": [
    "from Clarinet.preprocessing import getBPM"
   ]
  },
  {
   "cell_type": "code",
   "execution_count": 29,
   "metadata": {},
   "outputs": [
    {
     "name": "stdout",
     "output_type": "stream",
     "text": [
      "40789\n"
     ]
    }
   ],
   "source": [
    "notes = obj.instruments[0].notes\n",
    "#print(notes[:5])\n",
    "end_time = notes[-1].end\n",
    "print(end_time)\n",
    "#tempo = getBPM(r\"C:\\Users\\Kshitij Alwadhi\\Documents\\GitHub\\Clarinet\\Data\\Melody\\2018_clipped_processed\\MIDI-Unprocessed_Chamber6_MID--AUDIO_20_R3_2018_wav--1_melody.mid\")\n",
    "tempo = 120\n",
    "t = end_time/(4*tempo)\n",
    "t = 32/768\n",
    "# ans = 99999\n",
    "# prev_end = 0\n",
    "# for n in notes:\n",
    "#     if n.start > prev_end:\n",
    "#         dur = n.start - prev_end\n",
    "#         ans = min(ans, dur)\n",
    "#     ans = min(ans, n.end - n.start)\n",
    "#     prev_end = n.end\n",
    "# t= ans\n",
    "        \n"
   ]
  },
  {
   "cell_type": "code",
   "execution_count": 31,
   "metadata": {},
   "outputs": [
    {
     "name": "stdout",
     "output_type": "stream",
     "text": [
      "844.2894736842105\n",
      "908.9625349205526\n"
     ]
    }
   ],
   "source": [
    "import numpy as np\n",
    "sum= 0\n",
    "start = []\n",
    "end = []\n",
    "for n in notes:\n",
    "    start.append(n.start)\n",
    "    end.append(n.end)\n",
    "diff = np.array(end) - np.array(start)\n",
    "print(np.mean(diff))\n",
    "print(np.std(diff))"
   ]
  },
  {
   "cell_type": "code",
   "execution_count": 8,
   "metadata": {},
   "outputs": [],
   "source": [
    "rep = []\n",
    "prev_end = 0\n",
    "for n in notes:\n",
    "    if int((n.start-prev_end)/t) != 0:\n",
    "        if n.start > prev_end:\n",
    "            rep.append(Note(\"C\",int((n.start-prev_end)/t),rest=True))\n",
    "    if int((n.end-n.start)/t) != 0:\n",
    "        rep.append(Note(midiEt_to_note[n.pitch%12 + 12],int((n.end-n.start)/t),rest=False))\n",
    "    prev_end = n.end\n"
   ]
  },
  {
   "cell_type": "code",
   "execution_count": 49,
   "metadata": {},
   "outputs": [],
   "source": [
    "#qobj = mtk.MidiFile(r\"C:\\Users\\Kshitij Alwadhi\\Documents\\GitHub\\Clarinet\\Data\\Melody\\2018_queries\\MIDI-Unprocessed_Chamber2_MID--AUDIO_09_R3_2018_wav--1_query_melody.mid\")\n",
    "qobj = mtk.MidiFile(r\"C:\\Users\\Kshitij Alwadhi\\Documents\\GitHub\\Clarinet\\Data\\Melody\\2018_queries_processed\\MIDI-Unprocessed_Chamber6_MID--AUDIO_20_R3_2018_wav--1_query_melody.mid\")\n"
   ]
  },
  {
   "cell_type": "code",
   "execution_count": 50,
   "metadata": {},
   "outputs": [
    {
     "name": "stdout",
     "output_type": "stream",
     "text": [
      "[Note(start=1792, end=3157, pitch=67, velocity=58), Note(start=3157, end=3328, pitch=60, velocity=22), Note(start=3328, end=3840, pitch=69, velocity=59), Note(start=3840, end=4096, pitch=67, velocity=63), Note(start=4096, end=5461, pitch=62, velocity=46)]\n"
     ]
    }
   ],
   "source": [
    "notes = qobj.instruments[0].notes\n",
    "print(notes[:5])\n",
    "end_time = notes[-1].end\n",
    "tempo = 120\n",
    "t = end_time/(4*tempo)\n",
    "t=350\n",
    "\n",
    "# ans = 99999\n",
    "# prev_end = 0\n",
    "# for n in notes:\n",
    "#     if n.start > prev_end:\n",
    "#         dur = n.start - prev_end\n",
    "#         ans = min(ans, dur)\n",
    "#     ans = min(ans, n.end - n.start)\n",
    "#     prev_end = n.end\n",
    "# t = ans\n"
   ]
  },
  {
   "cell_type": "code",
   "execution_count": null,
   "metadata": {},
   "outputs": [],
   "source": []
  },
  {
   "cell_type": "code",
   "execution_count": null,
   "metadata": {},
   "outputs": [],
   "source": []
  },
  {
   "cell_type": "code",
   "execution_count": 51,
   "metadata": {},
   "outputs": [],
   "source": [
    "from tqdm import tqdm\n",
    "import os\n",
    "import music21\n",
    "fnames = os.listdir(\"C:/Users/Kshitij Alwadhi/Documents/GitHub/Clarinet/Data/Melody/2018_clipped_processed/\")\n",
    "\n",
    "\n",
    "def getKey(midi_filename):\n",
    "    score = music21.converter.parse(midi_filename)\n",
    "    key = score.analyze('key')\n",
    "    return(key.tonic.name)\n",
    "def getMode(midi_filename):\n",
    "    score = music21.converter.parse(midi_filename)\n",
    "    key = score.analyze('key')\n",
    "    return(key.mode)\n"
   ]
  },
  {
   "cell_type": "code",
   "execution_count": 52,
   "metadata": {},
   "outputs": [],
   "source": [
    "qrep = []\n",
    "prev_end = 0\n",
    "mode = getMode(r\"C:\\Users\\Kshitij Alwadhi\\Documents\\GitHub\\Clarinet\\Data\\Melody\\2018_queries_processed\\MIDI-Unprocessed_Chamber6_MID--AUDIO_20_R3_2018_wav--1_query_melody.mid\")\n",
    "for n in notes:\n",
    "    if int((n.start-prev_end)/t) != 0:\n",
    "        if n.start > prev_end:\n",
    "            qrep.append(Note(\"C\", int((n.start-prev_end)/t), rest=True,scale=mode))\n",
    "    if int((n.end-n.start)/t) != 0:\n",
    "        qrep.append(Note(midiEt_to_note[n.pitch % 12 + 12], int((n.end-n.start)/t), rest=False,scale=mode))\n",
    "    prev_end = n.end"
   ]
  },
  {
   "cell_type": "code",
   "execution_count": 53,
   "metadata": {},
   "outputs": [],
   "source": [
    "def compute_similarities(qrep):\n",
    "    fname_to_similarity = {}\n",
    "    for fname in fnames:\n",
    "        sim = 0\n",
    "        obj = mtk.MidiFile(r\"C:/Users/Kshitij Alwadhi/Documents/GitHub/Clarinet/Data/Melody/2018_clipped_processed/\" + fname)\n",
    "        notes = obj.instruments[0].notes \n",
    "        # ans = 99999\n",
    "        # prev_end = 0\n",
    "        \n",
    "        # for n in notes:\n",
    "        #     if n.start > prev_end:\n",
    "        #         dur = n.start - prev_end\n",
    "        #         ans = min(ans, dur)\n",
    "        #     ans = min(ans, n.end - n.start)\n",
    "        #     prev_end = n.end\n",
    "        # t = ans\n",
    "        t = 350\n",
    "        mode = getMode(r\"C:/Users/Kshitij Alwadhi/Documents/GitHub/Clarinet/Data/Melody/2018_clipped_processed/\" + fname)\n",
    "        \n",
    "\n",
    "        rep = []\n",
    "        prev_end = 0\n",
    "        for n in notes:\n",
    "            if int((n.start-prev_end)/t) != 0:\n",
    "                if n.start > prev_end:\n",
    "                    rep.append(Note(\"C\", int((n.start-prev_end)/t), rest=True,scale=mode))\n",
    "            if int((n.end-n.start)/t) != 0:\n",
    "                rep.append(Note(midiEt_to_note[n.pitch % 12 + 12], int((n.end-n.start)/t), rest=False,scale=mode))\n",
    "            prev_end = n.end\n",
    "        sim = similarity(qrep, rep)\n",
    "        fname_to_similarity[fname] = sim\n",
    "    return fname_to_similarity\n"
   ]
  },
  {
   "cell_type": "code",
   "execution_count": 54,
   "metadata": {},
   "outputs": [
    {
     "name": "stderr",
     "output_type": "stream",
     "text": [
      "21it [00:00, 647.87it/s]             \n",
      "20it [00:00, 731.18it/s]             \n",
      "18it [00:00, 750.13it/s]             \n",
      "20it [00:00, 833.25it/s]             \n",
      "26it [00:00, 1625.58it/s]            \n",
      "21it [00:00, 877.59it/s]             \n",
      "21it [00:00, 692.38it/s]             \n",
      "20it [00:00, 793.05it/s]             \n",
      "13it [00:00, 1555.93it/s]            \n",
      "32it [00:00, 1229.02it/s]            \n",
      "6it [00:00, 749.25it/s]              \n",
      "25it [00:00, 1247.50it/s]            \n",
      "20it [00:00, 1212.26it/s]            \n",
      "9it [00:00, 1125.82it/s]             \n",
      "27it [00:00, 1665.63it/s]            \n",
      "5it [00:00, ?it/s]                   \n",
      "6it [00:00, 741.85it/s]              \n",
      "15it [00:00, 899.34it/s]             \n",
      "23it [00:00, 880.54it/s]             \n",
      "6it [00:00, 6521.33it/s]             \n",
      "13it [00:00, 1490.51it/s]            \n",
      "8it [00:00, 501.43it/s]              \n",
      "100%|██████████| 1/1 [00:00<?, ?it/s]\n",
      "32it [00:00, 982.82it/s]             \n",
      "25it [00:00, 1542.59it/s]            \n",
      "25it [00:00, 1041.26it/s]            \n",
      "25it [00:00, 781.49it/s]             \n",
      "22it [00:00, 681.77it/s]             \n",
      "24it [00:00, 1001.28it/s]            \n",
      "11it [00:00, 1340.54it/s]            \n",
      "15it [00:00, 891.41it/s]             \n",
      "14it [00:00, 570.56it/s]             \n",
      "19it [00:00, 1187.23it/s]            \n",
      "17it [00:00, 980.60it/s]             \n",
      "12it [00:00, 1192.44it/s]            \n",
      "28it [00:00, 1161.96it/s]            \n",
      "15it [00:00, 627.98it/s]             \n",
      "10it [00:00, 1139.76it/s]            \n",
      "13it [00:00, 1298.61it/s]            \n",
      "18it [00:00, 2256.22it/s]            \n",
      "8it [00:00, ?it/s]                   \n",
      "12it [00:00, 645.72it/s]             \n",
      "5it [00:00, 619.21it/s]              \n",
      "28it [00:00, 1742.18it/s]            \n",
      "100%|██████████| 1/1 [00:00<?, ?it/s]\n",
      "4it [00:00, ?it/s]                   \n",
      "17it [00:00, 2125.09it/s]            \n",
      " 50%|█████     | 1/2 [00:00<00:00, 99.95it/s]\n",
      "24it [00:00, 2502.82it/s]            \n",
      "14it [00:00, 1399.37it/s]            \n",
      " 50%|█████     | 1/2 [00:00<?, ?it/s]\n",
      "14it [00:00, 1399.50it/s]            \n",
      "23it [00:00, 2303.52it/s]            \n",
      "16it [00:00, 800.18it/s]             \n",
      "32it [00:00, 1065.63it/s]            \n",
      "11it [00:00, 1101.10it/s]            \n",
      "13it [00:00, 1301.77it/s]            \n",
      "28it [00:00, 1400.69it/s]            \n",
      "18it [00:00, 1803.57it/s]            \n",
      "6it [00:00, ?it/s]                   \n",
      "4it [00:00, 401.66it/s]              \n",
      "100%|██████████| 1/1 [00:00<?, ?it/s]\n",
      "15it [00:00, 745.41it/s]             \n",
      "12it [00:00, 1198.00it/s]            \n",
      "19it [00:00, 1899.96it/s]            \n",
      "17it [00:00, 850.64it/s]             \n",
      "23it [00:00, 1150.29it/s]            \n",
      "24it [00:00, 1198.64it/s]            \n",
      "40it [00:00, 2003.75it/s]            \n",
      "19it [00:00, 1899.46it/s]            \n",
      "6it [00:00, 585.40it/s]              \n",
      "20it [00:00, 2043.41it/s]            \n",
      "47it [00:00, 1174.80it/s]            \n",
      "30it [00:00, 1094.70it/s]            \n",
      "29it [00:00, 416.06it/s]             \n",
      "5it [00:00, 312.32it/s]              \n",
      "22it [00:00, 550.09it/s]             \n",
      "4it [00:00, 501.31it/s]              \n",
      "22it [00:00, 451.95it/s]             \n",
      "100%|██████████| 2/2 [00:00<00:00, 213.80it/s]\n",
      "29it [00:00, 700.27it/s]             \n",
      "19it [00:00, 775.01it/s]             \n",
      "22it [00:00, 1099.06it/s]            \n",
      "15it [00:00, 1043.60it/s]            \n",
      "18it [00:00, 1592.37it/s]            \n",
      "18it [00:00, 1858.63it/s]            \n",
      "27it [00:00, 1537.25it/s]            \n",
      "16it [00:00, 906.80it/s]             \n",
      "32it [00:00, 1268.89it/s]            \n",
      "21it [00:00, 1333.02it/s]            \n",
      "18it [00:00, 1077.06it/s]            \n",
      "13it [00:00, 812.98it/s]             \n",
      "17it [00:00, 2137.77it/s]            \n",
      "11it [00:00, ?it/s]                  \n",
      "15it [00:00, 1860.44it/s]            \n",
      "31it [00:00, 811.04it/s]             \n",
      "32it [00:00, 2002.05it/s]            \n",
      "22it [00:00, 1374.03it/s]            \n",
      "18it [00:00, 751.55it/s]             \n",
      "17it [00:00, 1062.69it/s]            \n"
     ]
    }
   ],
   "source": [
    "fname_to_similarity = compute_similarities(qrep)"
   ]
  },
  {
   "cell_type": "code",
   "execution_count": 55,
   "metadata": {},
   "outputs": [
    {
     "data": {
      "text/plain": [
       "{'MIDI-Unprocessed_Recital13-15_MID--AUDIO_14_R1_2018_wav--3_melody.mid': 0.9142857142857143,\n",
       " 'MIDI-Unprocessed_Schubert4-6_MID--AUDIO_09_R2_2018_wav_melody.mid': 0.8857142857142857,\n",
       " 'MIDI-Unprocessed_Recital17-19_MID--AUDIO_19_R1_2018_wav--3_melody.mid': 0.8714285714285714,\n",
       " 'MIDI-Unprocessed_Recital12_MID--AUDIO_12_R1_2018_wav--3_melody.mid': 0.8571428571428572,\n",
       " 'MIDI-Unprocessed_Recital5-7_MID--AUDIO_06_R1_2018_wav--1_melody.mid': 0.8571428571428572,\n",
       " 'MIDI-Unprocessed_Recital13-15_MID--AUDIO_13_R1_2018_wav--1_melody.mid': 0.8428571428571429,\n",
       " 'MIDI-Unprocessed_Recital13-15_MID--AUDIO_13_R1_2018_wav--1_melody_melody.mid': 0.8428571428571429,\n",
       " 'MIDI-Unprocessed_Recital13-15_MID--AUDIO_15_R1_2018_wav--4_melody.mid': 0.8428571428571429,\n",
       " 'MIDI-Unprocessed_Recital5-7_MID--AUDIO_07_R1_2018_wav--4_melody.mid': 0.8428571428571429,\n",
       " 'MIDI-Unprocessed_Recital8_MID--AUDIO_08_R1_2018_wav--4_melody.mid': 0.8428571428571429,\n",
       " 'MIDI-Unprocessed_Schubert4-6_MID--AUDIO_10_R2_2018_wav_melody.mid': 0.8428571428571429,\n",
       " 'MIDI-Unprocessed_Recital17-19_MID--AUDIO_19_R1_2018_wav--6_melody.mid': 0.8285714285714285,\n",
       " 'MIDI-Unprocessed_Recital5-7_MID--AUDIO_05_R1_2018_wav--1_melody.mid': 0.8285714285714285,\n",
       " 'MIDI-Unprocessed_Recital5-7_MID--AUDIO_05_R1_2018_wav--2_melody.mid': 0.8285714285714285,\n",
       " 'MIDI-Unprocessed_Recital8_MID--AUDIO_08_R1_2018_wav--1_melody.mid': 0.8285714285714285,\n",
       " 'MIDI-Unprocessed_Chamber2_MID--AUDIO_09_R3_2018_wav--1_melody.mid': 0.8142857142857143,\n",
       " 'MIDI-Unprocessed_Chamber6_MID--AUDIO_20_R3_2018_wav--1_melody.mid': 0.8142857142857143,\n",
       " 'MIDI-Unprocessed_Recital1-3_MID--AUDIO_03_R1_2018_wav--4_melody.mid': 0.8142857142857143,\n",
       " 'MIDI-Unprocessed_Recital13-15_MID--AUDIO_15_R1_2018_wav--3_melody.mid': 0.8142857142857143,\n",
       " 'MIDI-Unprocessed_Recital5-7_MID--AUDIO_07_R1_2018_wav--1_melody.mid': 0.8142857142857143,\n",
       " 'MIDI-Unprocessed_Recital9-11_MID--AUDIO_10_R1_2018_wav--5_melody_melody.mid': 0.8142857142857143,\n",
       " 'MIDI-Unprocessed_Schubert10-12_MID--AUDIO_18_R2_2018_wav_melody.mid': 0.8142857142857143,\n",
       " 'MIDI-Unprocessed_Recital12_MID--AUDIO_12_R1_2018_wav--1_melody.mid': 0.8,\n",
       " 'MIDI-Unprocessed_Recital13-15_MID--AUDIO_14_R1_2018_wav--1_melody.mid': 0.8,\n",
       " 'MIDI-Unprocessed_Recital17-19_MID--AUDIO_19_R1_2018_wav--4_melody.mid': 0.8,\n",
       " 'MIDI-Unprocessed_Recital17-19_MID--AUDIO_19_R1_2018_wav--5_melody.mid': 0.8,\n",
       " 'MIDI-Unprocessed_Recital4_MID--AUDIO_04_R1_2018_wav--3_melody.mid': 0.8,\n",
       " 'MIDI-Unprocessed_Recital5-7_MID--AUDIO_07_R1_2018_wav--2_melody.mid': 0.8,\n",
       " 'MIDI-Unprocessed_Recital9-11_MID--AUDIO_11_R1_2018_wav--2_melody.mid': 0.8,\n",
       " 'MIDI-Unprocessed_Recital16_MID--AUDIO_16_R1_2018_wav--2_melody.mid': 0.7999999999999999,\n",
       " 'MIDI-Unprocessed_Schubert7-9_MID--AUDIO_15_R2_2018_wav_melody.mid': 0.7999999999999999,\n",
       " 'MIDI-Unprocessed_Recital1-3_MID--AUDIO_02_R1_2018_wav--4_melody.mid': 0.7857142857142858,\n",
       " 'MIDI-Unprocessed_Recital8_MID--AUDIO_08_R1_2018_wav--2_melody.mid': 0.7857142857142858,\n",
       " 'MIDI-Unprocessed_Chamber3_MID--AUDIO_10_R3_2018_wav--2_melody.mid': 0.7857142857142857,\n",
       " 'MIDI-Unprocessed_Recital1-3_MID--AUDIO_02_R1_2018_wav--3_melody.mid': 0.7857142857142857,\n",
       " 'MIDI-Unprocessed_Recital13-15_MID--AUDIO_14_R1_2018_wav--2_melody.mid': 0.7857142857142857,\n",
       " 'MIDI-Unprocessed_Recital17-19_MID--AUDIO_17_R1_2018_wav--3_melody.mid': 0.7857142857142857,\n",
       " 'MIDI-Unprocessed_Recital4_MID--AUDIO_04_R1_2018_wav--5_melody.mid': 0.7857142857142857,\n",
       " 'MIDI-Unprocessed_Schubert7-9_MID--AUDIO_11_R2_2018_wav_melody.mid': 0.7857142857142857,\n",
       " 'MIDI-Unprocessed_Recital1-3_MID--AUDIO_02_R1_2018_wav--1_melody.mid': 0.7714285714285715,\n",
       " 'MIDI-Unprocessed_Recital1-3_MID--AUDIO_03_R1_2018_wav--1_melody.mid': 0.7714285714285715,\n",
       " 'MIDI-Unprocessed_Recital13-15_MID--AUDIO_13_R1_2018_wav--2_melody.mid': 0.7714285714285715,\n",
       " 'MIDI-Unprocessed_Recital8_MID--AUDIO_08_R1_2018_wav--3_melody.mid': 0.7714285714285715,\n",
       " 'MIDI-Unprocessed_Recital9-11_MID--AUDIO_09_R1_2018_wav--1_melody.mid': 0.7714285714285715,\n",
       " 'MIDI-Unprocessed_Recital9-11_MID--AUDIO_09_R1_2018_wav--5_melody.mid': 0.7714285714285715,\n",
       " 'MIDI-Unprocessed_Recital9-11_MID--AUDIO_10_R1_2018_wav--2_melody.mid': 0.7714285714285715,\n",
       " 'MIDI-Unprocessed_Recital9-11_MID--AUDIO_10_R1_2018_wav--5_melody.mid': 0.7714285714285715,\n",
       " 'MIDI-Unprocessed_Recital13-15_MID--AUDIO_13_R1_2018_wav--3_melody.mid': 0.7714285714285714,\n",
       " 'MIDI-Unprocessed_Recital17-19_MID--AUDIO_17_R1_2018_wav--1_melody.mid': 0.7714285714285714,\n",
       " 'MIDI-Unprocessed_Recital5-7_MID--AUDIO_07_R1_2018_wav--1_melody_melody.mid': 0.7714285714285714,\n",
       " 'MIDI-Unprocessed_Schubert1-3_MID--AUDIO_07_R2_2018_wav_melody.mid': 0.7714285714285714,\n",
       " 'MIDI-Unprocessed_Recital17-19_MID--AUDIO_18_R1_2018_wav--1_melody.mid': 0.7571428571428571,\n",
       " 'MIDI-Unprocessed_Recital17-19_MID--AUDIO_18_R1_2018_wav--2_melody.mid': 0.7571428571428571,\n",
       " 'MIDI-Unprocessed_Recital9-11_MID--AUDIO_10_R1_2018_wav--1_melody.mid': 0.7571428571428571,\n",
       " 'MIDI-Unprocessed_Schubert1-3_MID--AUDIO_02_R2_2018_wav_melody.mid': 0.7571428571428571,\n",
       " 'MIDI-Unprocessed_Schubert10-12_MID--AUDIO_17_R2_2018_wav_melody.mid': 0.7571428571428571,\n",
       " 'MIDI-Unprocessed_Schubert4-6_MID--AUDIO_08_R2_2018_wav_melody.mid': 0.7571428571428571,\n",
       " 'MIDI-Unprocessed_Chamber4_MID--AUDIO_11_R3_2018_wav--1_melody.mid': 0.7428571428571429,\n",
       " 'MIDI-Unprocessed_Chamber5_MID--AUDIO_18_R3_2018_wav--1_melody.mid': 0.7428571428571429,\n",
       " 'MIDI-Unprocessed_Recital1-3_MID--AUDIO_01_R1_2018_wav--4_melody.mid': 0.7428571428571429,\n",
       " 'MIDI-Unprocessed_Schubert7-9_MID--AUDIO_16_R2_2018_wav_melody.mid': 0.7428571428571429,\n",
       " 'MIDI-Unprocessed_Recital9-11_MID--AUDIO_09_R1_2018_wav--3_melody.mid': 0.7285714285714286,\n",
       " 'MIDI-Unprocessed_Recital9-11_MID--AUDIO_10_R1_2018_wav--3_melody.mid': 0.7285714285714286,\n",
       " 'MIDI-Unprocessed_Recital13-15_MID--AUDIO_15_R1_2018_wav--1_melody.mid': 0.7285714285714285,\n",
       " 'MIDI-Unprocessed_Recital17-19_MID--AUDIO_17_R1_2018_wav--2_melody.mid': 0.7285714285714285,\n",
       " 'MIDI-Unprocessed_Recital17-19_MID--AUDIO_19_R1_2018_wav--1_melody.mid': 0.7285714285714285,\n",
       " 'MIDI-Unprocessed_Recital1-3_MID--AUDIO_01_R1_2018_wav--1_melody.mid': 0.7142857142857143,\n",
       " 'MIDI-Unprocessed_Recital1-3_MID--AUDIO_03_R1_2018_wav--2_melody.mid': 0.7142857142857143,\n",
       " 'MIDI-Unprocessed_Recital20_MID--AUDIO_20_R1_2018_wav--4_melody.mid': 0.7142857142857143,\n",
       " 'MIDI-Unprocessed_Recital9-11_MID--AUDIO_09_R1_2018_wav--1_melody_melody.mid': 0.7142857142857143,\n",
       " 'MIDI-Unprocessed_Schubert1-3_MID--AUDIO_05_R2_2018_wav_melody.mid': 0.7142857142857143,\n",
       " 'MIDI-Unprocessed_Recital17-19_MID--AUDIO_19_R1_2018_wav--2_melody.mid': 0.7142857142857142,\n",
       " 'MIDI-Unprocessed_Chamber3_MID--AUDIO_10_R3_2018_wav--1_melody.mid': 0.7,\n",
       " 'MIDI-Unprocessed_Recital13-15_MID--AUDIO_14_R1_2018_wav--4_melody.mid': 0.7,\n",
       " 'MIDI-Unprocessed_Recital13-15_MID--AUDIO_14_R1_2018_wav--4_melody_melody.mid': 0.7,\n",
       " 'MIDI-Unprocessed_Recital1-3_MID--AUDIO_01_R1_2018_wav--1_melody_melody.mid': 0.6857142857142857,\n",
       " 'MIDI-Unprocessed_Recital17-19_MID--AUDIO_18_R1_2018_wav--3_melody.mid': 0.6857142857142857,\n",
       " 'MIDI-Unprocessed_Schubert10-12_MID--AUDIO_20_R2_2018_wav_melody.mid': 0.6857142857142857,\n",
       " 'MIDI-Unprocessed_Recital9-11_MID--AUDIO_09_R1_2018_wav--6_melody.mid': 0.6571428571428571,\n",
       " 'MIDI-Unprocessed_Chamber6_MID--AUDIO_20_R3_2018_wav--2_melody.mid': 0.657142857142857,\n",
       " 'MIDI-Unprocessed_Recital1-3_MID--AUDIO_01_R1_2018_wav--2_melody.mid': 0.657142857142857,\n",
       " 'MIDI-Unprocessed_Recital16_MID--AUDIO_16_R1_2018_wav--3_melody.mid': 0.657142857142857,\n",
       " 'MIDI-Unprocessed_Recital5-7_MID--AUDIO_07_R1_2018_wav--3_melody.mid': 0.6285714285714286,\n",
       " 'MIDI-Unprocessed_Recital9-11_MID--AUDIO_11_R1_2018_wav--1_melody.mid': 0.6285714285714286,\n",
       " 'MIDI-Unprocessed_Recital17-19_MID--AUDIO_17_R1_2018_wav--4_melody.mid': 0.6142857142857143,\n",
       " 'MIDI-Unprocessed_Recital20_MID--AUDIO_20_R1_2018_wav--3_melody.mid': 0.6,\n",
       " 'MIDI-Unprocessed_Recital5-7_MID--AUDIO_06_R1_2018_wav--2_melody.mid': 0.6,\n",
       " 'MIDI-Unprocessed_Recital4_MID--AUDIO_04_R1_2018_wav--4_melody.mid': 0.5714285714285714,\n",
       " 'MIDI-Unprocessed_Recital5-7_MID--AUDIO_06_R1_2018_wav--3_melody.mid': 0.5642857142857143,\n",
       " 'MIDI-Unprocessed_Recital9-11_MID--AUDIO_09_R1_2018_wav--2_melody.mid': 0.5428571428571427,\n",
       " 'MIDI-Unprocessed_Recital1-3_MID--AUDIO_02_R1_2018_wav--2_melody.mid': 0.5142857142857142,\n",
       " 'MIDI-Unprocessed_Recital9-11_MID--AUDIO_11_R1_2018_wav--5_melody.mid': 0.5142857142857142,\n",
       " 'MIDI-Unprocessed_Recital13-15_MID--AUDIO_15_R1_2018_wav--2_melody.mid': 0.41428571428571437,\n",
       " 'MIDI-Unprocessed_Recital12_MID--AUDIO_12_R1_2018_wav--2_melody.mid': 0.41428571428571426,\n",
       " 'MIDI-Unprocessed_Recital1-3_MID--AUDIO_01_R1_2018_wav--3_melody.mid': 0.4,\n",
       " 'MIDI-Unprocessed_Recital5-7_MID--AUDIO_05_R1_2018_wav--3_melody.mid': 0.38571428571428557,\n",
       " 'MIDI-Unprocessed_Recital5-7_MID--AUDIO_05_R1_2018_wav--3_melody_melody.mid': 0.38571428571428557,\n",
       " 'MIDI-Unprocessed_Recital4_MID--AUDIO_04_R1_2018_wav--1_melody.mid': 0.37142857142857155,\n",
       " 'MIDI-Unprocessed_Recital1-3_MID--AUDIO_03_R1_2018_wav--5_melody.mid': 0.37142857142857133,\n",
       " 'MIDI-Unprocessed_Recital9-11_MID--AUDIO_09_R1_2018_wav--4_melody.mid': 0.37142857142857133}"
      ]
     },
     "execution_count": 55,
     "metadata": {},
     "output_type": "execute_result"
    }
   ],
   "source": [
    "dict(sorted(fname_to_similarity.items(), key=lambda item: item[1], reverse=True))"
   ]
  },
  {
   "cell_type": "code",
   "execution_count": null,
   "metadata": {},
   "outputs": [],
   "source": []
  },
  {
   "cell_type": "code",
   "execution_count": null,
   "metadata": {},
   "outputs": [],
   "source": []
  },
  {
   "cell_type": "code",
   "execution_count": 26,
   "metadata": {},
   "outputs": [
    {
     "name": "stderr",
     "output_type": "stream",
     "text": [
      "100%|██████████| 2/2 [00:00<00:00, 250.01it/s]\n"
     ]
    },
    {
     "data": {
      "text/plain": [
       "-3.0"
      ]
     },
     "execution_count": 26,
     "metadata": {},
     "output_type": "execute_result"
    }
   ],
   "source": [
    "similarity([Note(\"C\", 10), Note(\"D\", 30)], [Note(\"C\", 10), Note(\"D\", 50), Note(\"E\", 30)])\n"
   ]
  },
  {
   "cell_type": "code",
   "execution_count": null,
   "metadata": {},
   "outputs": [],
   "source": []
  }
 ],
 "metadata": {
  "interpreter": {
   "hash": "ed375616437d1b2aa7bee143630496d92aeefbddeec0f66e9ff788f086bd6b2a"
  },
  "kernelspec": {
   "display_name": "Python 3.7.6 64-bit",
   "language": "python",
   "name": "python3"
  },
  "language_info": {
   "codemirror_mode": {
    "name": "ipython",
    "version": 3
   },
   "file_extension": ".py",
   "mimetype": "text/x-python",
   "name": "python",
   "nbconvert_exporter": "python",
   "pygments_lexer": "ipython3",
   "version": "3.7.6"
  },
  "orig_nbformat": 4
 },
 "nbformat": 4,
 "nbformat_minor": 2
}
