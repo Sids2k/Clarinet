{
 "cells": [
  {
   "cell_type": "code",
   "execution_count": 1,
   "metadata": {},
   "outputs": [],
   "source": [
    "import json\n",
    "data_dir = \"C:/Users/Kshitij Alwadhi/Documents/GitHub/Clarinet/Data/Json/2018_clipped/\"+'melody.json'\n",
    "queries = \"C:/Users/Kshitij Alwadhi/Documents/GitHub/Clarinet/Data/Json/2018_queries/\"+'melody.json'\n"
   ]
  },
  {
   "cell_type": "code",
   "execution_count": 2,
   "metadata": {},
   "outputs": [],
   "source": [
    "with open(data_dir, 'r') as f:\n",
    "    fname_to_notes = json.load(f)\n"
   ]
  },
  {
   "cell_type": "code",
   "execution_count": 3,
   "metadata": {},
   "outputs": [],
   "source": [
    "midiEt_to_note = {\n",
    "    12: \"C\",\n",
    "    13: \"C#\",\n",
    "    14: \"D\",\n",
    "    15: \"D#\",\n",
    "    16: \"E\",\n",
    "    17: \"F\",\n",
    "    18: \"F#\",\n",
    "    19: \"G\",\n",
    "    20: \"G#\",\n",
    "    21: \"A\",\n",
    "    22: \"A#\",\n",
    "    23: \"B\"\n",
    "}\n",
    "\n",
    "\n",
    "# a function which converts a sequence of midiEt to a sequence of notes\n",
    "def midiEt_to_note_sequence(midiEt_sequence):\n",
    "    note_sequence = []\n",
    "    for midiEt in midiEt_sequence:\n",
    "        num = midiEt % 12\n",
    "        note_sequence.append(midiEt_to_note[num + 12])\n",
    "    return \"\".join(note_sequence)\n"
   ]
  },
  {
   "cell_type": "code",
   "execution_count": 4,
   "metadata": {},
   "outputs": [],
   "source": [
    "from mongeau_sankoff import similarity, Note\n",
    "import miditoolkit as mtk\n",
    "# queries=[Note(\"G\",2,rest=False)]\n",
    "\n",
    "# t=total_time/(4*tempo)\n",
    "# duration=int(end-start/t)"
   ]
  },
  {
   "cell_type": "code",
   "execution_count": 18,
   "metadata": {},
   "outputs": [],
   "source": [
    "#obj = mtk.MidiFile(r\"C:\\Users\\Kshitij Alwadhi\\Documents\\GitHub\\Clarinet\\Data\\Melody\\2018_clipped\\MIDI-Unprocessed_Chamber2_MID--AUDIO_09_R3_2018_wav--1_melody.mid\")\n",
    "obj = mtk.MidiFile(r\"C:\\Users\\Kshitij Alwadhi\\Documents\\GitHub\\Clarinet\\Data\\Melody\\2018_clipped\\MIDI-Unprocessed_Chamber6_MID--AUDIO_20_R3_2018_wav--1_melody.mid\")\n"
   ]
  },
  {
   "cell_type": "code",
   "execution_count": 19,
   "metadata": {},
   "outputs": [],
   "source": [
    "notes = obj.instruments[0].notes\n",
    "end_time = notes[-1].end\n",
    "tempo = 120\n",
    "t = end_time/(4*tempo)\n",
    "\n",
    "ans = 99999\n",
    "prev_end = 0\n",
    "for n in notes:\n",
    "    if n.start > prev_end:\n",
    "        dur = n.start - prev_end\n",
    "        ans = min(ans, dur)\n",
    "    ans = min(ans, n.end - n.start)\n",
    "    prev_end = n.end\n",
    "t= ans\n",
    "        \n"
   ]
  },
  {
   "cell_type": "code",
   "execution_count": 20,
   "metadata": {},
   "outputs": [],
   "source": [
    "rep = []\n",
    "prev_end = 0\n",
    "for n in notes:\n",
    "    if n.start > prev_end:\n",
    "        rep.append(Note(\"C\",int((n.start-prev_end)/t),rest=True))\n",
    "    rep.append(Note(midiEt_to_note[n.pitch%12 + 12],int((n.end-n.start)/t),rest=False))\n",
    "    prev_end = n.end"
   ]
  },
  {
   "cell_type": "code",
   "execution_count": 21,
   "metadata": {},
   "outputs": [],
   "source": [
    "#qobj = mtk.MidiFile(r\"C:\\Users\\Kshitij Alwadhi\\Documents\\GitHub\\Clarinet\\Data\\Melody\\2018_queries\\MIDI-Unprocessed_Chamber2_MID--AUDIO_09_R3_2018_wav--1_query_melody.mid\")\n",
    "qobj = mtk.MidiFile(r\"C:\\Users\\Kshitij Alwadhi\\Documents\\GitHub\\Clarinet\\Data\\Melody\\2018_queries\\MIDI-Unprocessed_Chamber6_MID--AUDIO_20_R3_2018_wav--1_query_melody.mid\")\n"
   ]
  },
  {
   "cell_type": "code",
   "execution_count": 22,
   "metadata": {},
   "outputs": [],
   "source": [
    "notes = qobj.instruments[0].notes\n",
    "end_time = notes[-1].end\n",
    "tempo = 120\n",
    "t = end_time/(4*tempo)\n",
    "\n",
    "ans = 99999\n",
    "prev_end = 0\n",
    "for n in notes:\n",
    "    if n.start > prev_end:\n",
    "        dur = n.start - prev_end\n",
    "        ans = min(ans, dur)\n",
    "    ans = min(ans, n.end - n.start)\n",
    "    prev_end = n.end\n",
    "t = ans\n"
   ]
  },
  {
   "cell_type": "code",
   "execution_count": 23,
   "metadata": {},
   "outputs": [],
   "source": [
    "qrep = []\n",
    "prev_end = 0\n",
    "for n in notes:\n",
    "    if n.start > prev_end:\n",
    "        qrep.append(Note(\"C\", int((n.start-prev_end)/t), rest=True))\n",
    "    qrep.append(Note(midiEt_to_note[n.pitch % 12 + 12], int((n.end-n.start)/t), rest=False))\n",
    "    prev_end = n.end\n"
   ]
  },
  {
   "cell_type": "code",
   "execution_count": 24,
   "metadata": {},
   "outputs": [
    {
     "name": "stderr",
     "output_type": "stream",
     "text": [
      "42it [00:00, 83.17it/s]\n"
     ]
    },
    {
     "data": {
      "text/plain": [
       "-2.4723333333333337"
      ]
     },
     "execution_count": 24,
     "metadata": {},
     "output_type": "execute_result"
    }
   ],
   "source": [
    "similarity(qrep, rep)"
   ]
  },
  {
   "cell_type": "code",
   "execution_count": 12,
   "metadata": {},
   "outputs": [],
   "source": [
    "from tqdm import tqdm\n",
    "import os\n",
    "import music21\n",
    "fnames = os.listdir(\"C:/Users/Kshitij Alwadhi/Documents/GitHub/Clarinet/Data/Melody/2018_clipped_processed/\")\n",
    "\n",
    "\n",
    "def getKey(midi_filename):\n",
    "    score = music21.converter.parse(midi_filename)\n",
    "    key = score.analyze('key')\n",
    "    return(key.tonic.name)\n",
    "def getMode(midi_filename):\n",
    "    score = music21.converter.parse(midi_filename)\n",
    "    key = score.analyze('key')\n",
    "    return(key.mode)\n"
   ]
  },
  {
   "cell_type": "code",
   "execution_count": 13,
   "metadata": {},
   "outputs": [],
   "source": [
    "def compute_similarities(qrep):\n",
    "    fname_to_similarity = {}\n",
    "    for fname in fnames:\n",
    "        sim = 0\n",
    "        obj = mtk.MidiFile(r\"C:/Users/Kshitij Alwadhi/Documents/GitHub/Clarinet/Data/Melody/2018_clipped_processed/\" + fname)\n",
    "        notes = obj.instruments[0].notes \n",
    "        ans = 99999\n",
    "        prev_end = 0\n",
    "        \n",
    "        for n in notes:\n",
    "            if n.start > prev_end:\n",
    "                dur = n.start - prev_end\n",
    "                ans = min(ans, dur)\n",
    "            ans = min(ans, n.end - n.start)\n",
    "            prev_end = n.end\n",
    "        t = ans\n",
    "        mode = getMode(r\"C:/Users/Kshitij Alwadhi/Documents/GitHub/Clarinet/Data/Melody/2018_clipped_processed/\" + fname)\n",
    "        \n",
    "        rep = []\n",
    "        prev_end = 0\n",
    "        for n in notes:\n",
    "            if n.start > prev_end:\n",
    "                rep.append(Note(\"C\", int((n.start-prev_end)/t), rest=True,scale=mode))\n",
    "            rep.append(Note(midiEt_to_note[n.pitch % 12 + 12], int((n.end-n.start)/t), rest=False,scale=mode))\n",
    "            prev_end = n.end\n",
    "        sim = similarity(qrep, rep)\n",
    "        fname_to_similarity[fname] = sim\n",
    "    return fname_to_similarity\n"
   ]
  },
  {
   "cell_type": "code",
   "execution_count": 14,
   "metadata": {},
   "outputs": [
    {
     "name": "stderr",
     "output_type": "stream",
     "text": [
      "61it [00:06,  9.82it/s]\n",
      "13it [00:01,  8.95it/s]\n",
      "7it [00:00,  7.88it/s]\n",
      "34it [00:03,  9.21it/s]\n",
      "20it [00:02,  9.30it/s]"
     ]
    },
    {
     "ename": "KeyboardInterrupt",
     "evalue": "",
     "output_type": "error",
     "traceback": [
      "\u001b[1;31m---------------------------------------------------------------------------\u001b[0m",
      "\u001b[1;31mKeyboardInterrupt\u001b[0m                         Traceback (most recent call last)",
      "\u001b[1;32m<ipython-input-14-25feb51af3ee>\u001b[0m in \u001b[0;36m<module>\u001b[1;34m\u001b[0m\n\u001b[1;32m----> 1\u001b[1;33m \u001b[0mfname_to_similarity\u001b[0m \u001b[1;33m=\u001b[0m \u001b[0mcompute_similarities\u001b[0m\u001b[1;33m(\u001b[0m\u001b[0mqrep\u001b[0m\u001b[1;33m)\u001b[0m\u001b[1;33m\u001b[0m\u001b[1;33m\u001b[0m\u001b[0m\n\u001b[0m",
      "\u001b[1;32m<ipython-input-13-009e6b491991>\u001b[0m in \u001b[0;36mcompute_similarities\u001b[1;34m(qrep)\u001b[0m\n\u001b[0;32m     24\u001b[0m             \u001b[0mrep\u001b[0m\u001b[1;33m.\u001b[0m\u001b[0mappend\u001b[0m\u001b[1;33m(\u001b[0m\u001b[0mNote\u001b[0m\u001b[1;33m(\u001b[0m\u001b[0mmidiEt_to_note\u001b[0m\u001b[1;33m[\u001b[0m\u001b[0mn\u001b[0m\u001b[1;33m.\u001b[0m\u001b[0mpitch\u001b[0m \u001b[1;33m%\u001b[0m \u001b[1;36m12\u001b[0m \u001b[1;33m+\u001b[0m \u001b[1;36m12\u001b[0m\u001b[1;33m]\u001b[0m\u001b[1;33m,\u001b[0m \u001b[0mint\u001b[0m\u001b[1;33m(\u001b[0m\u001b[1;33m(\u001b[0m\u001b[0mn\u001b[0m\u001b[1;33m.\u001b[0m\u001b[0mend\u001b[0m\u001b[1;33m-\u001b[0m\u001b[0mn\u001b[0m\u001b[1;33m.\u001b[0m\u001b[0mstart\u001b[0m\u001b[1;33m)\u001b[0m\u001b[1;33m/\u001b[0m\u001b[0mt\u001b[0m\u001b[1;33m)\u001b[0m\u001b[1;33m,\u001b[0m \u001b[0mrest\u001b[0m\u001b[1;33m=\u001b[0m\u001b[1;32mFalse\u001b[0m\u001b[1;33m,\u001b[0m\u001b[0mscale\u001b[0m\u001b[1;33m=\u001b[0m\u001b[0mmode\u001b[0m\u001b[1;33m)\u001b[0m\u001b[1;33m)\u001b[0m\u001b[1;33m\u001b[0m\u001b[1;33m\u001b[0m\u001b[0m\n\u001b[0;32m     25\u001b[0m             \u001b[0mprev_end\u001b[0m \u001b[1;33m=\u001b[0m \u001b[0mn\u001b[0m\u001b[1;33m.\u001b[0m\u001b[0mend\u001b[0m\u001b[1;33m\u001b[0m\u001b[1;33m\u001b[0m\u001b[0m\n\u001b[1;32m---> 26\u001b[1;33m         \u001b[0msim\u001b[0m \u001b[1;33m=\u001b[0m \u001b[0msimilarity\u001b[0m\u001b[1;33m(\u001b[0m\u001b[0mqrep\u001b[0m\u001b[1;33m,\u001b[0m \u001b[0mrep\u001b[0m\u001b[1;33m)\u001b[0m\u001b[1;33m\u001b[0m\u001b[1;33m\u001b[0m\u001b[0m\n\u001b[0m\u001b[0;32m     27\u001b[0m         \u001b[0mfname_to_similarity\u001b[0m\u001b[1;33m[\u001b[0m\u001b[0mfname\u001b[0m\u001b[1;33m]\u001b[0m \u001b[1;33m=\u001b[0m \u001b[0msim\u001b[0m\u001b[1;33m\u001b[0m\u001b[1;33m\u001b[0m\u001b[0m\n\u001b[0;32m     28\u001b[0m     \u001b[1;32mreturn\u001b[0m \u001b[0mfname_to_similarity\u001b[0m\u001b[1;33m\u001b[0m\u001b[1;33m\u001b[0m\u001b[0m\n",
      "\u001b[1;32mc:\\Users\\Kshitij Alwadhi\\Documents\\GitHub\\Clarinet\\Clarinet\\search\\mongeau_sankoff.py\u001b[0m in \u001b[0;36msimilarity\u001b[1;34m(query, data)\u001b[0m\n\u001b[0;32m    257\u001b[0m         \u001b[0ms2\u001b[0m \u001b[1;33m=\u001b[0m \u001b[0mdata\u001b[0m\u001b[1;33m[\u001b[0m\u001b[0mstart\u001b[0m\u001b[1;33m:\u001b[0m\u001b[0mend\u001b[0m\u001b[1;33m]\u001b[0m\u001b[1;33m\u001b[0m\u001b[1;33m\u001b[0m\u001b[0m\n\u001b[0;32m    258\u001b[0m \u001b[1;33m\u001b[0m\u001b[0m\n\u001b[1;32m--> 259\u001b[1;33m         \u001b[0medit_distance\u001b[0m \u001b[1;33m=\u001b[0m \u001b[0mdistance\u001b[0m\u001b[1;33m(\u001b[0m\u001b[0ms1\u001b[0m\u001b[1;33m,\u001b[0m \u001b[0ms2\u001b[0m\u001b[1;33m)\u001b[0m\u001b[1;33m\u001b[0m\u001b[1;33m\u001b[0m\u001b[0m\n\u001b[0m\u001b[0;32m    260\u001b[0m         \u001b[1;32mif\u001b[0m \u001b[0medit_distance\u001b[0m \u001b[1;33m<\u001b[0m \u001b[0mscore\u001b[0m\u001b[1;33m:\u001b[0m\u001b[1;33m\u001b[0m\u001b[1;33m\u001b[0m\u001b[0m\n\u001b[0;32m    261\u001b[0m             \u001b[0mscore\u001b[0m \u001b[1;33m=\u001b[0m \u001b[0medit_distance\u001b[0m\u001b[1;33m\u001b[0m\u001b[1;33m\u001b[0m\u001b[0m\n",
      "\u001b[1;32mc:\\Users\\Kshitij Alwadhi\\Documents\\GitHub\\Clarinet\\Clarinet\\search\\mongeau_sankoff.py\u001b[0m in \u001b[0;36mdistance\u001b[1;34m(s1, s2)\u001b[0m\n\u001b[0;32m    232\u001b[0m             \u001b[0minsertion\u001b[0m \u001b[1;33m=\u001b[0m \u001b[0mdp\u001b[0m\u001b[1;33m[\u001b[0m\u001b[0mi\u001b[0m\u001b[1;33m]\u001b[0m\u001b[1;33m[\u001b[0m\u001b[0mj\u001b[0m\u001b[1;33m-\u001b[0m\u001b[1;36m1\u001b[0m\u001b[1;33m]\u001b[0m \u001b[1;33m+\u001b[0m \u001b[0mw_ins\u001b[0m\u001b[1;33m(\u001b[0m\u001b[0mnote_b\u001b[0m\u001b[1;33m)\u001b[0m\u001b[1;33m\u001b[0m\u001b[1;33m\u001b[0m\u001b[0m\n\u001b[0;32m    233\u001b[0m             \u001b[0mconsolidation\u001b[0m \u001b[1;33m=\u001b[0m \u001b[0mw_cons\u001b[0m\u001b[1;33m(\u001b[0m\u001b[0mdp\u001b[0m\u001b[1;33m,\u001b[0m \u001b[0ms1\u001b[0m\u001b[1;33m,\u001b[0m \u001b[0ms2\u001b[0m\u001b[1;33m,\u001b[0m \u001b[0mi\u001b[0m\u001b[1;33m,\u001b[0m \u001b[0mj\u001b[0m\u001b[1;33m)\u001b[0m\u001b[1;33m\u001b[0m\u001b[1;33m\u001b[0m\u001b[0m\n\u001b[1;32m--> 234\u001b[1;33m             \u001b[0mfragmentation\u001b[0m \u001b[1;33m=\u001b[0m \u001b[0mw_frag\u001b[0m\u001b[1;33m(\u001b[0m\u001b[0mdp\u001b[0m\u001b[1;33m,\u001b[0m \u001b[0ms1\u001b[0m\u001b[1;33m,\u001b[0m \u001b[0ms2\u001b[0m\u001b[1;33m,\u001b[0m \u001b[0mi\u001b[0m\u001b[1;33m,\u001b[0m \u001b[0mj\u001b[0m\u001b[1;33m)\u001b[0m\u001b[1;33m\u001b[0m\u001b[1;33m\u001b[0m\u001b[0m\n\u001b[0m\u001b[0;32m    235\u001b[0m \u001b[1;33m\u001b[0m\u001b[0m\n\u001b[0;32m    236\u001b[0m             \u001b[0mdp\u001b[0m\u001b[1;33m[\u001b[0m\u001b[0mi\u001b[0m\u001b[1;33m]\u001b[0m\u001b[1;33m[\u001b[0m\u001b[0mj\u001b[0m\u001b[1;33m]\u001b[0m \u001b[1;33m=\u001b[0m \u001b[0mmin\u001b[0m\u001b[1;33m(\u001b[0m\u001b[0mdeletion\u001b[0m\u001b[1;33m,\u001b[0m \u001b[0minsertion\u001b[0m\u001b[1;33m,\u001b[0m \u001b[0msubstitution\u001b[0m\u001b[1;33m,\u001b[0m \u001b[0mfragmentation\u001b[0m\u001b[1;33m,\u001b[0m \u001b[0mconsolidation\u001b[0m\u001b[1;33m)\u001b[0m\u001b[1;33m\u001b[0m\u001b[1;33m\u001b[0m\u001b[0m\n",
      "\u001b[1;32mc:\\Users\\Kshitij Alwadhi\\Documents\\GitHub\\Clarinet\\Clarinet\\search\\mongeau_sankoff.py\u001b[0m in \u001b[0;36mw_frag\u001b[1;34m(dp, a, b, i, j)\u001b[0m\n\u001b[0;32m    121\u001b[0m \u001b[1;33m\u001b[0m\u001b[0m\n\u001b[0;32m    122\u001b[0m         \u001b[1;32mwhile\u001b[0m \u001b[0mk\u001b[0m \u001b[1;33m>\u001b[0m \u001b[1;36m0\u001b[0m\u001b[1;33m:\u001b[0m\u001b[1;33m\u001b[0m\u001b[1;33m\u001b[0m\u001b[0m\n\u001b[1;32m--> 123\u001b[1;33m             \u001b[0mweight\u001b[0m \u001b[1;33m+=\u001b[0m \u001b[0mw_interval\u001b[0m\u001b[1;33m(\u001b[0m\u001b[0ma\u001b[0m\u001b[1;33m[\u001b[0m\u001b[0mi\u001b[0m\u001b[1;33m-\u001b[0m\u001b[1;36m1\u001b[0m\u001b[1;33m]\u001b[0m\u001b[1;33m,\u001b[0m \u001b[0mb\u001b[0m\u001b[1;33m[\u001b[0m\u001b[0mj\u001b[0m\u001b[1;33m-\u001b[0m\u001b[0mk\u001b[0m\u001b[1;33m]\u001b[0m\u001b[1;33m)\u001b[0m\u001b[1;33m\u001b[0m\u001b[1;33m\u001b[0m\u001b[0m\n\u001b[0m\u001b[0;32m    124\u001b[0m             \u001b[0mdurations\u001b[0m \u001b[1;33m+=\u001b[0m \u001b[0mb\u001b[0m\u001b[1;33m[\u001b[0m\u001b[0mj\u001b[0m\u001b[1;33m-\u001b[0m\u001b[0mk\u001b[0m\u001b[1;33m]\u001b[0m\u001b[1;33m.\u001b[0m\u001b[0mduration\u001b[0m\u001b[1;33m\u001b[0m\u001b[1;33m\u001b[0m\u001b[0m\n\u001b[0;32m    125\u001b[0m             \u001b[0mk\u001b[0m \u001b[1;33m-=\u001b[0m \u001b[1;36m1\u001b[0m\u001b[1;33m\u001b[0m\u001b[1;33m\u001b[0m\u001b[0m\n",
      "\u001b[1;32mc:\\Users\\Kshitij Alwadhi\\Documents\\GitHub\\Clarinet\\Clarinet\\search\\mongeau_sankoff.py\u001b[0m in \u001b[0;36mw_interval\u001b[1;34m(note_a, note_b)\u001b[0m\n\u001b[0;32m    165\u001b[0m         \u001b[1;32mreturn\u001b[0m \u001b[0mREST\u001b[0m\u001b[1;33m\u001b[0m\u001b[1;33m\u001b[0m\u001b[0m\n\u001b[0;32m    166\u001b[0m     \u001b[1;31m# If same scale find degree difference\u001b[0m\u001b[1;33m\u001b[0m\u001b[1;33m\u001b[0m\u001b[1;33m\u001b[0m\u001b[0m\n\u001b[1;32m--> 167\u001b[1;33m     \u001b[1;32mif\u001b[0m \u001b[0mnote_a\u001b[0m\u001b[1;33m.\u001b[0m\u001b[0mscale\u001b[0m \u001b[1;33m==\u001b[0m \u001b[0mnote_b\u001b[0m\u001b[1;33m.\u001b[0m\u001b[0mscale\u001b[0m\u001b[1;33m:\u001b[0m\u001b[1;33m\u001b[0m\u001b[1;33m\u001b[0m\u001b[0m\n\u001b[0m\u001b[0;32m    168\u001b[0m         \u001b[1;32mif\u001b[0m \u001b[0mnote_a\u001b[0m\u001b[1;33m.\u001b[0m\u001b[0mscale\u001b[0m \u001b[1;33m==\u001b[0m \u001b[1;34m\"major\"\u001b[0m\u001b[1;33m:\u001b[0m\u001b[1;33m\u001b[0m\u001b[1;33m\u001b[0m\u001b[0m\n\u001b[0;32m    169\u001b[0m             \u001b[1;32mtry\u001b[0m\u001b[1;33m:\u001b[0m\u001b[1;33m\u001b[0m\u001b[1;33m\u001b[0m\u001b[0m\n",
      "\u001b[1;31mKeyboardInterrupt\u001b[0m: "
     ]
    }
   ],
   "source": [
    "fname_to_similarity = compute_similarities(qrep)"
   ]
  },
  {
   "cell_type": "code",
   "execution_count": null,
   "metadata": {},
   "outputs": [
    {
     "data": {
      "text/plain": [
       "{'MIDI-Unprocessed_Recital9-11_MID--AUDIO_10_R1_2018_wav--3_melody.mid': 0.8618461538461538,\n",
       " 'MIDI-Unprocessed_Chamber2_MID--AUDIO_09_R3_2018_wav--1_melody.mid': 0.7832307692307692,\n",
       " 'MIDI-Unprocessed_Schubert1-3_MID--AUDIO_07_R2_2018_wav_melody.mid': 0.7813846153846155,\n",
       " 'MIDI-Unprocessed_Recital17-19_MID--AUDIO_18_R1_2018_wav--3_melody.mid': 0.7796923076923077,\n",
       " 'MIDI-Unprocessed_Recital1-3_MID--AUDIO_02_R1_2018_wav--1_melody.mid': 0.7581538461538462,\n",
       " 'MIDI-Unprocessed_Recital1-3_MID--AUDIO_03_R1_2018_wav--4_melody.mid': 0.7412307692307691,\n",
       " 'MIDI-Unprocessed_Chamber3_MID--AUDIO_10_R3_2018_wav--2_melody.mid': 0.7410769230769232,\n",
       " 'MIDI-Unprocessed_Recital12_MID--AUDIO_12_R1_2018_wav--1_melody.mid': 0.7256923076923077,\n",
       " 'MIDI-Unprocessed_Recital8_MID--AUDIO_08_R1_2018_wav--4_melody.mid': 0.7222307692307692,\n",
       " 'MIDI-Unprocessed_Recital17-19_MID--AUDIO_19_R1_2018_wav--2_melody.mid': 0.6912307692307693,\n",
       " 'MIDI-Unprocessed_Recital9-11_MID--AUDIO_10_R1_2018_wav--2_melody.mid': 0.6912307692307693,\n",
       " 'MIDI-Unprocessed_Recital5-7_MID--AUDIO_05_R1_2018_wav--2_melody.mid': 0.6835384615384617,\n",
       " 'MIDI-Unprocessed_Recital8_MID--AUDIO_08_R1_2018_wav--1_melody.mid': 0.6833846153846155,\n",
       " 'MIDI-Unprocessed_Schubert4-6_MID--AUDIO_09_R2_2018_wav_melody.mid': 0.675846153846154,\n",
       " 'MIDI-Unprocessed_Recital17-19_MID--AUDIO_18_R1_2018_wav--1_melody.mid': 0.6721538461538463,\n",
       " 'MIDI-Unprocessed_Recital13-15_MID--AUDIO_15_R1_2018_wav--4_melody.mid': 0.6702307692307693,\n",
       " 'MIDI-Unprocessed_Schubert4-6_MID--AUDIO_10_R2_2018_wav_melody.mid': 0.6664615384615387,\n",
       " 'MIDI-Unprocessed_Recital13-15_MID--AUDIO_15_R1_2018_wav--3_melody.mid': 0.6644615384615387,\n",
       " 'MIDI-Unprocessed_Recital9-11_MID--AUDIO_10_R1_2018_wav--1_melody.mid': 0.6604615384615385,\n",
       " 'MIDI-Unprocessed_Recital5-7_MID--AUDIO_07_R1_2018_wav--4_melody.mid': 0.6451538461538462,\n",
       " 'MIDI-Unprocessed_Schubert7-9_MID--AUDIO_16_R2_2018_wav_melody.mid': 0.5610769230769231,\n",
       " 'MIDI-Unprocessed_Schubert4-6_MID--AUDIO_08_R2_2018_wav_melody.mid': 0.5589230769230772,\n",
       " 'MIDI-Unprocessed_Schubert7-9_MID--AUDIO_11_R2_2018_wav_melody.mid': 0.5470769230769232,\n",
       " 'MIDI-Unprocessed_Recital4_MID--AUDIO_04_R1_2018_wav--5_melody.mid': 0.5381538461538462,\n",
       " 'MIDI-Unprocessed_Recital5-7_MID--AUDIO_07_R1_2018_wav--2_melody.mid': 0.5381538461538462,\n",
       " 'MIDI-Unprocessed_Recital16_MID--AUDIO_16_R1_2018_wav--2_melody.mid': 0.5230769230769231,\n",
       " 'MIDI-Unprocessed_Schubert1-3_MID--AUDIO_05_R2_2018_wav_melody.mid': 0.5110769230769232,\n",
       " 'MIDI-Unprocessed_Recital13-15_MID--AUDIO_14_R1_2018_wav--4_melody.mid': 0.4693846153846155,\n",
       " 'MIDI-Unprocessed_Chamber5_MID--AUDIO_18_R3_2018_wav--1_melody.mid': 0.466923076923077,\n",
       " 'MIDI-Unprocessed_Recital9-11_MID--AUDIO_09_R1_2018_wav--1_melody.mid': 0.464923076923077,\n",
       " 'MIDI-Unprocessed_Recital9-11_MID--AUDIO_09_R1_2018_wav--6_melody.mid': 0.4592307692307692,\n",
       " 'MIDI-Unprocessed_Recital9-11_MID--AUDIO_09_R1_2018_wav--4_melody.mid': 0.45307692307692304,\n",
       " 'MIDI-Unprocessed_Recital13-15_MID--AUDIO_13_R1_2018_wav--3_melody.mid': 0.4496923076923077,\n",
       " 'MIDI-Unprocessed_Recital9-11_MID--AUDIO_09_R1_2018_wav--1_melody_melody.mid': 0.44415384615384623,\n",
       " 'MIDI-Unprocessed_Schubert10-12_MID--AUDIO_18_R2_2018_wav_melody.mid': 0.4303076923076923,\n",
       " 'MIDI-Unprocessed_Recital1-3_MID--AUDIO_03_R1_2018_wav--2_melody.mid': 0.42492307692307696,\n",
       " 'MIDI-Unprocessed_Recital13-15_MID--AUDIO_15_R1_2018_wav--1_melody.mid': 0.4247692307692309,\n",
       " 'MIDI-Unprocessed_Chamber3_MID--AUDIO_10_R3_2018_wav--1_melody.mid': 0.4206153846153846,\n",
       " 'MIDI-Unprocessed_Recital1-3_MID--AUDIO_01_R1_2018_wav--1_melody.mid': 0.41846153846153855,\n",
       " 'MIDI-Unprocessed_Recital1-3_MID--AUDIO_01_R1_2018_wav--1_melody_melody.mid': 0.41846153846153855,\n",
       " 'MIDI-Unprocessed_Recital1-3_MID--AUDIO_01_R1_2018_wav--3_melody.mid': 0.41846153846153855,\n",
       " 'MIDI-Unprocessed_Recital1-3_MID--AUDIO_02_R1_2018_wav--2_melody.mid': 0.41846153846153855,\n",
       " 'MIDI-Unprocessed_Recital1-3_MID--AUDIO_02_R1_2018_wav--4_melody.mid': 0.41846153846153855,\n",
       " 'MIDI-Unprocessed_Recital1-3_MID--AUDIO_03_R1_2018_wav--1_melody.mid': 0.41846153846153855,\n",
       " 'MIDI-Unprocessed_Recital1-3_MID--AUDIO_03_R1_2018_wav--5_melody.mid': 0.41846153846153855,\n",
       " 'MIDI-Unprocessed_Recital12_MID--AUDIO_12_R1_2018_wav--2_melody.mid': 0.41846153846153855,\n",
       " 'MIDI-Unprocessed_Recital12_MID--AUDIO_12_R1_2018_wav--3_melody.mid': 0.41846153846153855,\n",
       " 'MIDI-Unprocessed_Recital13-15_MID--AUDIO_13_R1_2018_wav--1_melody.mid': 0.41846153846153855,\n",
       " 'MIDI-Unprocessed_Recital13-15_MID--AUDIO_13_R1_2018_wav--1_melody_melody.mid': 0.41846153846153855,\n",
       " 'MIDI-Unprocessed_Recital13-15_MID--AUDIO_14_R1_2018_wav--3_melody.mid': 0.41846153846153855,\n",
       " 'MIDI-Unprocessed_Recital13-15_MID--AUDIO_14_R1_2018_wav--4_melody_melody.mid': 0.41846153846153855,\n",
       " 'MIDI-Unprocessed_Recital17-19_MID--AUDIO_17_R1_2018_wav--3_melody.mid': 0.41846153846153855,\n",
       " 'MIDI-Unprocessed_Recital17-19_MID--AUDIO_17_R1_2018_wav--4_melody.mid': 0.41846153846153855,\n",
       " 'MIDI-Unprocessed_Recital17-19_MID--AUDIO_19_R1_2018_wav--1_melody.mid': 0.41846153846153855,\n",
       " 'MIDI-Unprocessed_Recital17-19_MID--AUDIO_19_R1_2018_wav--3_melody.mid': 0.41846153846153855,\n",
       " 'MIDI-Unprocessed_Recital17-19_MID--AUDIO_19_R1_2018_wav--4_melody.mid': 0.41846153846153855,\n",
       " 'MIDI-Unprocessed_Recital17-19_MID--AUDIO_19_R1_2018_wav--6_melody.mid': 0.41846153846153855,\n",
       " 'MIDI-Unprocessed_Recital5-7_MID--AUDIO_05_R1_2018_wav--1_melody.mid': 0.41846153846153855,\n",
       " 'MIDI-Unprocessed_Recital5-7_MID--AUDIO_06_R1_2018_wav--1_melody.mid': 0.41846153846153855,\n",
       " 'MIDI-Unprocessed_Recital5-7_MID--AUDIO_06_R1_2018_wav--3_melody.mid': 0.41846153846153855,\n",
       " 'MIDI-Unprocessed_Recital5-7_MID--AUDIO_07_R1_2018_wav--1_melody.mid': 0.41846153846153855,\n",
       " 'MIDI-Unprocessed_Recital5-7_MID--AUDIO_07_R1_2018_wav--1_melody_melody.mid': 0.41846153846153855,\n",
       " 'MIDI-Unprocessed_Recital8_MID--AUDIO_08_R1_2018_wav--2_melody.mid': 0.41846153846153855,\n",
       " 'MIDI-Unprocessed_Recital8_MID--AUDIO_08_R1_2018_wav--3_melody.mid': 0.41846153846153855,\n",
       " 'MIDI-Unprocessed_Recital9-11_MID--AUDIO_09_R1_2018_wav--2_melody.mid': 0.41846153846153855,\n",
       " 'MIDI-Unprocessed_Recital9-11_MID--AUDIO_10_R1_2018_wav--5_melody.mid': 0.41846153846153855,\n",
       " 'MIDI-Unprocessed_Recital9-11_MID--AUDIO_10_R1_2018_wav--5_melody_melody.mid': 0.41846153846153855,\n",
       " 'MIDI-Unprocessed_Recital9-11_MID--AUDIO_11_R1_2018_wav--5_melody.mid': 0.41846153846153855,\n",
       " 'MIDI-Unprocessed_Schubert10-12_MID--AUDIO_20_R2_2018_wav_melody.mid': 0.41846153846153855,\n",
       " 'MIDI-Unprocessed_Chamber4_MID--AUDIO_11_R3_2018_wav--1_melody.mid': 0.4050769230769232,\n",
       " 'MIDI-Unprocessed_Chamber6_MID--AUDIO_20_R3_2018_wav--1_melody.mid': 0.4050769230769232,\n",
       " 'MIDI-Unprocessed_Recital1-3_MID--AUDIO_01_R1_2018_wav--4_melody.mid': 0.4050769230769232,\n",
       " 'MIDI-Unprocessed_Recital13-15_MID--AUDIO_14_R1_2018_wav--1_melody.mid': 0.4050769230769232,\n",
       " 'MIDI-Unprocessed_Recital13-15_MID--AUDIO_14_R1_2018_wav--2_melody.mid': 0.4050769230769232,\n",
       " 'MIDI-Unprocessed_Recital17-19_MID--AUDIO_17_R1_2018_wav--1_melody.mid': 0.4050769230769232,\n",
       " 'MIDI-Unprocessed_Schubert10-12_MID--AUDIO_17_R2_2018_wav_melody.mid': 0.3992307692307695,\n",
       " 'MIDI-Unprocessed_Recital5-7_MID--AUDIO_06_R1_2018_wav--2_melody.mid': 0.39430769230769236,\n",
       " 'MIDI-Unprocessed_Recital17-19_MID--AUDIO_18_R1_2018_wav--2_melody.mid': 0.38984615384615384,\n",
       " 'MIDI-Unprocessed_Schubert7-9_MID--AUDIO_15_R2_2018_wav_melody.mid': 0.386,\n",
       " 'MIDI-Unprocessed_Recital17-19_MID--AUDIO_17_R1_2018_wav--2_melody.mid': 0.3844615384615385,\n",
       " 'MIDI-Unprocessed_Recital16_MID--AUDIO_16_R1_2018_wav--3_melody.mid': 0.3746153846153848,\n",
       " 'MIDI-Unprocessed_Recital9-11_MID--AUDIO_09_R1_2018_wav--3_melody.mid': 0.37230769230769245,\n",
       " 'MIDI-Unprocessed_Recital4_MID--AUDIO_04_R1_2018_wav--4_melody.mid': 0.3693846153846153,\n",
       " 'MIDI-Unprocessed_Recital1-3_MID--AUDIO_02_R1_2018_wav--3_melody.mid': 0.36738461538461553,\n",
       " 'MIDI-Unprocessed_Schubert1-3_MID--AUDIO_02_R2_2018_wav_melody.mid': 0.3498461538461538,\n",
       " 'MIDI-Unprocessed_Chamber6_MID--AUDIO_20_R3_2018_wav--2_melody.mid': 0.3023076923076923,\n",
       " 'MIDI-Unprocessed_Recital4_MID--AUDIO_04_R1_2018_wav--3_melody.mid': 0.30184615384615376,\n",
       " 'MIDI-Unprocessed_Recital9-11_MID--AUDIO_09_R1_2018_wav--5_melody.mid': 0.2870769230769231,\n",
       " 'MIDI-Unprocessed_Recital9-11_MID--AUDIO_11_R1_2018_wav--2_melody.mid': 0.28230769230769226,\n",
       " 'MIDI-Unprocessed_Recital17-19_MID--AUDIO_19_R1_2018_wav--5_melody.mid': 0.272,\n",
       " 'MIDI-Unprocessed_Recital5-7_MID--AUDIO_05_R1_2018_wav--3_melody.mid': 0.23723076923076925,\n",
       " 'MIDI-Unprocessed_Recital5-7_MID--AUDIO_05_R1_2018_wav--3_melody_melody.mid': 0.23723076923076925,\n",
       " 'MIDI-Unprocessed_Recital9-11_MID--AUDIO_11_R1_2018_wav--1_melody.mid': 0.22261538461538444,\n",
       " 'MIDI-Unprocessed_Recital13-15_MID--AUDIO_13_R1_2018_wav--2_melody.mid': 0.21769230769230752,\n",
       " 'MIDI-Unprocessed_Recital5-7_MID--AUDIO_07_R1_2018_wav--3_melody.mid': 0.16538461538461524,\n",
       " 'MIDI-Unprocessed_Recital13-15_MID--AUDIO_15_R1_2018_wav--2_melody.mid': 0.08676923076923049,\n",
       " 'MIDI-Unprocessed_Recital1-3_MID--AUDIO_01_R1_2018_wav--2_melody.mid': 0.06861538461538441,\n",
       " 'MIDI-Unprocessed_Recital20_MID--AUDIO_20_R1_2018_wav--3_melody.mid': 0.04999999999999993,\n",
       " 'MIDI-Unprocessed_Recital4_MID--AUDIO_04_R1_2018_wav--1_melody.mid': -0.06753846153846199,\n",
       " 'MIDI-Unprocessed_Recital20_MID--AUDIO_20_R1_2018_wav--4_melody.mid': -0.4139999999999999}"
      ]
     },
     "execution_count": 38,
     "metadata": {},
     "output_type": "execute_result"
    }
   ],
   "source": [
    "dict(sorted(fname_to_similarity.items(), key=lambda item: item[1], reverse=True))"
   ]
  },
  {
   "cell_type": "code",
   "execution_count": null,
   "metadata": {},
   "outputs": [],
   "source": []
  },
  {
   "cell_type": "code",
   "execution_count": null,
   "metadata": {},
   "outputs": [],
   "source": []
  },
  {
   "cell_type": "code",
   "execution_count": null,
   "metadata": {},
   "outputs": [],
   "source": []
  }
 ],
 "metadata": {
  "interpreter": {
   "hash": "ed375616437d1b2aa7bee143630496d92aeefbddeec0f66e9ff788f086bd6b2a"
  },
  "kernelspec": {
   "display_name": "Python 3.7.6 64-bit",
   "language": "python",
   "name": "python3"
  },
  "language_info": {
   "codemirror_mode": {
    "name": "ipython",
    "version": 3
   },
   "file_extension": ".py",
   "mimetype": "text/x-python",
   "name": "python",
   "nbconvert_exporter": "python",
   "pygments_lexer": "ipython3",
   "version": "3.7.6"
  },
  "orig_nbformat": 4
 },
 "nbformat": 4,
 "nbformat_minor": 2
}
