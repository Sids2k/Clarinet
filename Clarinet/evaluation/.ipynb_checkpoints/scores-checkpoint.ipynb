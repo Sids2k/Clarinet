{
 "cells": [
  {
   "cell_type": "code",
   "execution_count": 13,
   "metadata": {},
   "outputs": [],
   "source": [
    "import json"
   ]
  },
  {
   "cell_type": "code",
   "execution_count": 14,
   "metadata": {},
   "outputs": [],
   "source": [
    "bad_queries = ['MIDI-Unprocessed_Schubert7-9_MID--AUDIO_11_R2_2018_wav_melody.mid',\n",
    "               'ORIG-MIDI_03_7_10_13_Group_MID--AUDIO_18_R3_2013_wav--3_melody.mid'\n",
    "]\n"
   ]
  },
  {
   "cell_type": "code",
   "execution_count": 15,
   "metadata": {},
   "outputs": [],
   "source": [
    "# Load the data from the json file named res_time.json\n",
    "with open('/Users/rohansharma/Desktop/IIT DELHI/Academics/Sem 5/COL764/Clarinet/Results/res_sankoff_modified.json') as json_file:\n",
    "    data = json.load(json_file)\n",
    "\n",
    "# for q in bad_queries:\n",
    "    \n",
    "#     del data[q]"
   ]
  },
  {
   "cell_type": "code",
   "execution_count": 16,
   "metadata": {},
   "outputs": [],
   "source": [
    "def getRecall(posn):\n",
    "    score = 0\n",
    "    for key,value in data.items():\n",
    "        target = key.replace(\"_query\",\"\")\n",
    "        items = [filename for filename in value.keys()]\n",
    "        rank=items.index(target)+1\n",
    "        if rank<=posn:\n",
    "            score+=1\n",
    "    return score/len(data)"
   ]
  },
  {
   "cell_type": "code",
   "execution_count": 19,
   "metadata": {},
   "outputs": [
    {
     "data": {
      "text/plain": [
       "0.25"
      ]
     },
     "execution_count": 19,
     "metadata": {},
     "output_type": "execute_result"
    }
   ],
   "source": [
    "getRecall(1)"
   ]
  },
  {
   "cell_type": "code",
   "execution_count": 20,
   "metadata": {},
   "outputs": [],
   "source": [
    "def getMeanRank():\n",
    "    average_rank = 0\n",
    "    for key, value in data.items():\n",
    "        target = key.replace(\"_query\", \"\")\n",
    "        items = [filename for filename in value.keys()]\n",
    "        rank = items.index(target)+1\n",
    "        average_rank += rank\n",
    "    average_rank /= len(data)\n",
    "    return average_rank"
   ]
  },
  {
   "cell_type": "code",
   "execution_count": 21,
   "metadata": {},
   "outputs": [
    {
     "data": {
      "text/plain": [
       "31.9"
      ]
     },
     "execution_count": 21,
     "metadata": {},
     "output_type": "execute_result"
    }
   ],
   "source": [
    "getMeanRank()\n"
   ]
  },
  {
   "cell_type": "code",
   "execution_count": 97,
   "metadata": {},
   "outputs": [],
   "source": [
    "def getNormSim():\n",
    "    average_score = 0\n",
    "    for key, value in data.items():\n",
    "        target = key.replace(\"_query\", \"\")\n",
    "        items = [filename for filename in value.keys()]\n",
    "        topsim = value[items[0]]\n",
    "        sim = value[target]\n",
    "        average_score += sim/topsim\n",
    "    average_score /= len(data)\n",
    "    return average_score"
   ]
  },
  {
   "cell_type": "code",
   "execution_count": 76,
   "metadata": {},
   "outputs": [
    {
     "data": {
      "text/plain": [
       "0.9993012555899554"
      ]
     },
     "execution_count": 76,
     "metadata": {},
     "output_type": "execute_result"
    }
   ],
   "source": [
    "getNormSim()"
   ]
  },
  {
   "cell_type": "code",
   "execution_count": 53,
   "metadata": {},
   "outputs": [],
   "source": [
    "def getMargin(consider_only_top=False):\n",
    "    average_score = 0\n",
    "    total_len = len(data)\n",
    "    for key, value in data.items():\n",
    "        target = key.replace(\"_query\", \"\")\n",
    "        items = [filename for filename in value.keys()]      \n",
    "        idx = items.index(target)\n",
    "        if consider_only_top and idx==0:\n",
    "            sim1 = value[items[idx]]\n",
    "            sim2 = value[items[idx+1]]\n",
    "            topsim = value[items[0]]\n",
    "            average_score += (sim1-sim2)/topsim/(idx+1)\n",
    "        elif consider_only_top == False:\n",
    "            sim1 = value[items[idx]]\n",
    "            sim2 = value[items[idx+1]]\n",
    "            topsim = value[items[0]]\n",
    "            average_score += (sim1-sim2)/topsim/(idx+1)\n",
    "        else:\n",
    "            total_len-=1\n",
    "    average_score /= total_len\n",
    "    return average_score\n"
   ]
  },
  {
   "cell_type": "code",
   "execution_count": 54,
   "metadata": {},
   "outputs": [
    {
     "data": {
      "text/plain": [
       "0.2010032087043514"
      ]
     },
     "execution_count": 54,
     "metadata": {},
     "output_type": "execute_result"
    }
   ],
   "source": [
    "getMargin(True)"
   ]
  },
  {
   "cell_type": "code",
   "execution_count": 55,
   "metadata": {},
   "outputs": [],
   "source": [
    "def getAvgConfidence():\n",
    "    average_score = 0\n",
    "    for key, value in data.items():\n",
    "        target = key.replace(\"_query\", \"\")\n",
    "        items = [filename for filename in value.keys()]\n",
    "        sim = value[target]\n",
    "        average_score += sim\n",
    "    average_score /= len(data)\n",
    "    return average_score"
   ]
  },
  {
   "cell_type": "code",
   "execution_count": 56,
   "metadata": {},
   "outputs": [
    {
     "data": {
      "text/plain": [
       "0.7770556736971834"
      ]
     },
     "execution_count": 56,
     "metadata": {},
     "output_type": "execute_result"
    }
   ],
   "source": [
    "getAvgConfidence()"
   ]
  },
  {
   "cell_type": "code",
   "execution_count": null,
   "metadata": {},
   "outputs": [],
   "source": []
  }
 ],
 "metadata": {
  "interpreter": {
   "hash": "ed375616437d1b2aa7bee143630496d92aeefbddeec0f66e9ff788f086bd6b2a"
  },
  "kernelspec": {
   "display_name": "Python 3",
   "language": "python",
   "name": "python3"
  },
  "language_info": {
   "codemirror_mode": {
    "name": "ipython",
    "version": 3
   },
   "file_extension": ".py",
   "mimetype": "text/x-python",
   "name": "python",
   "nbconvert_exporter": "python",
   "pygments_lexer": "ipython3",
   "version": "3.7.6"
  }
 },
 "nbformat": 4,
 "nbformat_minor": 4
}
