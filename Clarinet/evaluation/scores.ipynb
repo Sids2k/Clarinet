{
 "cells": [
  {
   "cell_type": "code",
   "execution_count": 1,
   "metadata": {},
   "outputs": [],
   "source": [
    "import json"
   ]
  },
  {
   "cell_type": "code",
   "execution_count": 15,
   "metadata": {},
   "outputs": [],
   "source": [
    "# Load the data from the json file named res_time.json\n",
    "with open('res_time.json') as json_file:\n",
    "    data = json.load(json_file)\n"
   ]
  },
  {
   "cell_type": "code",
   "execution_count": 16,
   "metadata": {},
   "outputs": [],
   "source": [
    "average_rank=0\n",
    "for key, value in data.items():\n",
    "    target = key.replace(\"_query\",\"\")\n",
    "    items = [filename for filename in value.keys()]\n",
    "    rank=items.index(target)+1\n",
    "    average_rank+=rank\n",
    "average_rank/=len(data)\n",
    "\n"
   ]
  },
  {
   "cell_type": "code",
   "execution_count": 17,
   "metadata": {},
   "outputs": [
    {
     "name": "stdout",
     "output_type": "stream",
     "text": [
      "1.2688172043010753\n"
     ]
    }
   ],
   "source": [
    "print(average_rank)"
   ]
  },
  {
   "cell_type": "code",
   "execution_count": 18,
   "metadata": {},
   "outputs": [],
   "source": [
    "def getRecall(posn):\n",
    "    score = 0\n",
    "    for key,value in data.items():\n",
    "        target = key.replace(\"_query\",\"\")\n",
    "        items = [filename for filename in value.keys()]\n",
    "        rank=items.index(target)+1\n",
    "        if rank<=posn:\n",
    "            score+=1\n",
    "    return score/len(data)"
   ]
  },
  {
   "cell_type": "code",
   "execution_count": 26,
   "metadata": {},
   "outputs": [],
   "source": [
    "def getMeanRank():\n",
    "    average_rank = 0\n",
    "    for key, value in data.items():\n",
    "        target = key.replace(\"_query\", \"\")\n",
    "        items = [filename for filename in value.keys()]\n",
    "        rank = items.index(target)+1\n",
    "        average_rank += rank\n",
    "    average_rank /= len(data)\n",
    "    return average_rank"
   ]
  },
  {
   "cell_type": "code",
   "execution_count": 32,
   "metadata": {},
   "outputs": [],
   "source": [
    "def getNormSim():\n",
    "    average_score = 0\n",
    "    for key, value in data.items():\n",
    "        target = key.replace(\"_query\", \"\")\n",
    "        items = [filename for filename in value.keys()]\n",
    "        topsim = value[items[0]]\n",
    "        sim = value[target]\n",
    "        average_score += sim/topsim\n",
    "    average_score /= len(data)\n",
    "    return average_score"
   ]
  },
  {
   "cell_type": "code",
   "execution_count": 33,
   "metadata": {},
   "outputs": [
    {
     "data": {
      "text/plain": [
       "0.9798920629141341"
      ]
     },
     "execution_count": 33,
     "metadata": {},
     "output_type": "execute_result"
    }
   ],
   "source": [
    "getNormSim()"
   ]
  },
  {
   "cell_type": "code",
   "execution_count": 46,
   "metadata": {},
   "outputs": [],
   "source": [
    "def getMargin(consider_only_top=False):\n",
    "    average_score = 0\n",
    "    total_len = len(data)\n",
    "    for key, value in data.items():\n",
    "        target = key.replace(\"_query\", \"\")\n",
    "        items = [filename for filename in value.keys()]      \n",
    "        idx = items.index(target)\n",
    "        if consider_only_top and idx==0:\n",
    "            sim1 = value[items[idx]]\n",
    "            sim2 = value[items[idx+1]]\n",
    "            topsim = value[items[0]]\n",
    "            average_score += (sim1-sim2)/topsim/(idx+1)\n",
    "        elif consider_only_top == False:\n",
    "            sim1 = value[items[idx]]\n",
    "            sim2 = value[items[idx+1]]\n",
    "            topsim = value[items[0]]\n",
    "            average_score += (sim1-sim2)/topsim/(idx+1)\n",
    "        else:\n",
    "            total_len-=1\n",
    "    average_score /= total_len\n",
    "    return average_score\n"
   ]
  },
  {
   "cell_type": "code",
   "execution_count": 47,
   "metadata": {},
   "outputs": [
    {
     "data": {
      "text/plain": [
       "0.29685834749224077"
      ]
     },
     "execution_count": 47,
     "metadata": {},
     "output_type": "execute_result"
    }
   ],
   "source": [
    "getMargin(True)"
   ]
  },
  {
   "cell_type": "code",
   "execution_count": 48,
   "metadata": {},
   "outputs": [],
   "source": [
    "def getAvgConfidence():\n",
    "    average_score = 0\n",
    "    for key, value in data.items():\n",
    "        target = key.replace(\"_query\", \"\")\n",
    "        items = [filename for filename in value.keys()]\n",
    "        sim = value[target]\n",
    "        average_score += sim\n",
    "    average_score /= len(data)\n",
    "    return average_score"
   ]
  },
  {
   "cell_type": "code",
   "execution_count": 49,
   "metadata": {},
   "outputs": [
    {
     "data": {
      "text/plain": [
       "0.7952966612116776"
      ]
     },
     "execution_count": 49,
     "metadata": {},
     "output_type": "execute_result"
    }
   ],
   "source": [
    "getAvgConfidence()"
   ]
  },
  {
   "cell_type": "code",
   "execution_count": null,
   "metadata": {},
   "outputs": [],
   "source": []
  }
 ],
 "metadata": {
  "interpreter": {
   "hash": "ed375616437d1b2aa7bee143630496d92aeefbddeec0f66e9ff788f086bd6b2a"
  },
  "kernelspec": {
   "display_name": "Python 3.7.6 64-bit",
   "language": "python",
   "name": "python3"
  },
  "language_info": {
   "codemirror_mode": {
    "name": "ipython",
    "version": 3
   },
   "file_extension": ".py",
   "mimetype": "text/x-python",
   "name": "python",
   "nbconvert_exporter": "python",
   "pygments_lexer": "ipython3",
   "version": "3.7.6"
  },
  "orig_nbformat": 4
 },
 "nbformat": 4,
 "nbformat_minor": 2
}
