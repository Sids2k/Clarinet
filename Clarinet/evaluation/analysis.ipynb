{
 "cells": [
  {
   "cell_type": "code",
   "execution_count": 1,
   "metadata": {},
   "outputs": [],
   "source": [
    "import numpy as np\n",
    "import pandas as pd\n",
    "import matplotlib.pyplot as plt \n",
    "import seaborn as sns\n",
    "sns.set_theme()"
   ]
  },
  {
   "cell_type": "code",
   "execution_count": 27,
   "metadata": {},
   "outputs": [],
   "source": [
    "results = \"results.json\"\n",
    "df = pd.read_json(results)\n",
    "df = df.transpose()\n",
    "\n",
    "# edit row names in df\n",
    "df.index = df.index.map(lambda x: x.replace(\"res_\", \"\"))\n",
    "df.index = df.index.map(lambda x: x.replace(\".json\", \"\"))\n",
    "df.index = df.index.map(lambda x: x.replace(\"text\", \"Text\"))\n",
    "df.index = df.index.map(lambda x: x.replace(\"_\", \"-\"))\n",
    "df = df.sort_values(by=['recall1'], ascending=False)\n",
    "#add new column at start called Melody Extractor\n",
    "df.insert(0, 'Processed', df.index.str.replace(\"Text-\", \"\").str.replace(\"time-\", \"\").str.replace(\"modified\", \"\").str.replace(\"skyline\", \"\").str.replace(\"-processed\", \"Processed\").str.replace(r'^\\s*$', \"Unprocessed\", regex=True))\n",
    "df.insert(0, 'Melody Extractor', df.index.str.replace(\"Text-\", \"\").str.replace(\"time-\", \"\").str.replace(\"-processed\", \"\").str.replace(\"modified\", \"Modified\").str.replace(\"skyline\", \"Skyline\"))\n",
    "df.insert(0, 'Similarity Method', df.index.str.replace(\"-modified\", \"\").str.replace(\"-skyline\", \"\").str.replace(\"-processed\", \"\").str.replace(\"time\", \"Time\"))\n",
    "\n",
    "\n",
    "df.reset_index(drop=True, inplace=True)\n",
    "df.to_csv(\"results.csv\",index=False)"
   ]
  },
  {
   "cell_type": "code",
   "execution_count": null,
   "metadata": {},
   "outputs": [],
   "source": []
  }
 ],
 "metadata": {
  "interpreter": {
   "hash": "ed375616437d1b2aa7bee143630496d92aeefbddeec0f66e9ff788f086bd6b2a"
  },
  "kernelspec": {
   "display_name": "Python 3.7.6 64-bit",
   "language": "python",
   "name": "python3"
  },
  "language_info": {
   "codemirror_mode": {
    "name": "ipython",
    "version": 3
   },
   "file_extension": ".py",
   "mimetype": "text/x-python",
   "name": "python",
   "nbconvert_exporter": "python",
   "pygments_lexer": "ipython3",
   "version": "3.7.6"
  }
 },
 "nbformat": 4,
 "nbformat_minor": 4
}
