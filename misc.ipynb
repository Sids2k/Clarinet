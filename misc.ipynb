{
 "cells": [
  {
   "cell_type": "code",
   "execution_count": null,
   "metadata": {},
   "outputs": [],
   "source": [
    "from Clarinet.evaluation import compile\n",
    "metrics=[\"Recall@1\",\"Recall@3\",\"Recall@5\",\"Recall@10\",\"Mean Rank\",\"Margin of Error\"]\n",
    "naming={\"Pitch\":[0,0.1],\"Extra\":[0,0.1],\"Deleted\":[0,0.1]}\n",
    "result_dirs=[\"Results/Noisy Queries\"]\n",
    "# for loop for above\n",
    "for result_dir in result_dirs:\n",
    "    for metric in metrics:\n",
    "            compile(result_dir,naming,metric)"
   ]
  },
  {
   "cell_type": "code",
   "execution_count": null,
   "metadata": {},
   "outputs": [],
   "source": [
    "from Clarinet.evaluation import trends\n",
    "import os\n",
    "\n",
    "folders=[\"Results/Analysis/Noisy Queries\"]\n",
    "# List of all folders inside the results folder\n",
    "for folder in folders:\n",
    "    # Find all csv files recursively inside result_dir\n",
    "    csv_files=[]\n",
    "    for root,dirs,files in os.walk(folder):\n",
    "        for file in files:\n",
    "            if file.endswith(\".csv\"):\n",
    "                csv_files.append(os.path.join(root,file))\n",
    "    # For each csv file, plot the trends\n",
    "    for csv_file in csv_files:\n",
    "        trends(csv_file,\"Pitch\")\n",
    "        trends(csv_file,\"Extra\")\n",
    "        trends(csv_file,\"Deleted\")"
   ]
  },
  {
   "cell_type": "code",
   "execution_count": 34,
   "metadata": {},
   "outputs": [
    {
     "name": "stdout",
     "output_type": "stream",
     "text": [
      "(320, 512, 4)\n",
      "(320, 512)\n",
      "99.0460205078125\n"
     ]
    }
   ],
   "source": [
    "import numpy as np\n",
    "channel=0\n",
    "print(np.load('pop909_test.npy').shape)\n",
    "print(np.load('pop909_test_velans.npy').shape)\n",
    "test = np.load('pop909_test.npy')[:,:,channel]\n",
    "melody=np.load('pop909_test_velans.npy')\n",
    "change=test-melody\n",
    "\n",
    "percent_change=100*np.count_nonzero(change)/np.prod(change.shape)\n",
    "print(percent_change)"
   ]
  },
  {
   "cell_type": "code",
   "execution_count": null,
   "metadata": {},
   "outputs": [],
   "source": []
  }
 ],
 "metadata": {
  "interpreter": {
   "hash": "40d3a090f54c6569ab1632332b64b2c03c39dcf918b08424e98f38b5ae0af88f"
  },
  "kernelspec": {
   "display_name": "Python 3.7.6 ('base')",
   "language": "python",
   "name": "python3"
  },
  "language_info": {
   "codemirror_mode": {
    "name": "ipython",
    "version": 3
   },
   "file_extension": ".py",
   "mimetype": "text/x-python",
   "name": "python",
   "nbconvert_exporter": "python",
   "pygments_lexer": "ipython3",
   "version": "3.7.6"
  },
  "orig_nbformat": 4
 },
 "nbformat": 4,
 "nbformat_minor": 2
}
