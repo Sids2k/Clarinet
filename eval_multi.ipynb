{
 "cells": [
  {
   "cell_type": "code",
   "execution_count": 1,
   "metadata": {},
   "outputs": [],
   "source": [
    "from evaluate import computeScores\n",
    "import json\n",
    "from tqdm import tqdm\n",
    "import os\n",
    "from os import listdir\n",
    "from evaluate import analyse\n"
   ]
  },
  {
   "cell_type": "code",
   "execution_count": 2,
   "metadata": {},
   "outputs": [
    {
     "name": "stderr",
     "output_type": "stream",
     "text": [
      "100%|██████████| 10/10 [03:40<00:00, 22.06s/it]\n"
     ]
    }
   ],
   "source": [
    "# Noise Experiment \n",
    "\n",
    "# Query Folders to be named as pitch_extranotes_deleted\n",
    "\n",
    "collection_dir=\"Text/Original Collection\"\n",
    "\n",
    "query_folders_location=\"Text/Noisy Queries\"\n",
    "\n",
    "for query_dir in tqdm(listdir(query_folders_location)[:10]):\n",
    "    output_dir=f\"Results/NoisyResults/{query_dir}\"\n",
    "    if not os.path.exists(output_dir):\n",
    "        os.makedirs(output_dir)\n",
    "    query_dir=f\"{query_folders_location}/{query_dir}\"\n",
    "    computeScores(query_dir,collection_dir,num_queries=2,num_collection=909,similarity_type=\"text\",output_dir=output_dir,stride_length=10)"
   ]
  },
  {
   "cell_type": "code",
   "execution_count": 15,
   "metadata": {},
   "outputs": [
    {
     "data": {
      "image/png": "[encoded data removed]",
      "text/plain": [
       "<Figure size 432x288 with 1 Axes>"
      ]
     },
     "metadata": {
      "needs_background": "light"
     },
     "output_type": "display_data"
    }
   ],
   "source": [
    "# Analysing trends with respect to noise functions-Plot Mean Rank\n",
    "import pandas as pd\n",
    "import matplotlib.pyplot as plt\n",
    "\n",
    "\n",
    "metric=\"Mean Rank\"\n",
    "noise=\"Pitch Change\"\n",
    "output_dir=\"Results/NoisyGraphs\"\n",
    "#result_folders=[\"Results/NoisyResults/1_2_3\",\"Results/NoisyResults/5_6_8\"]\n",
    "\n",
    "\n",
    "\n",
    "result_folders=[f\"Results/NoisyResults/{query_dir}\" for query_dir in listdir(\"Results/NoisyResults\")]\n",
    "\n",
    "noise2index={\n",
    "    \"Pitch Change\":0,\n",
    "    \"Extra Notes\":1,\n",
    "    \"Delete Notes\":2,\n",
    "}\n",
    "\n",
    "\n",
    "metric2index={\n",
    "    \"Recall@1\":0,\n",
    "    \"Recall@3\":1,\n",
    "    \"Recall@5\":2,\n",
    "    \"Recall@10\":3,\n",
    "    \"Mean Rank\":4,\n",
    "    \"Normalised Similarity\":5,\n",
    "    \"Margin of Error\":6,\n",
    "    \"Average Confidence\":7,\n",
    "    \"MRR\":8\n",
    "}\n",
    "\n",
    "metric_index=metric2index[metric]\n",
    "noise_index=noise2index[noise]\n",
    "\n",
    "noise_dict={}\n",
    "\n",
    "for folder in result_folders:\n",
    "    noise_value=float(folder.split(\"/\")[-1].split(\"_\")[noise_index])\n",
    "    try:\n",
    "        df=pd.read_csv(f\"{folder}/analysis.csv\")\n",
    "        metric_value=df.iloc[metric_index][\"Value\"]\n",
    "        noise_dict[noise_value]=metric_value\n",
    "        plt.scatter(noise_value,metric_value,c=\"r\")\n",
    "    except:\n",
    "        print(folder)\n",
    "\n",
    "X=list(noise_dict.keys())\n",
    "Y=list(noise_dict.values())\n",
    "\n",
    "\n",
    "plt.title(f\"{metric} vs {noise}\", fontsize=12, weight='bold')\n",
    "plt.xlabel(f\"{noise}(%)\", fontsize=12)\n",
    "plt.ylabel(f\"{metric}\", fontsize=12)\n",
    "plt.savefig(f\"{output_dir}/{metric}VS{noise}.png\".replace(\" \",\"\"))"
   ]
  },
  {
   "cell_type": "code",
   "execution_count": null,
   "metadata": {},
   "outputs": [],
   "source": []
  }
 ],
 "metadata": {
  "interpreter": {
   "hash": "aee8b7b246df8f9039afb4144a1f6fd8d2ca17a180786b69acc140d282b71a49"
  },
  "kernelspec": {
   "display_name": "Python 3",
   "language": "python",
   "name": "python3"
  },
  "language_info": {
   "codemirror_mode": {
    "name": "ipython",
    "version": 3
   },
   "file_extension": ".py",
   "mimetype": "text/x-python",
   "name": "python",
   "nbconvert_exporter": "python",
   "pygments_lexer": "ipython3",
   "version": "3.7.6"
  }
 },
 "nbformat": 4,
 "nbformat_minor": 4
}
