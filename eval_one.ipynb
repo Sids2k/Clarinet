{
 "cells": [
  {
   "cell_type": "code",
   "execution_count": null,
   "metadata": {},
   "outputs": [],
   "source": [
    "from evaluate import computeScores\n",
    "import json\n",
    "from tqdm import tqdm\n",
    "import os\n",
    "from os import listdir\n",
    "from evaluate import analyse"
   ]
  },
  {
   "cell_type": "code",
   "execution_count": null,
   "metadata": {},
   "outputs": [],
   "source": [
    "# Query Folders to be named as pitch_extranotes_deleted\n",
    "\n",
    "collection_dir=\"Data/Original Collection\"\n",
    "\n",
    "query_dir=\"Data/Expected Noise Queries\"\n",
    "\n",
    "output_dir=\"Results/ExpectedNoisyResults/\"\n",
    "\n",
    "stride_length=15\n",
    "\n",
    "num_queries=-1\n",
    "\n",
    "num_collection=-1\n",
    "\n",
    "if not os.path.exists(output_dir):\n",
    "    os.makedirs(output_dir)\n",
    "computeScores(query_dir,collection_dir,stride_length=stride_length,similarity_type=\"text\",output_dir=output_dir,num_queries=num_queries,num_collection=num_collection)"
   ]
  }
 ],
 "metadata": {
  "kernelspec": {
   "display_name": "Python 3",
   "language": "python",
   "name": "python3"
  },
  "language_info": {
   "codemirror_mode": {
    "name": "ipython",
    "version": 3
   },
   "file_extension": ".py",
   "mimetype": "text/x-python",
   "name": "python",
   "nbconvert_exporter": "python",
   "pygments_lexer": "ipython3",
   "version": "3.7.6"
  }
 },
 "nbformat": 4,
 "nbformat_minor": 4
}
